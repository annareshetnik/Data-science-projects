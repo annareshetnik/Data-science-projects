{
 "cells": [
  {
   "cell_type": "markdown",
   "metadata": {},
   "source": [
    "# Determining the cost of cars"
   ]
  },
  {
   "cell_type": "markdown",
   "metadata": {},
   "source": [
    "Service for the sale of used cars is developing an application to attract new customers. In it, customers can quickly find out the market value of their car. At our disposal are historical data: technical specifications, equipment and prices of cars. We need to build a model to determine the cost.\n",
    "\n",
    "It is important for the client:\n",
    "\n",
    "- quality of prediction;\n",
    "- model prediction speed;\n",
    "- model training speed."
   ]
  },
  {
   "cell_type": "markdown",
   "metadata": {},
   "source": [
    "## Preparing data for analysis"
   ]
  },
  {
   "cell_type": "code",
   "execution_count": 202,
   "metadata": {},
   "outputs": [],
   "source": [
    "import pandas as pd\n",
    "pd.set_option('display.float_format', '{:,.2f}'.format)\n",
    "pd.set_option('display.max_rows', 90)\n",
    "#pd.set_option('display.max_rows', None)\n",
    "import seaborn as sns\n",
    "import numpy as np\n",
    "import matplotlib.pyplot as plt\n",
    "\n",
    "import time\n",
    "\n",
    "from scipy import stats as st\n",
    "\n",
    "from sklearn.preprocessing import StandardScaler\n",
    "from sklearn.preprocessing import OrdinalEncoder\n",
    "from sklearn.preprocessing import OneHotEncoder\n",
    "from sklearn.utils import shuffle\n",
    "from sklearn.metrics import make_scorer\n",
    "\n",
    "from sklearn.model_selection import train_test_split\n",
    "from sklearn.model_selection import KFold\n",
    "from sklearn.model_selection import cross_val_score\n",
    "from sklearn.model_selection import GridSearchCV\n",
    "\n",
    "from sklearn.compose import ColumnTransformer\n",
    "\n",
    "from sklearn.pipeline import Pipeline\n",
    "\n",
    "from sklearn.linear_model import LinearRegression\n",
    "from sklearn import linear_model\n",
    "from sklearn.linear_model import ElasticNet\n",
    "from sklearn.tree import DecisionTreeRegressor\n",
    "from sklearn.ensemble import RandomForestRegressor\n",
    "\n",
    "from sklearn.metrics import mean_squared_error\n",
    "from sklearn.metrics import r2_score\n",
    "from sklearn.metrics import mean_absolute_error\n"
   ]
  },
  {
   "cell_type": "code",
   "execution_count": 203,
   "metadata": {
    "scrolled": true
   },
   "outputs": [
    {
     "name": "stdout",
     "output_type": "stream",
     "text": [
      "Requirement already satisfied: lightgbm in c:\\users\\annar\\anaconda3\\lib\\site-packages (3.3.2)Note: you may need to restart the kernel to use updated packages.\n",
      "Requirement already satisfied: wheel in c:\\users\\annar\\anaconda3\\lib\\site-packages (from lightgbm) (0.37.0)\n",
      "Requirement already satisfied: numpy in c:\\users\\annar\\anaconda3\\lib\\site-packages (from lightgbm) (1.20.3)\n",
      "\n",
      "Requirement already satisfied: scipy in c:\\users\\annar\\anaconda3\\lib\\site-packages (from lightgbm) (1.7.1)\n",
      "Requirement already satisfied: scikit-learn!=0.22.0 in c:\\users\\annar\\anaconda3\\lib\\site-packages (from lightgbm) (0.24.2)\n",
      "Requirement already satisfied: joblib>=0.11 in c:\\users\\annar\\anaconda3\\lib\\site-packages (from scikit-learn!=0.22.0->lightgbm) (1.1.0)\n",
      "Requirement already satisfied: threadpoolctl>=2.0.0 in c:\\users\\annar\\anaconda3\\lib\\site-packages (from scikit-learn!=0.22.0->lightgbm) (2.2.0)\n"
     ]
    }
   ],
   "source": [
    "pip install lightgbm"
   ]
  },
  {
   "cell_type": "code",
   "execution_count": 204,
   "metadata": {},
   "outputs": [],
   "source": [
    "import lightgbm as light"
   ]
  },
  {
   "cell_type": "code",
   "execution_count": 205,
   "metadata": {},
   "outputs": [],
   "source": [
    "try:\n",
    "    df = pd.read_csv('C:/Users/annar/Yandex_Practicum/Sprint_14_Numerical_Methods/autos.csv') # Локальный путь\n",
    "except:\n",
    "    df_train = pd.read_csv('/datasets/autos.csv')  # Серверный путь"
   ]
  },
  {
   "cell_type": "code",
   "execution_count": 206,
   "metadata": {},
   "outputs": [],
   "source": [
    "def data_info(data):\n",
    "    return display(data.head()), display(data.info()), display(data.describe()), display(data.duplicated().sum()),display(data.isna().mean().apply('{:.1%}'.format))"
   ]
  },
  {
   "cell_type": "code",
   "execution_count": 207,
   "metadata": {
    "scrolled": false
   },
   "outputs": [
    {
     "data": {
      "text/html": [
       "<div>\n",
       "<style scoped>\n",
       "    .dataframe tbody tr th:only-of-type {\n",
       "        vertical-align: middle;\n",
       "    }\n",
       "\n",
       "    .dataframe tbody tr th {\n",
       "        vertical-align: top;\n",
       "    }\n",
       "\n",
       "    .dataframe thead th {\n",
       "        text-align: right;\n",
       "    }\n",
       "</style>\n",
       "<table border=\"1\" class=\"dataframe\">\n",
       "  <thead>\n",
       "    <tr style=\"text-align: right;\">\n",
       "      <th></th>\n",
       "      <th>DateCrawled</th>\n",
       "      <th>Price</th>\n",
       "      <th>VehicleType</th>\n",
       "      <th>RegistrationYear</th>\n",
       "      <th>Gearbox</th>\n",
       "      <th>Power</th>\n",
       "      <th>Model</th>\n",
       "      <th>Kilometer</th>\n",
       "      <th>RegistrationMonth</th>\n",
       "      <th>FuelType</th>\n",
       "      <th>Brand</th>\n",
       "      <th>NotRepaired</th>\n",
       "      <th>DateCreated</th>\n",
       "      <th>NumberOfPictures</th>\n",
       "      <th>PostalCode</th>\n",
       "      <th>LastSeen</th>\n",
       "    </tr>\n",
       "  </thead>\n",
       "  <tbody>\n",
       "    <tr>\n",
       "      <th>0</th>\n",
       "      <td>2016-03-24 11:52:17</td>\n",
       "      <td>480</td>\n",
       "      <td>NaN</td>\n",
       "      <td>1993</td>\n",
       "      <td>manual</td>\n",
       "      <td>0</td>\n",
       "      <td>golf</td>\n",
       "      <td>150000</td>\n",
       "      <td>0</td>\n",
       "      <td>petrol</td>\n",
       "      <td>volkswagen</td>\n",
       "      <td>NaN</td>\n",
       "      <td>2016-03-24 00:00:00</td>\n",
       "      <td>0</td>\n",
       "      <td>70435</td>\n",
       "      <td>2016-04-07 03:16:57</td>\n",
       "    </tr>\n",
       "    <tr>\n",
       "      <th>1</th>\n",
       "      <td>2016-03-24 10:58:45</td>\n",
       "      <td>18300</td>\n",
       "      <td>coupe</td>\n",
       "      <td>2011</td>\n",
       "      <td>manual</td>\n",
       "      <td>190</td>\n",
       "      <td>NaN</td>\n",
       "      <td>125000</td>\n",
       "      <td>5</td>\n",
       "      <td>gasoline</td>\n",
       "      <td>audi</td>\n",
       "      <td>yes</td>\n",
       "      <td>2016-03-24 00:00:00</td>\n",
       "      <td>0</td>\n",
       "      <td>66954</td>\n",
       "      <td>2016-04-07 01:46:50</td>\n",
       "    </tr>\n",
       "    <tr>\n",
       "      <th>2</th>\n",
       "      <td>2016-03-14 12:52:21</td>\n",
       "      <td>9800</td>\n",
       "      <td>suv</td>\n",
       "      <td>2004</td>\n",
       "      <td>auto</td>\n",
       "      <td>163</td>\n",
       "      <td>grand</td>\n",
       "      <td>125000</td>\n",
       "      <td>8</td>\n",
       "      <td>gasoline</td>\n",
       "      <td>jeep</td>\n",
       "      <td>NaN</td>\n",
       "      <td>2016-03-14 00:00:00</td>\n",
       "      <td>0</td>\n",
       "      <td>90480</td>\n",
       "      <td>2016-04-05 12:47:46</td>\n",
       "    </tr>\n",
       "    <tr>\n",
       "      <th>3</th>\n",
       "      <td>2016-03-17 16:54:04</td>\n",
       "      <td>1500</td>\n",
       "      <td>small</td>\n",
       "      <td>2001</td>\n",
       "      <td>manual</td>\n",
       "      <td>75</td>\n",
       "      <td>golf</td>\n",
       "      <td>150000</td>\n",
       "      <td>6</td>\n",
       "      <td>petrol</td>\n",
       "      <td>volkswagen</td>\n",
       "      <td>no</td>\n",
       "      <td>2016-03-17 00:00:00</td>\n",
       "      <td>0</td>\n",
       "      <td>91074</td>\n",
       "      <td>2016-03-17 17:40:17</td>\n",
       "    </tr>\n",
       "    <tr>\n",
       "      <th>4</th>\n",
       "      <td>2016-03-31 17:25:20</td>\n",
       "      <td>3600</td>\n",
       "      <td>small</td>\n",
       "      <td>2008</td>\n",
       "      <td>manual</td>\n",
       "      <td>69</td>\n",
       "      <td>fabia</td>\n",
       "      <td>90000</td>\n",
       "      <td>7</td>\n",
       "      <td>gasoline</td>\n",
       "      <td>skoda</td>\n",
       "      <td>no</td>\n",
       "      <td>2016-03-31 00:00:00</td>\n",
       "      <td>0</td>\n",
       "      <td>60437</td>\n",
       "      <td>2016-04-06 10:17:21</td>\n",
       "    </tr>\n",
       "  </tbody>\n",
       "</table>\n",
       "</div>"
      ],
      "text/plain": [
       "           DateCrawled  Price VehicleType  RegistrationYear Gearbox  Power  \\\n",
       "0  2016-03-24 11:52:17    480         NaN              1993  manual      0   \n",
       "1  2016-03-24 10:58:45  18300       coupe              2011  manual    190   \n",
       "2  2016-03-14 12:52:21   9800         suv              2004    auto    163   \n",
       "3  2016-03-17 16:54:04   1500       small              2001  manual     75   \n",
       "4  2016-03-31 17:25:20   3600       small              2008  manual     69   \n",
       "\n",
       "   Model  Kilometer  RegistrationMonth  FuelType       Brand NotRepaired  \\\n",
       "0   golf     150000                  0    petrol  volkswagen         NaN   \n",
       "1    NaN     125000                  5  gasoline        audi         yes   \n",
       "2  grand     125000                  8  gasoline        jeep         NaN   \n",
       "3   golf     150000                  6    petrol  volkswagen          no   \n",
       "4  fabia      90000                  7  gasoline       skoda          no   \n",
       "\n",
       "           DateCreated  NumberOfPictures  PostalCode             LastSeen  \n",
       "0  2016-03-24 00:00:00                 0       70435  2016-04-07 03:16:57  \n",
       "1  2016-03-24 00:00:00                 0       66954  2016-04-07 01:46:50  \n",
       "2  2016-03-14 00:00:00                 0       90480  2016-04-05 12:47:46  \n",
       "3  2016-03-17 00:00:00                 0       91074  2016-03-17 17:40:17  \n",
       "4  2016-03-31 00:00:00                 0       60437  2016-04-06 10:17:21  "
      ]
     },
     "metadata": {},
     "output_type": "display_data"
    },
    {
     "name": "stdout",
     "output_type": "stream",
     "text": [
      "<class 'pandas.core.frame.DataFrame'>\n",
      "RangeIndex: 354369 entries, 0 to 354368\n",
      "Data columns (total 16 columns):\n",
      " #   Column             Non-Null Count   Dtype \n",
      "---  ------             --------------   ----- \n",
      " 0   DateCrawled        354369 non-null  object\n",
      " 1   Price              354369 non-null  int64 \n",
      " 2   VehicleType        316879 non-null  object\n",
      " 3   RegistrationYear   354369 non-null  int64 \n",
      " 4   Gearbox            334536 non-null  object\n",
      " 5   Power              354369 non-null  int64 \n",
      " 6   Model              334664 non-null  object\n",
      " 7   Kilometer          354369 non-null  int64 \n",
      " 8   RegistrationMonth  354369 non-null  int64 \n",
      " 9   FuelType           321474 non-null  object\n",
      " 10  Brand              354369 non-null  object\n",
      " 11  NotRepaired        283215 non-null  object\n",
      " 12  DateCreated        354369 non-null  object\n",
      " 13  NumberOfPictures   354369 non-null  int64 \n",
      " 14  PostalCode         354369 non-null  int64 \n",
      " 15  LastSeen           354369 non-null  object\n",
      "dtypes: int64(7), object(9)\n",
      "memory usage: 43.3+ MB\n"
     ]
    },
    {
     "data": {
      "text/plain": [
       "None"
      ]
     },
     "metadata": {},
     "output_type": "display_data"
    },
    {
     "data": {
      "text/html": [
       "<div>\n",
       "<style scoped>\n",
       "    .dataframe tbody tr th:only-of-type {\n",
       "        vertical-align: middle;\n",
       "    }\n",
       "\n",
       "    .dataframe tbody tr th {\n",
       "        vertical-align: top;\n",
       "    }\n",
       "\n",
       "    .dataframe thead th {\n",
       "        text-align: right;\n",
       "    }\n",
       "</style>\n",
       "<table border=\"1\" class=\"dataframe\">\n",
       "  <thead>\n",
       "    <tr style=\"text-align: right;\">\n",
       "      <th></th>\n",
       "      <th>Price</th>\n",
       "      <th>RegistrationYear</th>\n",
       "      <th>Power</th>\n",
       "      <th>Kilometer</th>\n",
       "      <th>RegistrationMonth</th>\n",
       "      <th>NumberOfPictures</th>\n",
       "      <th>PostalCode</th>\n",
       "    </tr>\n",
       "  </thead>\n",
       "  <tbody>\n",
       "    <tr>\n",
       "      <th>count</th>\n",
       "      <td>354,369.00</td>\n",
       "      <td>354,369.00</td>\n",
       "      <td>354,369.00</td>\n",
       "      <td>354,369.00</td>\n",
       "      <td>354,369.00</td>\n",
       "      <td>354,369.00</td>\n",
       "      <td>354,369.00</td>\n",
       "    </tr>\n",
       "    <tr>\n",
       "      <th>mean</th>\n",
       "      <td>4,416.66</td>\n",
       "      <td>2,004.23</td>\n",
       "      <td>110.09</td>\n",
       "      <td>128,211.17</td>\n",
       "      <td>5.71</td>\n",
       "      <td>0.00</td>\n",
       "      <td>50,508.69</td>\n",
       "    </tr>\n",
       "    <tr>\n",
       "      <th>std</th>\n",
       "      <td>4,514.16</td>\n",
       "      <td>90.23</td>\n",
       "      <td>189.85</td>\n",
       "      <td>37,905.34</td>\n",
       "      <td>3.73</td>\n",
       "      <td>0.00</td>\n",
       "      <td>25,783.10</td>\n",
       "    </tr>\n",
       "    <tr>\n",
       "      <th>min</th>\n",
       "      <td>0.00</td>\n",
       "      <td>1,000.00</td>\n",
       "      <td>0.00</td>\n",
       "      <td>5,000.00</td>\n",
       "      <td>0.00</td>\n",
       "      <td>0.00</td>\n",
       "      <td>1,067.00</td>\n",
       "    </tr>\n",
       "    <tr>\n",
       "      <th>25%</th>\n",
       "      <td>1,050.00</td>\n",
       "      <td>1,999.00</td>\n",
       "      <td>69.00</td>\n",
       "      <td>125,000.00</td>\n",
       "      <td>3.00</td>\n",
       "      <td>0.00</td>\n",
       "      <td>30,165.00</td>\n",
       "    </tr>\n",
       "    <tr>\n",
       "      <th>50%</th>\n",
       "      <td>2,700.00</td>\n",
       "      <td>2,003.00</td>\n",
       "      <td>105.00</td>\n",
       "      <td>150,000.00</td>\n",
       "      <td>6.00</td>\n",
       "      <td>0.00</td>\n",
       "      <td>49,413.00</td>\n",
       "    </tr>\n",
       "    <tr>\n",
       "      <th>75%</th>\n",
       "      <td>6,400.00</td>\n",
       "      <td>2,008.00</td>\n",
       "      <td>143.00</td>\n",
       "      <td>150,000.00</td>\n",
       "      <td>9.00</td>\n",
       "      <td>0.00</td>\n",
       "      <td>71,083.00</td>\n",
       "    </tr>\n",
       "    <tr>\n",
       "      <th>max</th>\n",
       "      <td>20,000.00</td>\n",
       "      <td>9,999.00</td>\n",
       "      <td>20,000.00</td>\n",
       "      <td>150,000.00</td>\n",
       "      <td>12.00</td>\n",
       "      <td>0.00</td>\n",
       "      <td>99,998.00</td>\n",
       "    </tr>\n",
       "  </tbody>\n",
       "</table>\n",
       "</div>"
      ],
      "text/plain": [
       "           Price  RegistrationYear      Power  Kilometer  RegistrationMonth  \\\n",
       "count 354,369.00        354,369.00 354,369.00 354,369.00         354,369.00   \n",
       "mean    4,416.66          2,004.23     110.09 128,211.17               5.71   \n",
       "std     4,514.16             90.23     189.85  37,905.34               3.73   \n",
       "min         0.00          1,000.00       0.00   5,000.00               0.00   \n",
       "25%     1,050.00          1,999.00      69.00 125,000.00               3.00   \n",
       "50%     2,700.00          2,003.00     105.00 150,000.00               6.00   \n",
       "75%     6,400.00          2,008.00     143.00 150,000.00               9.00   \n",
       "max    20,000.00          9,999.00  20,000.00 150,000.00              12.00   \n",
       "\n",
       "       NumberOfPictures  PostalCode  \n",
       "count        354,369.00  354,369.00  \n",
       "mean               0.00   50,508.69  \n",
       "std                0.00   25,783.10  \n",
       "min                0.00    1,067.00  \n",
       "25%                0.00   30,165.00  \n",
       "50%                0.00   49,413.00  \n",
       "75%                0.00   71,083.00  \n",
       "max                0.00   99,998.00  "
      ]
     },
     "metadata": {},
     "output_type": "display_data"
    },
    {
     "data": {
      "text/plain": [
       "4"
      ]
     },
     "metadata": {},
     "output_type": "display_data"
    },
    {
     "data": {
      "text/plain": [
       "DateCrawled           0.0%\n",
       "Price                 0.0%\n",
       "VehicleType          10.6%\n",
       "RegistrationYear      0.0%\n",
       "Gearbox               5.6%\n",
       "Power                 0.0%\n",
       "Model                 5.6%\n",
       "Kilometer             0.0%\n",
       "RegistrationMonth     0.0%\n",
       "FuelType              9.3%\n",
       "Brand                 0.0%\n",
       "NotRepaired          20.1%\n",
       "DateCreated           0.0%\n",
       "NumberOfPictures      0.0%\n",
       "PostalCode            0.0%\n",
       "LastSeen              0.0%\n",
       "dtype: object"
      ]
     },
     "metadata": {},
     "output_type": "display_data"
    },
    {
     "data": {
      "text/plain": [
       "(None, None, None, None, None)"
      ]
     },
     "execution_count": 207,
     "metadata": {},
     "output_type": "execute_result"
    }
   ],
   "source": [
    "data_info(df)"
   ]
  },
  {
   "cell_type": "markdown",
   "metadata": {},
   "source": [
    "There are missing values in the data that will need to be processed. Also at the stage of study, it is clear that the data has anomalous values in the columns `Price`, `Power`, `RegistrationMonth`. These columns have a minimum value of `0`, which is an anomaly. For the `Price` column, the value `0` essentially means that there is no target feature value, so before training the model, the rows with a zero value in the `Price` column will need to be deleted. The `RegistrationYear` column has a minimum value of `1000`, which is also an anomaly."
   ]
  },
  {
   "cell_type": "markdown",
   "metadata": {},
   "source": [
    "### Handling Missing Values"
   ]
  },
  {
   "cell_type": "markdown",
   "metadata": {},
   "source": [
    "The columns `VehicleType`, `Gearbox`, `Model`, `FuelType`, `NotRepaired` have missing values. These columns contain categorical data. It is not advisable to manually replace the missing values based on the study of other features of the object, since this may take too much time and most likely will have little effect on the quality of the model. Therefore, we will replace the missing values with a stub."
   ]
  },
  {
   "cell_type": "code",
   "execution_count": 208,
   "metadata": {},
   "outputs": [],
   "source": [
    "# Replacing missing values in all columns with a stub\n",
    "df = df.fillna('Unknown')"
   ]
  },
  {
   "cell_type": "code",
   "execution_count": 209,
   "metadata": {},
   "outputs": [
    {
     "data": {
      "text/plain": [
       "DateCrawled          0.0%\n",
       "Price                0.0%\n",
       "VehicleType          0.0%\n",
       "RegistrationYear     0.0%\n",
       "Gearbox              0.0%\n",
       "Power                0.0%\n",
       "Model                0.0%\n",
       "Kilometer            0.0%\n",
       "RegistrationMonth    0.0%\n",
       "FuelType             0.0%\n",
       "Brand                0.0%\n",
       "NotRepaired          0.0%\n",
       "DateCreated          0.0%\n",
       "NumberOfPictures     0.0%\n",
       "PostalCode           0.0%\n",
       "LastSeen             0.0%\n",
       "dtype: object"
      ]
     },
     "execution_count": 209,
     "metadata": {},
     "output_type": "execute_result"
    }
   ],
   "source": [
    "# Checking that there are no missing values\n",
    "df.isna().mean().apply('{:.1%}'.format)"
   ]
  },
  {
   "cell_type": "markdown",
   "metadata": {},
   "source": [
    "### Exploring `DateCrawled`, `DateCreated`, `LastSeen` columns"
   ]
  },
  {
   "cell_type": "markdown",
   "metadata": {},
   "source": [
    "Let's examine the columns `DateCrawled`, `DateCreated`, `LastSeen`"
   ]
  },
  {
   "cell_type": "code",
   "execution_count": 210,
   "metadata": {},
   "outputs": [
    {
     "data": {
      "text/plain": [
       "2016    354369\n",
       "Name: YearCrawled, dtype: int64"
      ]
     },
     "execution_count": 210,
     "metadata": {},
     "output_type": "execute_result"
    }
   ],
   "source": [
    "# Creating a YearCrawled column\n",
    "df['YearCrawled'] = pd.to_datetime(df['DateCrawled'],format='%Y-%m-%d %H:%M:%S').dt.year\n",
    "df['YearCrawled'].value_counts()"
   ]
  },
  {
   "cell_type": "code",
   "execution_count": 211,
   "metadata": {},
   "outputs": [
    {
     "data": {
      "text/plain": [
       "2016    354343\n",
       "2015        25\n",
       "2014         1\n",
       "Name: YearCreated, dtype: int64"
      ]
     },
     "execution_count": 211,
     "metadata": {},
     "output_type": "execute_result"
    }
   ],
   "source": [
    "# Creating a YearCreated column \n",
    "df['YearCreated'] = pd.to_datetime(df['DateCreated'],format='%Y-%m-%d %H:%M:%S').dt.year\n",
    "df['YearCreated'].value_counts()"
   ]
  },
  {
   "cell_type": "code",
   "execution_count": 212,
   "metadata": {},
   "outputs": [
    {
     "data": {
      "text/plain": [
       "2016    354369\n",
       "Name: YearLastSeen, dtype: int64"
      ]
     },
     "execution_count": 212,
     "metadata": {},
     "output_type": "execute_result"
    }
   ],
   "source": [
    "# Creating a YearLastSeen column\n",
    "df['YearLastSeen'] = pd.to_datetime(df['LastSeen'],format='%Y-%m-%d %H:%M:%S').dt.year\n",
    "df['YearLastSeen'].value_counts()"
   ]
  },
  {
   "cell_type": "markdown",
   "metadata": {},
   "source": [
    "Almost all the values in the `DateCrawled`, `DateCreated`, `LastSeen` columns refer to 2016, so we will not use them when training the model"
   ]
  },
  {
   "cell_type": "markdown",
   "metadata": {},
   "source": [
    "### Deleting rows with anomalous feature values"
   ]
  },
  {
   "cell_type": "code",
   "execution_count": 213,
   "metadata": {
    "scrolled": false
   },
   "outputs": [
    {
     "data": {
      "text/plain": [
       "Index(['DateCrawled', 'Price', 'VehicleType', 'RegistrationYear', 'Gearbox',\n",
       "       'Power', 'Model', 'Kilometer', 'RegistrationMonth', 'FuelType', 'Brand',\n",
       "       'NotRepaired', 'DateCreated', 'NumberOfPictures', 'PostalCode',\n",
       "       'LastSeen', 'YearCrawled', 'YearCreated', 'YearLastSeen'],\n",
       "      dtype='object')"
      ]
     },
     "execution_count": 213,
     "metadata": {},
     "output_type": "execute_result"
    }
   ],
   "source": [
    "df.columns"
   ]
  },
  {
   "cell_type": "code",
   "execution_count": 214,
   "metadata": {},
   "outputs": [],
   "source": [
    "# Categorical Features\n",
    "cat_names=[ 'VehicleType','Gearbox','Model', 'FuelType', 'Brand', 'NotRepaired']"
   ]
  },
  {
   "cell_type": "code",
   "execution_count": 215,
   "metadata": {},
   "outputs": [],
   "source": [
    "# Numerical features\n",
    "num_names = [ 'Price', 'RegistrationYear', 'Power', 'Kilometer', 'RegistrationMonth', 'NumberOfPictures', 'PostalCode']"
   ]
  },
  {
   "cell_type": "code",
   "execution_count": 216,
   "metadata": {},
   "outputs": [],
   "source": [
    "# Columns that will not be used when training the model\n",
    "minor_names=['DateCrawled','DateCreated', 'LastSeen', 'YearCrawled', 'YearCreated', 'YearLastSeen']"
   ]
  },
  {
   "cell_type": "code",
   "execution_count": 217,
   "metadata": {},
   "outputs": [],
   "source": [
    "def column_study(column):\n",
    "    display(column.hist(bins=30, legend=True))"
   ]
  },
  {
   "cell_type": "code",
   "execution_count": 218,
   "metadata": {
    "scrolled": false
   },
   "outputs": [
    {
     "data": {
      "text/plain": [
       "<AxesSubplot:>"
      ]
     },
     "metadata": {},
     "output_type": "display_data"
    },
    {
     "data": {
      "image/png": "[encoded data removed]",
      "text/plain": [
       "<Figure size 432x288 with 1 Axes>"
      ]
     },
     "metadata": {
      "needs_background": "light"
     },
     "output_type": "display_data"
    }
   ],
   "source": [
    "# Examining the 'Price' column\n",
    "column_study(df['Price'])"
   ]
  },
  {
   "cell_type": "code",
   "execution_count": 219,
   "metadata": {
    "scrolled": true
   },
   "outputs": [
    {
     "data": {
      "text/plain": [
       "Int64Index([     7,     40,     59,     89,    111,    115,    152,    154,\n",
       "               231,    268,\n",
       "            ...\n",
       "            354117, 354124, 354158, 354175, 354205, 354238, 354248, 354277,\n",
       "            354309, 354364],\n",
       "           dtype='int64', length=13314)"
      ]
     },
     "execution_count": 219,
     "metadata": {},
     "output_type": "execute_result"
    }
   ],
   "source": [
    "df.query('Price<100').index"
   ]
  },
  {
   "cell_type": "code",
   "execution_count": 220,
   "metadata": {},
   "outputs": [
    {
     "data": {
      "text/plain": [
       "3.757100649323163"
      ]
     },
     "execution_count": 220,
     "metadata": {},
     "output_type": "execute_result"
    }
   ],
   "source": [
    "# Percentage of rows with an abnormal target value\n",
    "len(df.query('Price<100'))/len(df)*100"
   ]
  },
  {
   "cell_type": "code",
   "execution_count": 221,
   "metadata": {},
   "outputs": [
    {
     "data": {
      "text/html": [
       "<div>\n",
       "<style scoped>\n",
       "    .dataframe tbody tr th:only-of-type {\n",
       "        vertical-align: middle;\n",
       "    }\n",
       "\n",
       "    .dataframe tbody tr th {\n",
       "        vertical-align: top;\n",
       "    }\n",
       "\n",
       "    .dataframe thead th {\n",
       "        text-align: right;\n",
       "    }\n",
       "</style>\n",
       "<table border=\"1\" class=\"dataframe\">\n",
       "  <thead>\n",
       "    <tr style=\"text-align: right;\">\n",
       "      <th></th>\n",
       "      <th>DateCrawled</th>\n",
       "      <th>Price</th>\n",
       "      <th>VehicleType</th>\n",
       "      <th>RegistrationYear</th>\n",
       "      <th>Gearbox</th>\n",
       "      <th>Power</th>\n",
       "      <th>Model</th>\n",
       "      <th>Kilometer</th>\n",
       "      <th>RegistrationMonth</th>\n",
       "      <th>FuelType</th>\n",
       "      <th>Brand</th>\n",
       "      <th>NotRepaired</th>\n",
       "      <th>DateCreated</th>\n",
       "      <th>NumberOfPictures</th>\n",
       "      <th>PostalCode</th>\n",
       "      <th>LastSeen</th>\n",
       "      <th>YearCrawled</th>\n",
       "      <th>YearCreated</th>\n",
       "      <th>YearLastSeen</th>\n",
       "    </tr>\n",
       "  </thead>\n",
       "  <tbody>\n",
       "  </tbody>\n",
       "</table>\n",
       "</div>"
      ],
      "text/plain": [
       "Empty DataFrame\n",
       "Columns: [DateCrawled, Price, VehicleType, RegistrationYear, Gearbox, Power, Model, Kilometer, RegistrationMonth, FuelType, Brand, NotRepaired, DateCreated, NumberOfPictures, PostalCode, LastSeen, YearCrawled, YearCreated, YearLastSeen]\n",
       "Index: []"
      ]
     },
     "execution_count": 221,
     "metadata": {},
     "output_type": "execute_result"
    }
   ],
   "source": [
    "# Removing columns with an abnormal target value\n",
    "df = df.drop(df.query('Price<100').index, axis=0)\n",
    "df.query('Price<100')"
   ]
  },
  {
   "cell_type": "code",
   "execution_count": 222,
   "metadata": {
    "scrolled": true
   },
   "outputs": [
    {
     "data": {
      "text/plain": [
       "<AxesSubplot:>"
      ]
     },
     "metadata": {},
     "output_type": "display_data"
    },
    {
     "data": {
      "image/png": "[encoded data removed]",
      "text/plain": [
       "<Figure size 432x288 with 1 Axes>"
      ]
     },
     "metadata": {
      "needs_background": "light"
     },
     "output_type": "display_data"
    }
   ],
   "source": [
    "# Examining the 'RegistrationYear' column\n",
    "column_study(df['RegistrationYear'])"
   ]
  },
  {
   "cell_type": "code",
   "execution_count": 223,
   "metadata": {},
   "outputs": [
    {
     "data": {
      "image/png": "[encoded data removed]",
      "text/plain": [
       "<Figure size 432x288 with 1 Axes>"
      ]
     },
     "metadata": {
      "needs_background": "light"
     },
     "output_type": "display_data"
    }
   ],
   "source": [
    "df.plot(x='RegistrationYear', y='Price', kind = 'scatter', title = 'Price chart')\n",
    "plt.show()"
   ]
  },
  {
   "cell_type": "code",
   "execution_count": 224,
   "metadata": {
    "scrolled": false
   },
   "outputs": [
    {
     "data": {
      "text/plain": [
       "13730"
      ]
     },
     "execution_count": 224,
     "metadata": {},
     "output_type": "execute_result"
    }
   ],
   "source": [
    "df.query('(RegistrationYear<1900) | (RegistrationYear>2016)')['RegistrationYear'].count()"
   ]
  },
  {
   "cell_type": "code",
   "execution_count": 225,
   "metadata": {},
   "outputs": [
    {
     "data": {
      "text/plain": [
       "4.025743648385157"
      ]
     },
     "execution_count": 225,
     "metadata": {},
     "output_type": "execute_result"
    }
   ],
   "source": [
    "# Percent of outliers in the RegistrationYear column\n",
    "len(df.query('(RegistrationYear<1900) | (RegistrationYear>2016)'))/len(df)*100"
   ]
  },
  {
   "cell_type": "code",
   "execution_count": 226,
   "metadata": {
    "scrolled": true
   },
   "outputs": [],
   "source": [
    "# Removing outliers from the RegistrationYear column\n",
    "df = df.drop(df.query('(RegistrationYear<1900) | (RegistrationYear>2016)').index, axis = 0)"
   ]
  },
  {
   "cell_type": "code",
   "execution_count": 227,
   "metadata": {
    "scrolled": true
   },
   "outputs": [
    {
     "data": {
      "text/html": [
       "<div>\n",
       "<style scoped>\n",
       "    .dataframe tbody tr th:only-of-type {\n",
       "        vertical-align: middle;\n",
       "    }\n",
       "\n",
       "    .dataframe tbody tr th {\n",
       "        vertical-align: top;\n",
       "    }\n",
       "\n",
       "    .dataframe thead th {\n",
       "        text-align: right;\n",
       "    }\n",
       "</style>\n",
       "<table border=\"1\" class=\"dataframe\">\n",
       "  <thead>\n",
       "    <tr style=\"text-align: right;\">\n",
       "      <th></th>\n",
       "      <th>DateCrawled</th>\n",
       "      <th>Price</th>\n",
       "      <th>VehicleType</th>\n",
       "      <th>RegistrationYear</th>\n",
       "      <th>Gearbox</th>\n",
       "      <th>Power</th>\n",
       "      <th>Model</th>\n",
       "      <th>Kilometer</th>\n",
       "      <th>RegistrationMonth</th>\n",
       "      <th>FuelType</th>\n",
       "      <th>Brand</th>\n",
       "      <th>NotRepaired</th>\n",
       "      <th>DateCreated</th>\n",
       "      <th>NumberOfPictures</th>\n",
       "      <th>PostalCode</th>\n",
       "      <th>LastSeen</th>\n",
       "      <th>YearCrawled</th>\n",
       "      <th>YearCreated</th>\n",
       "      <th>YearLastSeen</th>\n",
       "    </tr>\n",
       "  </thead>\n",
       "  <tbody>\n",
       "    <tr>\n",
       "      <th>0</th>\n",
       "      <td>2016-03-24 11:52:17</td>\n",
       "      <td>480</td>\n",
       "      <td>Unknown</td>\n",
       "      <td>1993</td>\n",
       "      <td>manual</td>\n",
       "      <td>0</td>\n",
       "      <td>golf</td>\n",
       "      <td>150000</td>\n",
       "      <td>0</td>\n",
       "      <td>petrol</td>\n",
       "      <td>volkswagen</td>\n",
       "      <td>Unknown</td>\n",
       "      <td>2016-03-24 00:00:00</td>\n",
       "      <td>0</td>\n",
       "      <td>70435</td>\n",
       "      <td>2016-04-07 03:16:57</td>\n",
       "      <td>2016</td>\n",
       "      <td>2016</td>\n",
       "      <td>2016</td>\n",
       "    </tr>\n",
       "    <tr>\n",
       "      <th>1</th>\n",
       "      <td>2016-03-24 10:58:45</td>\n",
       "      <td>18300</td>\n",
       "      <td>coupe</td>\n",
       "      <td>2011</td>\n",
       "      <td>manual</td>\n",
       "      <td>190</td>\n",
       "      <td>Unknown</td>\n",
       "      <td>125000</td>\n",
       "      <td>5</td>\n",
       "      <td>gasoline</td>\n",
       "      <td>audi</td>\n",
       "      <td>yes</td>\n",
       "      <td>2016-03-24 00:00:00</td>\n",
       "      <td>0</td>\n",
       "      <td>66954</td>\n",
       "      <td>2016-04-07 01:46:50</td>\n",
       "      <td>2016</td>\n",
       "      <td>2016</td>\n",
       "      <td>2016</td>\n",
       "    </tr>\n",
       "    <tr>\n",
       "      <th>2</th>\n",
       "      <td>2016-03-14 12:52:21</td>\n",
       "      <td>9800</td>\n",
       "      <td>suv</td>\n",
       "      <td>2004</td>\n",
       "      <td>auto</td>\n",
       "      <td>163</td>\n",
       "      <td>grand</td>\n",
       "      <td>125000</td>\n",
       "      <td>8</td>\n",
       "      <td>gasoline</td>\n",
       "      <td>jeep</td>\n",
       "      <td>Unknown</td>\n",
       "      <td>2016-03-14 00:00:00</td>\n",
       "      <td>0</td>\n",
       "      <td>90480</td>\n",
       "      <td>2016-04-05 12:47:46</td>\n",
       "      <td>2016</td>\n",
       "      <td>2016</td>\n",
       "      <td>2016</td>\n",
       "    </tr>\n",
       "    <tr>\n",
       "      <th>3</th>\n",
       "      <td>2016-03-17 16:54:04</td>\n",
       "      <td>1500</td>\n",
       "      <td>small</td>\n",
       "      <td>2001</td>\n",
       "      <td>manual</td>\n",
       "      <td>75</td>\n",
       "      <td>golf</td>\n",
       "      <td>150000</td>\n",
       "      <td>6</td>\n",
       "      <td>petrol</td>\n",
       "      <td>volkswagen</td>\n",
       "      <td>no</td>\n",
       "      <td>2016-03-17 00:00:00</td>\n",
       "      <td>0</td>\n",
       "      <td>91074</td>\n",
       "      <td>2016-03-17 17:40:17</td>\n",
       "      <td>2016</td>\n",
       "      <td>2016</td>\n",
       "      <td>2016</td>\n",
       "    </tr>\n",
       "    <tr>\n",
       "      <th>4</th>\n",
       "      <td>2016-03-31 17:25:20</td>\n",
       "      <td>3600</td>\n",
       "      <td>small</td>\n",
       "      <td>2008</td>\n",
       "      <td>manual</td>\n",
       "      <td>69</td>\n",
       "      <td>fabia</td>\n",
       "      <td>90000</td>\n",
       "      <td>7</td>\n",
       "      <td>gasoline</td>\n",
       "      <td>skoda</td>\n",
       "      <td>no</td>\n",
       "      <td>2016-03-31 00:00:00</td>\n",
       "      <td>0</td>\n",
       "      <td>60437</td>\n",
       "      <td>2016-04-06 10:17:21</td>\n",
       "      <td>2016</td>\n",
       "      <td>2016</td>\n",
       "      <td>2016</td>\n",
       "    </tr>\n",
       "    <tr>\n",
       "      <th>5</th>\n",
       "      <td>2016-04-04 17:36:23</td>\n",
       "      <td>650</td>\n",
       "      <td>sedan</td>\n",
       "      <td>1995</td>\n",
       "      <td>manual</td>\n",
       "      <td>102</td>\n",
       "      <td>3er</td>\n",
       "      <td>150000</td>\n",
       "      <td>10</td>\n",
       "      <td>petrol</td>\n",
       "      <td>bmw</td>\n",
       "      <td>yes</td>\n",
       "      <td>2016-04-04 00:00:00</td>\n",
       "      <td>0</td>\n",
       "      <td>33775</td>\n",
       "      <td>2016-04-06 19:17:07</td>\n",
       "      <td>2016</td>\n",
       "      <td>2016</td>\n",
       "      <td>2016</td>\n",
       "    </tr>\n",
       "    <tr>\n",
       "      <th>6</th>\n",
       "      <td>2016-04-01 20:48:51</td>\n",
       "      <td>2200</td>\n",
       "      <td>convertible</td>\n",
       "      <td>2004</td>\n",
       "      <td>manual</td>\n",
       "      <td>109</td>\n",
       "      <td>2_reihe</td>\n",
       "      <td>150000</td>\n",
       "      <td>8</td>\n",
       "      <td>petrol</td>\n",
       "      <td>peugeot</td>\n",
       "      <td>no</td>\n",
       "      <td>2016-04-01 00:00:00</td>\n",
       "      <td>0</td>\n",
       "      <td>67112</td>\n",
       "      <td>2016-04-05 18:18:39</td>\n",
       "      <td>2016</td>\n",
       "      <td>2016</td>\n",
       "      <td>2016</td>\n",
       "    </tr>\n",
       "    <tr>\n",
       "      <th>8</th>\n",
       "      <td>2016-04-04 23:42:13</td>\n",
       "      <td>14500</td>\n",
       "      <td>bus</td>\n",
       "      <td>2014</td>\n",
       "      <td>manual</td>\n",
       "      <td>125</td>\n",
       "      <td>c_max</td>\n",
       "      <td>30000</td>\n",
       "      <td>8</td>\n",
       "      <td>petrol</td>\n",
       "      <td>ford</td>\n",
       "      <td>Unknown</td>\n",
       "      <td>2016-04-04 00:00:00</td>\n",
       "      <td>0</td>\n",
       "      <td>94505</td>\n",
       "      <td>2016-04-04 23:42:13</td>\n",
       "      <td>2016</td>\n",
       "      <td>2016</td>\n",
       "      <td>2016</td>\n",
       "    </tr>\n",
       "    <tr>\n",
       "      <th>9</th>\n",
       "      <td>2016-03-17 10:53:50</td>\n",
       "      <td>999</td>\n",
       "      <td>small</td>\n",
       "      <td>1998</td>\n",
       "      <td>manual</td>\n",
       "      <td>101</td>\n",
       "      <td>golf</td>\n",
       "      <td>150000</td>\n",
       "      <td>0</td>\n",
       "      <td>Unknown</td>\n",
       "      <td>volkswagen</td>\n",
       "      <td>Unknown</td>\n",
       "      <td>2016-03-17 00:00:00</td>\n",
       "      <td>0</td>\n",
       "      <td>27472</td>\n",
       "      <td>2016-03-31 17:17:06</td>\n",
       "      <td>2016</td>\n",
       "      <td>2016</td>\n",
       "      <td>2016</td>\n",
       "    </tr>\n",
       "    <tr>\n",
       "      <th>10</th>\n",
       "      <td>2016-03-26 19:54:18</td>\n",
       "      <td>2000</td>\n",
       "      <td>sedan</td>\n",
       "      <td>2004</td>\n",
       "      <td>manual</td>\n",
       "      <td>105</td>\n",
       "      <td>3_reihe</td>\n",
       "      <td>150000</td>\n",
       "      <td>12</td>\n",
       "      <td>petrol</td>\n",
       "      <td>mazda</td>\n",
       "      <td>no</td>\n",
       "      <td>2016-03-26 00:00:00</td>\n",
       "      <td>0</td>\n",
       "      <td>96224</td>\n",
       "      <td>2016-04-06 10:45:34</td>\n",
       "      <td>2016</td>\n",
       "      <td>2016</td>\n",
       "      <td>2016</td>\n",
       "    </tr>\n",
       "  </tbody>\n",
       "</table>\n",
       "</div>"
      ],
      "text/plain": [
       "            DateCrawled  Price  VehicleType  RegistrationYear Gearbox  Power  \\\n",
       "0   2016-03-24 11:52:17    480      Unknown              1993  manual      0   \n",
       "1   2016-03-24 10:58:45  18300        coupe              2011  manual    190   \n",
       "2   2016-03-14 12:52:21   9800          suv              2004    auto    163   \n",
       "3   2016-03-17 16:54:04   1500        small              2001  manual     75   \n",
       "4   2016-03-31 17:25:20   3600        small              2008  manual     69   \n",
       "5   2016-04-04 17:36:23    650        sedan              1995  manual    102   \n",
       "6   2016-04-01 20:48:51   2200  convertible              2004  manual    109   \n",
       "8   2016-04-04 23:42:13  14500          bus              2014  manual    125   \n",
       "9   2016-03-17 10:53:50    999        small              1998  manual    101   \n",
       "10  2016-03-26 19:54:18   2000        sedan              2004  manual    105   \n",
       "\n",
       "      Model  Kilometer  RegistrationMonth  FuelType       Brand NotRepaired  \\\n",
       "0      golf     150000                  0    petrol  volkswagen     Unknown   \n",
       "1   Unknown     125000                  5  gasoline        audi         yes   \n",
       "2     grand     125000                  8  gasoline        jeep     Unknown   \n",
       "3      golf     150000                  6    petrol  volkswagen          no   \n",
       "4     fabia      90000                  7  gasoline       skoda          no   \n",
       "5       3er     150000                 10    petrol         bmw         yes   \n",
       "6   2_reihe     150000                  8    petrol     peugeot          no   \n",
       "8     c_max      30000                  8    petrol        ford     Unknown   \n",
       "9      golf     150000                  0   Unknown  volkswagen     Unknown   \n",
       "10  3_reihe     150000                 12    petrol       mazda          no   \n",
       "\n",
       "            DateCreated  NumberOfPictures  PostalCode             LastSeen  \\\n",
       "0   2016-03-24 00:00:00                 0       70435  2016-04-07 03:16:57   \n",
       "1   2016-03-24 00:00:00                 0       66954  2016-04-07 01:46:50   \n",
       "2   2016-03-14 00:00:00                 0       90480  2016-04-05 12:47:46   \n",
       "3   2016-03-17 00:00:00                 0       91074  2016-03-17 17:40:17   \n",
       "4   2016-03-31 00:00:00                 0       60437  2016-04-06 10:17:21   \n",
       "5   2016-04-04 00:00:00                 0       33775  2016-04-06 19:17:07   \n",
       "6   2016-04-01 00:00:00                 0       67112  2016-04-05 18:18:39   \n",
       "8   2016-04-04 00:00:00                 0       94505  2016-04-04 23:42:13   \n",
       "9   2016-03-17 00:00:00                 0       27472  2016-03-31 17:17:06   \n",
       "10  2016-03-26 00:00:00                 0       96224  2016-04-06 10:45:34   \n",
       "\n",
       "    YearCrawled  YearCreated  YearLastSeen  \n",
       "0          2016         2016          2016  \n",
       "1          2016         2016          2016  \n",
       "2          2016         2016          2016  \n",
       "3          2016         2016          2016  \n",
       "4          2016         2016          2016  \n",
       "5          2016         2016          2016  \n",
       "6          2016         2016          2016  \n",
       "8          2016         2016          2016  \n",
       "9          2016         2016          2016  \n",
       "10         2016         2016          2016  "
      ]
     },
     "execution_count": 227,
     "metadata": {},
     "output_type": "execute_result"
    }
   ],
   "source": [
    "df.head(10)"
   ]
  },
  {
   "cell_type": "code",
   "execution_count": 228,
   "metadata": {},
   "outputs": [
    {
     "data": {
      "image/png": "[encoded data removed]",
      "text/plain": [
       "<Figure size 432x288 with 1 Axes>"
      ]
     },
     "metadata": {
      "needs_background": "light"
     },
     "output_type": "display_data"
    }
   ],
   "source": [
    "# Examining the 'RegistrationMonth' column\n",
    "df['RegistrationMonth'].value_counts().plot(kind = 'bar', title = 'Registration month')\n",
    "plt.show()"
   ]
  },
  {
   "cell_type": "markdown",
   "metadata": {},
   "source": [
    "Let's look on the correlation of the data in `RegistrationMonth` and `RegistrationYear` with `Price` column."
   ]
  },
  {
   "cell_type": "code",
   "execution_count": 229,
   "metadata": {},
   "outputs": [
    {
     "data": {
      "text/plain": [
       "0.08921795686497758"
      ]
     },
     "execution_count": 229,
     "metadata": {},
     "output_type": "execute_result"
    }
   ],
   "source": [
    "# Price and RegistrationMonth correlation\n",
    "df['RegistrationMonth'].corr(df['Price'])"
   ]
  },
  {
   "cell_type": "code",
   "execution_count": 230,
   "metadata": {},
   "outputs": [
    {
     "data": {
      "text/plain": [
       "0.44067829296960265"
      ]
     },
     "execution_count": 230,
     "metadata": {},
     "output_type": "execute_result"
    }
   ],
   "source": [
    "# Price and RegistrationYear correlation\n",
    "df['RegistrationYear'].corr(df['Price'])"
   ]
  },
  {
   "cell_type": "markdown",
   "metadata": {},
   "source": [
    "We observe strong positive correlation between the `RegistrationYear` and `Price` columns. It can be assumed that the `RegistrationYear` feature will be very important for our model."
   ]
  },
  {
   "cell_type": "code",
   "execution_count": 231,
   "metadata": {},
   "outputs": [
    {
     "data": {
      "text/plain": [
       "28244"
      ]
     },
     "execution_count": 231,
     "metadata": {},
     "output_type": "execute_result"
    }
   ],
   "source": [
    "# Number of outliers in the RegistrationMonth column (RegistrationMonth=0)\n",
    "df.query('RegistrationMonth==0')['RegistrationMonth'].count()"
   ]
  },
  {
   "cell_type": "code",
   "execution_count": 232,
   "metadata": {},
   "outputs": [
    {
     "data": {
      "text/plain": [
       "8.62873291071565"
      ]
     },
     "execution_count": 232,
     "metadata": {},
     "output_type": "execute_result"
    }
   ],
   "source": [
    "# Percentage of outliers in the RegistrationMonth column\n",
    "len(df.query('RegistrationMonth==0'))/len(df)*100"
   ]
  },
  {
   "cell_type": "code",
   "execution_count": 233,
   "metadata": {
    "scrolled": false
   },
   "outputs": [
    {
     "data": {
      "text/html": [
       "<div>\n",
       "<style scoped>\n",
       "    .dataframe tbody tr th:only-of-type {\n",
       "        vertical-align: middle;\n",
       "    }\n",
       "\n",
       "    .dataframe tbody tr th {\n",
       "        vertical-align: top;\n",
       "    }\n",
       "\n",
       "    .dataframe thead th {\n",
       "        text-align: right;\n",
       "    }\n",
       "</style>\n",
       "<table border=\"1\" class=\"dataframe\">\n",
       "  <thead>\n",
       "    <tr style=\"text-align: right;\">\n",
       "      <th></th>\n",
       "      <th>DateCrawled</th>\n",
       "      <th>Price</th>\n",
       "      <th>VehicleType</th>\n",
       "      <th>RegistrationYear</th>\n",
       "      <th>Gearbox</th>\n",
       "      <th>Power</th>\n",
       "      <th>Model</th>\n",
       "      <th>Kilometer</th>\n",
       "      <th>RegistrationMonth</th>\n",
       "      <th>FuelType</th>\n",
       "      <th>Brand</th>\n",
       "      <th>NotRepaired</th>\n",
       "      <th>DateCreated</th>\n",
       "      <th>NumberOfPictures</th>\n",
       "      <th>PostalCode</th>\n",
       "      <th>LastSeen</th>\n",
       "      <th>YearCrawled</th>\n",
       "      <th>YearCreated</th>\n",
       "      <th>YearLastSeen</th>\n",
       "    </tr>\n",
       "  </thead>\n",
       "  <tbody>\n",
       "    <tr>\n",
       "      <th>0</th>\n",
       "      <td>2016-03-24 11:52:17</td>\n",
       "      <td>480</td>\n",
       "      <td>Unknown</td>\n",
       "      <td>1993</td>\n",
       "      <td>manual</td>\n",
       "      <td>0</td>\n",
       "      <td>golf</td>\n",
       "      <td>150000</td>\n",
       "      <td>0</td>\n",
       "      <td>petrol</td>\n",
       "      <td>volkswagen</td>\n",
       "      <td>Unknown</td>\n",
       "      <td>2016-03-24 00:00:00</td>\n",
       "      <td>0</td>\n",
       "      <td>70435</td>\n",
       "      <td>2016-04-07 03:16:57</td>\n",
       "      <td>2016</td>\n",
       "      <td>2016</td>\n",
       "      <td>2016</td>\n",
       "    </tr>\n",
       "    <tr>\n",
       "      <th>9</th>\n",
       "      <td>2016-03-17 10:53:50</td>\n",
       "      <td>999</td>\n",
       "      <td>small</td>\n",
       "      <td>1998</td>\n",
       "      <td>manual</td>\n",
       "      <td>101</td>\n",
       "      <td>golf</td>\n",
       "      <td>150000</td>\n",
       "      <td>0</td>\n",
       "      <td>Unknown</td>\n",
       "      <td>volkswagen</td>\n",
       "      <td>Unknown</td>\n",
       "      <td>2016-03-17 00:00:00</td>\n",
       "      <td>0</td>\n",
       "      <td>27472</td>\n",
       "      <td>2016-03-31 17:17:06</td>\n",
       "      <td>2016</td>\n",
       "      <td>2016</td>\n",
       "      <td>2016</td>\n",
       "    </tr>\n",
       "    <tr>\n",
       "      <th>15</th>\n",
       "      <td>2016-03-11 21:39:15</td>\n",
       "      <td>450</td>\n",
       "      <td>small</td>\n",
       "      <td>1910</td>\n",
       "      <td>Unknown</td>\n",
       "      <td>0</td>\n",
       "      <td>ka</td>\n",
       "      <td>5000</td>\n",
       "      <td>0</td>\n",
       "      <td>petrol</td>\n",
       "      <td>ford</td>\n",
       "      <td>Unknown</td>\n",
       "      <td>2016-03-11 00:00:00</td>\n",
       "      <td>0</td>\n",
       "      <td>24148</td>\n",
       "      <td>2016-03-19 08:46:47</td>\n",
       "      <td>2016</td>\n",
       "      <td>2016</td>\n",
       "      <td>2016</td>\n",
       "    </tr>\n",
       "    <tr>\n",
       "      <th>16</th>\n",
       "      <td>2016-04-01 12:46:46</td>\n",
       "      <td>300</td>\n",
       "      <td>Unknown</td>\n",
       "      <td>2016</td>\n",
       "      <td>Unknown</td>\n",
       "      <td>60</td>\n",
       "      <td>polo</td>\n",
       "      <td>150000</td>\n",
       "      <td>0</td>\n",
       "      <td>petrol</td>\n",
       "      <td>volkswagen</td>\n",
       "      <td>Unknown</td>\n",
       "      <td>2016-04-01 00:00:00</td>\n",
       "      <td>0</td>\n",
       "      <td>38871</td>\n",
       "      <td>2016-04-01 12:46:46</td>\n",
       "      <td>2016</td>\n",
       "      <td>2016</td>\n",
       "      <td>2016</td>\n",
       "    </tr>\n",
       "    <tr>\n",
       "      <th>36</th>\n",
       "      <td>2016-03-11 11:50:37</td>\n",
       "      <td>1600</td>\n",
       "      <td>other</td>\n",
       "      <td>1991</td>\n",
       "      <td>manual</td>\n",
       "      <td>75</td>\n",
       "      <td>kadett</td>\n",
       "      <td>70000</td>\n",
       "      <td>0</td>\n",
       "      <td>Unknown</td>\n",
       "      <td>opel</td>\n",
       "      <td>Unknown</td>\n",
       "      <td>2016-03-11 00:00:00</td>\n",
       "      <td>0</td>\n",
       "      <td>2943</td>\n",
       "      <td>2016-04-07 03:46:09</td>\n",
       "      <td>2016</td>\n",
       "      <td>2016</td>\n",
       "      <td>2016</td>\n",
       "    </tr>\n",
       "  </tbody>\n",
       "</table>\n",
       "</div>"
      ],
      "text/plain": [
       "            DateCrawled  Price VehicleType  RegistrationYear  Gearbox  Power  \\\n",
       "0   2016-03-24 11:52:17    480     Unknown              1993   manual      0   \n",
       "9   2016-03-17 10:53:50    999       small              1998   manual    101   \n",
       "15  2016-03-11 21:39:15    450       small              1910  Unknown      0   \n",
       "16  2016-04-01 12:46:46    300     Unknown              2016  Unknown     60   \n",
       "36  2016-03-11 11:50:37   1600       other              1991   manual     75   \n",
       "\n",
       "     Model  Kilometer  RegistrationMonth FuelType       Brand NotRepaired  \\\n",
       "0     golf     150000                  0   petrol  volkswagen     Unknown   \n",
       "9     golf     150000                  0  Unknown  volkswagen     Unknown   \n",
       "15      ka       5000                  0   petrol        ford     Unknown   \n",
       "16    polo     150000                  0   petrol  volkswagen     Unknown   \n",
       "36  kadett      70000                  0  Unknown        opel     Unknown   \n",
       "\n",
       "            DateCreated  NumberOfPictures  PostalCode             LastSeen  \\\n",
       "0   2016-03-24 00:00:00                 0       70435  2016-04-07 03:16:57   \n",
       "9   2016-03-17 00:00:00                 0       27472  2016-03-31 17:17:06   \n",
       "15  2016-03-11 00:00:00                 0       24148  2016-03-19 08:46:47   \n",
       "16  2016-04-01 00:00:00                 0       38871  2016-04-01 12:46:46   \n",
       "36  2016-03-11 00:00:00                 0        2943  2016-04-07 03:46:09   \n",
       "\n",
       "    YearCrawled  YearCreated  YearLastSeen  \n",
       "0          2016         2016          2016  \n",
       "9          2016         2016          2016  \n",
       "15         2016         2016          2016  \n",
       "16         2016         2016          2016  \n",
       "36         2016         2016          2016  "
      ]
     },
     "execution_count": 233,
     "metadata": {},
     "output_type": "execute_result"
    }
   ],
   "source": [
    "df.query('RegistrationMonth==0').head()"
   ]
  },
  {
   "cell_type": "markdown",
   "metadata": {},
   "source": [
    "For now, let's not remove the anomalous values ​​in the RegistrationMonth column. Maybe it's a data entry error."
   ]
  },
  {
   "cell_type": "code",
   "execution_count": 234,
   "metadata": {
    "scrolled": true
   },
   "outputs": [
    {
     "data": {
      "image/png": "[encoded data removed]",
      "text/plain": [
       "<Figure size 432x288 with 1 Axes>"
      ]
     },
     "metadata": {
      "needs_background": "light"
     },
     "output_type": "display_data"
    }
   ],
   "source": [
    "# Изучаем столбец 'Power'\n",
    "df.plot(x='Power', y='Price', kind = 'scatter', title = 'Power chart')\n",
    "plt.show()"
   ]
  },
  {
   "cell_type": "code",
   "execution_count": 235,
   "metadata": {},
   "outputs": [],
   "source": [
    "# Minimum and maximum adequate vehicle power values\n",
    "max_p = 550\n",
    "min_p = 40"
   ]
  },
  {
   "cell_type": "code",
   "execution_count": 236,
   "metadata": {},
   "outputs": [
    {
     "data": {
      "text/plain": [
       "243"
      ]
     },
     "execution_count": 236,
     "metadata": {},
     "output_type": "execute_result"
    }
   ],
   "source": [
    "# Number of unique values of the 'Model' feature for which we have anomalous power values\n",
    "len(df.query('(Power>=@max_p)|(Power<=@min_p)')['Model'].unique())"
   ]
  },
  {
   "cell_type": "code",
   "execution_count": 237,
   "metadata": {
    "scrolled": true
   },
   "outputs": [
    {
     "data": {
      "text/plain": [
       "array(['golf', 'ka', 'kangoo', 'signum', 'astra', 'polo', 'a4',\n",
       "       'insignia', 'combo', 'corsa', '3er', '100', 'punto', 'Unknown',\n",
       "       'other', 'v40', 'a3', '7er', 'e_klasse', 'c_klasse', 'sharan',\n",
       "       'transporter', 'c1', 'fox', '6_reihe', 'c_max', '2_reihe', '5er',\n",
       "       'touran', 'cooper', 'lupo', 'x_reihe', 'mondeo', 'a2', 'twingo',\n",
       "       'fiesta', 'qashqai', 'fabia', 's_klasse', 'focus', 'civic', '1er',\n",
       "       'megane', 'caddy', 'kalos', 'laguna', 'transit', 'omega',\n",
       "       'cayenne', 'b_klasse', 'micra', 'corolla', 'clio', 'vito', 'clk',\n",
       "       '500', 'meriva', 'a_klasse', 'ibiza', 'escort', 'cordoba',\n",
       "       'passat', 'modus', 'a5', '3_reihe', 'v70', 'octavia', 'kaefer',\n",
       "       'agila', 'a6', 'fortwo', 'antara', 'espace', 'touareg', 'primera',\n",
       "       'picanto', 'bora', 'q7', 'berlingo', 'arosa', '1_reihe', 'leon',\n",
       "       'jetta', 'almera', 'tigra', 'ptcruiser', 'scenic', 'samara',\n",
       "       'galant', 'verso', 'swift', 'vectra', 'zafira', 'i_reihe',\n",
       "       'mx_reihe', 's_max', 'colt', 'roadster', '147', 'sandero',\n",
       "       'beetle', 'carnival', 'rav', 'galaxy', 'matiz', 'rio', 'grand',\n",
       "       'carisma', 'niva', 'logan', '850', 'cuore', '601', 'getz',\n",
       "       'superb', 'seicento', 'ypsilon', 'stilo', 'm_klasse', 'tt',\n",
       "       'v_klasse', 'one', 'c2', 'c5', 'lancer', '80', 'jimny', '4_reihe',\n",
       "       'auris', 'forester', 'move', 'panda', 'ducato', 'doblo',\n",
       "       'cr_reihe', 'sl', 'sprinter', 'duster', 'tiguan', 'tucson', 'aygo',\n",
       "       'roomster', 'ceed', 'fusion', 'vivaro', 'altea', 'g_klasse',\n",
       "       'cherokee', 's_type', 'lanos', '900', 'sirion', 'lybra', 'slk',\n",
       "       'croma', 'z_reihe', '156', 'r19', 'a8', 'impreza', 'spider', 'cl',\n",
       "       '145', 'scirocco', '5_reihe', 'x_type', 'jazz', 'terios', 'yaris',\n",
       "       'viano', 'm_reihe', 'juke', 'phaeton', '159', 'justy', 'bravo',\n",
       "       'c3', 'x_trail', 'mustang', '300c', 'toledo', 'freelander', '911',\n",
       "       'crossfire', '90', 'pajero', 'sorento', 'kadett', 'avensis',\n",
       "       'rx_reihe', 'forfour', 'santa', 'alhambra', 'navara', 'wrangler',\n",
       "       'yeti', 'accord', '6er', 'voyager', 'glk', 'a1', 'up', 'calibra',\n",
       "       'c4', 'aveo', 'boxster', 'charade', 'defender', 'note', 'sportage',\n",
       "       'legacy', 'delta', 'v50', 'nubira', 'lodgy', 'v60', 'musa', 'kuga',\n",
       "       'discovery', 'eos', 'range_rover', 'outlander', 'c_reihe', 'b_max',\n",
       "       'captiva', 'serie_2', 'spark', 'i3', 'range_rover_sport',\n",
       "       'cx_reihe', 'kappa', 'clubman', 'xc_reihe', 'rangerover', 'citigo',\n",
       "       'q5', 'kalina', 'materia', 'cc', 'serie_1', '9000', '200',\n",
       "       'elefantino'], dtype=object)"
      ]
     },
     "execution_count": 237,
     "metadata": {},
     "output_type": "execute_result"
    }
   ],
   "source": [
    "cars = df.query('(Power>=@max_p)|(Power<=@min_p)')['Model'].unique()\n",
    "cars"
   ]
  },
  {
   "cell_type": "code",
   "execution_count": 238,
   "metadata": {},
   "outputs": [
    {
     "data": {
      "text/plain": [
       "33547"
      ]
     },
     "execution_count": 238,
     "metadata": {},
     "output_type": "execute_result"
    }
   ],
   "source": [
    "# Number of rows with abnormal power values\n",
    "df.query('(Power>=@max_p)|(Power<=@min_p)')['Power'].count()"
   ]
  },
  {
   "cell_type": "code",
   "execution_count": 239,
   "metadata": {
    "scrolled": true
   },
   "outputs": [
    {
     "data": {
      "text/plain": [
       "10.248835255480028"
      ]
     },
     "execution_count": 239,
     "metadata": {},
     "output_type": "execute_result"
    }
   ],
   "source": [
    "# Percent of rows with abnormal power values\n",
    "len(df.query('(Power>=@max_p)|(Power<=@min_p)'))/len(df)*100"
   ]
  },
  {
   "cell_type": "markdown",
   "metadata": {},
   "source": [
    "Let's replace the anomalous values with the average power value according to the table for a particular model (if this model is presented in a dataset with adequate power)."
   ]
  },
  {
   "cell_type": "code",
   "execution_count": 240,
   "metadata": {},
   "outputs": [
    {
     "name": "stdout",
     "output_type": "stream",
     "text": [
      "golf 100.0 0\n",
      "ka 60.0 0\n",
      "kangoo 75.0 0\n",
      "signum 155.0 0\n",
      "astra 101.0 0\n",
      "polo 60.0 0\n",
      "a4 140.0 0\n",
      "insignia 160.0 0\n",
      "combo 75.0 0\n",
      "corsa 60.0 0\n",
      "3er 150.0 0\n",
      "100 133.0 0\n",
      "punto 60.0 0\n",
      "Unknown 80.0 0\n",
      "other 110.0 0\n",
      "v40 116.0 0\n",
      "a3 125.0 0\n",
      "7er 235.0 0\n",
      "e_klasse 170.0 0\n",
      "c_klasse 143.0 0\n",
      "sharan 116.0 0\n",
      "transporter 102.0 0\n",
      "c1 68.0 0\n",
      "fox 54.0 0\n",
      "6_reihe 121.0 0\n",
      "c_max 116.0 0\n",
      "2_reihe 88.0 0\n",
      "5er 177.0 0\n",
      "touran 136.0 0\n",
      "cooper 120.0 0\n",
      "lupo 50.0 0\n",
      "x_reihe 190.0 0\n",
      "mondeo 125.0 0\n",
      "a2 75.0 0\n",
      "twingo 58.0 0\n",
      "fiesta 68.0 0\n",
      "qashqai 131.0 0\n",
      "fabia 75.0 0\n",
      "s_klasse 231.0 0\n",
      "focus 101.0 0\n",
      "civic 90.0 0\n",
      "1er 143.0 0\n",
      "megane 107.0 0\n",
      "caddy 102.0 0\n",
      "kalos 83.0 0\n",
      "laguna 120.0 0\n",
      "transit 88.5 0\n",
      "omega 136.0 0\n",
      "cayenne 340.0 0\n",
      "b_klasse 116.0 0\n",
      "micra 60.0 0\n",
      "corolla 97.0 0\n",
      "clio 75.0 0\n",
      "vito 116.0 0\n",
      "clk 184.0 0\n",
      "500 69.0 0\n",
      "meriva 101.0 0\n",
      "a_klasse 95.0 0\n",
      "ibiza 75.0 0\n",
      "escort 90.0 0\n",
      "cordoba 75.0 0\n",
      "passat 131.0 0\n",
      "modus 75.0 0\n",
      "a5 190.0 0\n",
      "3_reihe 107.0 0\n",
      "v70 163.0 0\n",
      "octavia 116.0 0\n",
      "kaefer 34.0 231\n",
      "agila 60.0 0\n",
      "a6 179.0 0\n",
      "fortwo 61.0 0\n",
      "antara 150.0 0\n",
      "espace 140.0 0\n",
      "touareg 224.0 0\n",
      "primera 115.5 0\n",
      "picanto 65.0 0\n",
      "bora 110.0 0\n",
      "q7 232.0 0\n",
      "berlingo 90.0 0\n",
      "arosa 50.0 0\n",
      "1_reihe 60.0 0\n",
      "leon 125.0 0\n",
      "jetta 90.0 0\n",
      "almera 90.0 0\n",
      "tigra 90.0 0\n",
      "ptcruiser 140.0 0\n",
      "scenic 107.0 0\n",
      "samara 0.0 6\n",
      "galant 150.0 0\n",
      "verso 129.0 0\n",
      "swift 92.0 0\n",
      "vectra 116.0 0\n",
      "zafira 120.0 0\n",
      "i_reihe 90.0 0\n",
      "mx_reihe 110.0 0\n",
      "s_max 140.0 0\n",
      "colt 75.0 0\n",
      "roadster 82.0 0\n",
      "147 120.0 0\n",
      "sandero 75.0 0\n",
      "beetle 105.0 0\n",
      "carnival 144.0 0\n",
      "rav 150.0 0\n",
      "galaxy 116.0 0\n",
      "matiz 52.0 0\n",
      "rio 96.0 0\n",
      "grand 153.0 0\n",
      "carisma 116.0 0\n",
      "niva 82.0 0\n",
      "logan 76.5 0\n",
      "850 144.0 0\n",
      "cuore 56.0 0\n",
      "601 26.0 341\n",
      "getz 67.0 0\n",
      "superb 160.0 0\n",
      "seicento 54.0 0\n",
      "ypsilon 60.0 0\n",
      "stilo 103.0 0\n",
      "m_klasse 218.0 0\n",
      "tt 190.0 0\n",
      "v_klasse 122.0 0\n",
      "one 90.0 0\n",
      "c2 68.0 0\n",
      "c5 136.0 0\n",
      "lancer 113.0 0\n",
      "80 90.0 0\n",
      "jimny 86.0 0\n",
      "4_reihe 136.0 0\n",
      "auris 124.0 0\n",
      "forester 125.0 0\n",
      "move 42.0 0\n",
      "panda 60.0 0\n",
      "ducato 110.0 0\n",
      "doblo 84.0 0\n",
      "cr_reihe 140.0 0\n",
      "sl 231.0 0\n",
      "sprinter 109.0 0\n",
      "duster 105.0 0\n",
      "tiguan 140.0 0\n",
      "tucson 141.0 0\n",
      "aygo 68.0 0\n",
      "roomster 86.0 0\n",
      "ceed 116.0 0\n",
      "fusion 80.0 0\n",
      "vivaro 114.0 0\n",
      "altea 125.0 0\n",
      "g_klasse 113.0 0\n",
      "cherokee 171.0 0\n",
      "s_type 238.0 0\n",
      "lanos 75.0 0\n",
      "900 140.5 0\n",
      "sirion 69.0 0\n",
      "lybra 131.0 0\n",
      "slk 163.0 0\n",
      "croma 148.0 0\n",
      "z_reihe 170.0 0\n",
      "156 150.0 0\n",
      "r19 75.0 0\n",
      "a8 275.0 0\n",
      "impreza 125.0 0\n",
      "spider 150.0 0\n",
      "cl 306.0 0\n",
      "145 103.0 0\n",
      "scirocco 160.0 0\n",
      "5_reihe 143.0 0\n",
      "x_type 156.0 0\n",
      "jazz 83.0 0\n",
      "terios 105.0 0\n",
      "yaris 75.0 0\n",
      "viano 150.0 0\n",
      "m_reihe 343.0 0\n",
      "juke 117.0 0\n",
      "phaeton 239.0 0\n",
      "159 170.0 0\n",
      "justy 69.0 0\n",
      "bravo 103.0 0\n",
      "c3 73.0 0\n",
      "x_trail 136.0 0\n",
      "mustang 213.0 0\n",
      "300c 218.0 0\n",
      "toledo 105.0 0\n",
      "freelander 117.0 0\n",
      "911 300.0 0\n",
      "crossfire 218.0 0\n",
      "90 136.0 0\n",
      "pajero 150.0 0\n",
      "sorento 140.0 0\n",
      "kadett 60.0 0\n",
      "avensis 129.0 0\n",
      "rx_reihe 192.0 0\n",
      "forfour 75.0 0\n",
      "santa 145.0 0\n",
      "alhambra 116.0 0\n",
      "navara 171.0 0\n",
      "wrangler 148.0 0\n",
      "yeti 110.0 0\n",
      "accord 147.0 0\n",
      "6er 333.0 0\n",
      "voyager 147.0 0\n",
      "glk 170.0 0\n",
      "a1 90.0 0\n",
      "up 60.0 0\n",
      "calibra 116.0 0\n",
      "c4 109.0 0\n",
      "aveo 85.0 0\n",
      "boxster 220.0 0\n",
      "charade 75.0 0\n",
      "defender 122.0 0\n",
      "note 88.0 0\n",
      "sportage 136.0 0\n",
      "legacy 125.0 0\n",
      "delta 120.0 0\n",
      "v50 136.0 0\n",
      "nubira 120.0 0\n",
      "lodgy 107.0 0\n",
      "v60 163.0 0\n",
      "musa 95.0 0\n",
      "kuga 140.0 0\n",
      "discovery 190.0 0\n",
      "eos 140.0 0\n",
      "range_rover 182.0 0\n",
      "outlander 156.0 0\n",
      "c_reihe 145.0 0\n",
      "b_max 97.5 0\n",
      "captiva 150.0 0\n",
      "serie_2 69.0 0\n",
      "spark 68.0 0\n",
      "i3 115.5 0\n",
      "range_rover_sport 190.0 0\n",
      "cx_reihe 173.0 0\n",
      "kappa 155.0 0\n",
      "clubman 120.0 0\n",
      "xc_reihe 185.0 0\n",
      "rangerover 103.0 0\n",
      "citigo 60.0 0\n",
      "q5 211.0 0\n",
      "kalina 84.0 0\n",
      "materia 103.0 0\n",
      "cc 160.0 0\n",
      "serie_1 0.0 1\n",
      "9000 167.5 0\n",
      "200 182.0 0\n",
      "elefantino 60.0 0\n"
     ]
    }
   ],
   "source": [
    "# Replacing anomalous power values with the average value over the model\n",
    "# The average value is taken for rows with adequate power values for a particular model\n",
    "for item in cars:\n",
    "    median_val = 0\n",
    "    median_val = df.query('Model==@item').query('(Power<@max_p)|(Power>@min_p)')['Power'].median()\n",
    "    if median_val > min_p:\n",
    "        df.loc[(df['Model']==item) & ((df['Power']>=max_p)|(df['Power']<=min_p)), 'Power'] = median_val\n",
    "    print(item , median_val, df.query('Model==@item').query('(Power>=@max_p)|(Power<=@min_p)')['Power'].count())"
   ]
  },
  {
   "cell_type": "code",
   "execution_count": 241,
   "metadata": {
    "scrolled": false
   },
   "outputs": [
    {
     "data": {
      "text/plain": [
       "0.17688841365615215"
      ]
     },
     "execution_count": 241,
     "metadata": {},
     "output_type": "execute_result"
    }
   ],
   "source": [
    "# Percent of remaining columns with anomalous power\n",
    "len(df.query('(Power>=@max_p)|(Power<=@min_p)')['Power'])/len(df)*100"
   ]
  },
  {
   "cell_type": "markdown",
   "metadata": {},
   "source": [
    "Let's remove the columns with anomalous power remaining after filling with the median value (0.18% of the data)."
   ]
  },
  {
   "cell_type": "code",
   "execution_count": 242,
   "metadata": {},
   "outputs": [],
   "source": [
    "# Removing columns with abnormal power values\n",
    "df=df.drop(df.query('(Power>=@max_p)|(Power<=@min_p)').index,axis=0)"
   ]
  },
  {
   "cell_type": "code",
   "execution_count": 243,
   "metadata": {
    "scrolled": true
   },
   "outputs": [
    {
     "data": {
      "text/html": [
       "<div>\n",
       "<style scoped>\n",
       "    .dataframe tbody tr th:only-of-type {\n",
       "        vertical-align: middle;\n",
       "    }\n",
       "\n",
       "    .dataframe tbody tr th {\n",
       "        vertical-align: top;\n",
       "    }\n",
       "\n",
       "    .dataframe thead th {\n",
       "        text-align: right;\n",
       "    }\n",
       "</style>\n",
       "<table border=\"1\" class=\"dataframe\">\n",
       "  <thead>\n",
       "    <tr style=\"text-align: right;\">\n",
       "      <th></th>\n",
       "      <th>DateCrawled</th>\n",
       "      <th>Price</th>\n",
       "      <th>VehicleType</th>\n",
       "      <th>RegistrationYear</th>\n",
       "      <th>Gearbox</th>\n",
       "      <th>Power</th>\n",
       "      <th>Model</th>\n",
       "      <th>Kilometer</th>\n",
       "      <th>RegistrationMonth</th>\n",
       "      <th>FuelType</th>\n",
       "      <th>Brand</th>\n",
       "      <th>NotRepaired</th>\n",
       "      <th>DateCreated</th>\n",
       "      <th>NumberOfPictures</th>\n",
       "      <th>PostalCode</th>\n",
       "      <th>LastSeen</th>\n",
       "      <th>YearCrawled</th>\n",
       "      <th>YearCreated</th>\n",
       "      <th>YearLastSeen</th>\n",
       "    </tr>\n",
       "  </thead>\n",
       "  <tbody>\n",
       "    <tr>\n",
       "      <th>0</th>\n",
       "      <td>2016-03-24 11:52:17</td>\n",
       "      <td>480</td>\n",
       "      <td>Unknown</td>\n",
       "      <td>1993</td>\n",
       "      <td>manual</td>\n",
       "      <td>100.00</td>\n",
       "      <td>golf</td>\n",
       "      <td>150000</td>\n",
       "      <td>0</td>\n",
       "      <td>petrol</td>\n",
       "      <td>volkswagen</td>\n",
       "      <td>Unknown</td>\n",
       "      <td>2016-03-24 00:00:00</td>\n",
       "      <td>0</td>\n",
       "      <td>70435</td>\n",
       "      <td>2016-04-07 03:16:57</td>\n",
       "      <td>2016</td>\n",
       "      <td>2016</td>\n",
       "      <td>2016</td>\n",
       "    </tr>\n",
       "    <tr>\n",
       "      <th>1</th>\n",
       "      <td>2016-03-24 10:58:45</td>\n",
       "      <td>18300</td>\n",
       "      <td>coupe</td>\n",
       "      <td>2011</td>\n",
       "      <td>manual</td>\n",
       "      <td>190.00</td>\n",
       "      <td>Unknown</td>\n",
       "      <td>125000</td>\n",
       "      <td>5</td>\n",
       "      <td>gasoline</td>\n",
       "      <td>audi</td>\n",
       "      <td>yes</td>\n",
       "      <td>2016-03-24 00:00:00</td>\n",
       "      <td>0</td>\n",
       "      <td>66954</td>\n",
       "      <td>2016-04-07 01:46:50</td>\n",
       "      <td>2016</td>\n",
       "      <td>2016</td>\n",
       "      <td>2016</td>\n",
       "    </tr>\n",
       "    <tr>\n",
       "      <th>2</th>\n",
       "      <td>2016-03-14 12:52:21</td>\n",
       "      <td>9800</td>\n",
       "      <td>suv</td>\n",
       "      <td>2004</td>\n",
       "      <td>auto</td>\n",
       "      <td>163.00</td>\n",
       "      <td>grand</td>\n",
       "      <td>125000</td>\n",
       "      <td>8</td>\n",
       "      <td>gasoline</td>\n",
       "      <td>jeep</td>\n",
       "      <td>Unknown</td>\n",
       "      <td>2016-03-14 00:00:00</td>\n",
       "      <td>0</td>\n",
       "      <td>90480</td>\n",
       "      <td>2016-04-05 12:47:46</td>\n",
       "      <td>2016</td>\n",
       "      <td>2016</td>\n",
       "      <td>2016</td>\n",
       "    </tr>\n",
       "    <tr>\n",
       "      <th>3</th>\n",
       "      <td>2016-03-17 16:54:04</td>\n",
       "      <td>1500</td>\n",
       "      <td>small</td>\n",
       "      <td>2001</td>\n",
       "      <td>manual</td>\n",
       "      <td>75.00</td>\n",
       "      <td>golf</td>\n",
       "      <td>150000</td>\n",
       "      <td>6</td>\n",
       "      <td>petrol</td>\n",
       "      <td>volkswagen</td>\n",
       "      <td>no</td>\n",
       "      <td>2016-03-17 00:00:00</td>\n",
       "      <td>0</td>\n",
       "      <td>91074</td>\n",
       "      <td>2016-03-17 17:40:17</td>\n",
       "      <td>2016</td>\n",
       "      <td>2016</td>\n",
       "      <td>2016</td>\n",
       "    </tr>\n",
       "    <tr>\n",
       "      <th>4</th>\n",
       "      <td>2016-03-31 17:25:20</td>\n",
       "      <td>3600</td>\n",
       "      <td>small</td>\n",
       "      <td>2008</td>\n",
       "      <td>manual</td>\n",
       "      <td>69.00</td>\n",
       "      <td>fabia</td>\n",
       "      <td>90000</td>\n",
       "      <td>7</td>\n",
       "      <td>gasoline</td>\n",
       "      <td>skoda</td>\n",
       "      <td>no</td>\n",
       "      <td>2016-03-31 00:00:00</td>\n",
       "      <td>0</td>\n",
       "      <td>60437</td>\n",
       "      <td>2016-04-06 10:17:21</td>\n",
       "      <td>2016</td>\n",
       "      <td>2016</td>\n",
       "      <td>2016</td>\n",
       "    </tr>\n",
       "    <tr>\n",
       "      <th>...</th>\n",
       "      <td>...</td>\n",
       "      <td>...</td>\n",
       "      <td>...</td>\n",
       "      <td>...</td>\n",
       "      <td>...</td>\n",
       "      <td>...</td>\n",
       "      <td>...</td>\n",
       "      <td>...</td>\n",
       "      <td>...</td>\n",
       "      <td>...</td>\n",
       "      <td>...</td>\n",
       "      <td>...</td>\n",
       "      <td>...</td>\n",
       "      <td>...</td>\n",
       "      <td>...</td>\n",
       "      <td>...</td>\n",
       "      <td>...</td>\n",
       "      <td>...</td>\n",
       "      <td>...</td>\n",
       "    </tr>\n",
       "    <tr>\n",
       "      <th>326741</th>\n",
       "      <td>2016-03-27 20:36:20</td>\n",
       "      <td>1150</td>\n",
       "      <td>bus</td>\n",
       "      <td>2000</td>\n",
       "      <td>manual</td>\n",
       "      <td>120.00</td>\n",
       "      <td>zafira</td>\n",
       "      <td>150000</td>\n",
       "      <td>3</td>\n",
       "      <td>petrol</td>\n",
       "      <td>opel</td>\n",
       "      <td>no</td>\n",
       "      <td>2016-03-27 00:00:00</td>\n",
       "      <td>0</td>\n",
       "      <td>26624</td>\n",
       "      <td>2016-03-29 10:17:23</td>\n",
       "      <td>2016</td>\n",
       "      <td>2016</td>\n",
       "      <td>2016</td>\n",
       "    </tr>\n",
       "    <tr>\n",
       "      <th>326742</th>\n",
       "      <td>2016-03-14 17:48:27</td>\n",
       "      <td>2200</td>\n",
       "      <td>Unknown</td>\n",
       "      <td>2005</td>\n",
       "      <td>Unknown</td>\n",
       "      <td>80.00</td>\n",
       "      <td>Unknown</td>\n",
       "      <td>20000</td>\n",
       "      <td>1</td>\n",
       "      <td>Unknown</td>\n",
       "      <td>sonstige_autos</td>\n",
       "      <td>Unknown</td>\n",
       "      <td>2016-03-14 00:00:00</td>\n",
       "      <td>0</td>\n",
       "      <td>39576</td>\n",
       "      <td>2016-04-06 00:46:52</td>\n",
       "      <td>2016</td>\n",
       "      <td>2016</td>\n",
       "      <td>2016</td>\n",
       "    </tr>\n",
       "    <tr>\n",
       "      <th>326743</th>\n",
       "      <td>2016-03-05 19:56:21</td>\n",
       "      <td>1199</td>\n",
       "      <td>convertible</td>\n",
       "      <td>2000</td>\n",
       "      <td>auto</td>\n",
       "      <td>101.00</td>\n",
       "      <td>fortwo</td>\n",
       "      <td>125000</td>\n",
       "      <td>3</td>\n",
       "      <td>petrol</td>\n",
       "      <td>smart</td>\n",
       "      <td>no</td>\n",
       "      <td>2016-03-05 00:00:00</td>\n",
       "      <td>0</td>\n",
       "      <td>26135</td>\n",
       "      <td>2016-03-11 18:17:12</td>\n",
       "      <td>2016</td>\n",
       "      <td>2016</td>\n",
       "      <td>2016</td>\n",
       "    </tr>\n",
       "    <tr>\n",
       "      <th>326744</th>\n",
       "      <td>2016-03-19 18:57:12</td>\n",
       "      <td>9200</td>\n",
       "      <td>bus</td>\n",
       "      <td>1996</td>\n",
       "      <td>manual</td>\n",
       "      <td>102.00</td>\n",
       "      <td>transporter</td>\n",
       "      <td>150000</td>\n",
       "      <td>3</td>\n",
       "      <td>gasoline</td>\n",
       "      <td>volkswagen</td>\n",
       "      <td>no</td>\n",
       "      <td>2016-03-19 00:00:00</td>\n",
       "      <td>0</td>\n",
       "      <td>87439</td>\n",
       "      <td>2016-04-07 07:15:26</td>\n",
       "      <td>2016</td>\n",
       "      <td>2016</td>\n",
       "      <td>2016</td>\n",
       "    </tr>\n",
       "    <tr>\n",
       "      <th>326745</th>\n",
       "      <td>2016-03-20 19:41:08</td>\n",
       "      <td>3400</td>\n",
       "      <td>wagon</td>\n",
       "      <td>2002</td>\n",
       "      <td>manual</td>\n",
       "      <td>100.00</td>\n",
       "      <td>golf</td>\n",
       "      <td>150000</td>\n",
       "      <td>6</td>\n",
       "      <td>gasoline</td>\n",
       "      <td>volkswagen</td>\n",
       "      <td>Unknown</td>\n",
       "      <td>2016-03-20 00:00:00</td>\n",
       "      <td>0</td>\n",
       "      <td>40764</td>\n",
       "      <td>2016-03-24 12:45:21</td>\n",
       "      <td>2016</td>\n",
       "      <td>2016</td>\n",
       "      <td>2016</td>\n",
       "    </tr>\n",
       "  </tbody>\n",
       "</table>\n",
       "<p>326746 rows × 19 columns</p>\n",
       "</div>"
      ],
      "text/plain": [
       "                DateCrawled  Price  VehicleType  RegistrationYear  Gearbox  \\\n",
       "0       2016-03-24 11:52:17    480      Unknown              1993   manual   \n",
       "1       2016-03-24 10:58:45  18300        coupe              2011   manual   \n",
       "2       2016-03-14 12:52:21   9800          suv              2004     auto   \n",
       "3       2016-03-17 16:54:04   1500        small              2001   manual   \n",
       "4       2016-03-31 17:25:20   3600        small              2008   manual   \n",
       "...                     ...    ...          ...               ...      ...   \n",
       "326741  2016-03-27 20:36:20   1150          bus              2000   manual   \n",
       "326742  2016-03-14 17:48:27   2200      Unknown              2005  Unknown   \n",
       "326743  2016-03-05 19:56:21   1199  convertible              2000     auto   \n",
       "326744  2016-03-19 18:57:12   9200          bus              1996   manual   \n",
       "326745  2016-03-20 19:41:08   3400        wagon              2002   manual   \n",
       "\n",
       "        Power        Model  Kilometer  RegistrationMonth  FuelType  \\\n",
       "0      100.00         golf     150000                  0    petrol   \n",
       "1      190.00      Unknown     125000                  5  gasoline   \n",
       "2      163.00        grand     125000                  8  gasoline   \n",
       "3       75.00         golf     150000                  6    petrol   \n",
       "4       69.00        fabia      90000                  7  gasoline   \n",
       "...       ...          ...        ...                ...       ...   \n",
       "326741 120.00       zafira     150000                  3    petrol   \n",
       "326742  80.00      Unknown      20000                  1   Unknown   \n",
       "326743 101.00       fortwo     125000                  3    petrol   \n",
       "326744 102.00  transporter     150000                  3  gasoline   \n",
       "326745 100.00         golf     150000                  6  gasoline   \n",
       "\n",
       "                 Brand NotRepaired          DateCreated  NumberOfPictures  \\\n",
       "0           volkswagen     Unknown  2016-03-24 00:00:00                 0   \n",
       "1                 audi         yes  2016-03-24 00:00:00                 0   \n",
       "2                 jeep     Unknown  2016-03-14 00:00:00                 0   \n",
       "3           volkswagen          no  2016-03-17 00:00:00                 0   \n",
       "4                skoda          no  2016-03-31 00:00:00                 0   \n",
       "...                ...         ...                  ...               ...   \n",
       "326741            opel          no  2016-03-27 00:00:00                 0   \n",
       "326742  sonstige_autos     Unknown  2016-03-14 00:00:00                 0   \n",
       "326743           smart          no  2016-03-05 00:00:00                 0   \n",
       "326744      volkswagen          no  2016-03-19 00:00:00                 0   \n",
       "326745      volkswagen     Unknown  2016-03-20 00:00:00                 0   \n",
       "\n",
       "        PostalCode             LastSeen  YearCrawled  YearCreated  \\\n",
       "0            70435  2016-04-07 03:16:57         2016         2016   \n",
       "1            66954  2016-04-07 01:46:50         2016         2016   \n",
       "2            90480  2016-04-05 12:47:46         2016         2016   \n",
       "3            91074  2016-03-17 17:40:17         2016         2016   \n",
       "4            60437  2016-04-06 10:17:21         2016         2016   \n",
       "...            ...                  ...          ...          ...   \n",
       "326741       26624  2016-03-29 10:17:23         2016         2016   \n",
       "326742       39576  2016-04-06 00:46:52         2016         2016   \n",
       "326743       26135  2016-03-11 18:17:12         2016         2016   \n",
       "326744       87439  2016-04-07 07:15:26         2016         2016   \n",
       "326745       40764  2016-03-24 12:45:21         2016         2016   \n",
       "\n",
       "        YearLastSeen  \n",
       "0               2016  \n",
       "1               2016  \n",
       "2               2016  \n",
       "3               2016  \n",
       "4               2016  \n",
       "...              ...  \n",
       "326741          2016  \n",
       "326742          2016  \n",
       "326743          2016  \n",
       "326744          2016  \n",
       "326745          2016  \n",
       "\n",
       "[326746 rows x 19 columns]"
      ]
     },
     "execution_count": 243,
     "metadata": {},
     "output_type": "execute_result"
    }
   ],
   "source": [
    "df.reset_index(drop=True)"
   ]
  },
  {
   "cell_type": "code",
   "execution_count": 244,
   "metadata": {},
   "outputs": [
    {
     "data": {
      "text/plain": [
       "0"
      ]
     },
     "execution_count": 244,
     "metadata": {},
     "output_type": "execute_result"
    }
   ],
   "source": [
    "# Check that we got rid of columns with anomalous power values\n",
    "df.query('(Power>=@max_p)|(Power<=@min_p)')['Power'].count()"
   ]
  },
  {
   "cell_type": "code",
   "execution_count": 245,
   "metadata": {
    "scrolled": true
   },
   "outputs": [
    {
     "data": {
      "text/plain": [
       "<AxesSubplot:>"
      ]
     },
     "metadata": {},
     "output_type": "display_data"
    },
    {
     "data": {
      "image/png": "[encoded data removed]",
      "text/plain": [
       "<Figure size 432x288 with 1 Axes>"
      ]
     },
     "metadata": {
      "needs_background": "light"
     },
     "output_type": "display_data"
    }
   ],
   "source": [
    "# Examine the `Kilometer` column\n",
    "column_study(df['Kilometer'])"
   ]
  },
  {
   "cell_type": "code",
   "execution_count": 246,
   "metadata": {
    "scrolled": true
   },
   "outputs": [
    {
     "data": {
      "text/plain": [
       "<AxesSubplot:>"
      ]
     },
     "metadata": {},
     "output_type": "display_data"
    },
    {
     "data": {
      "image/png": "[encoded data removed]",
      "text/plain": [
       "<Figure size 432x288 with 1 Axes>"
      ]
     },
     "metadata": {
      "needs_background": "light"
     },
     "output_type": "display_data"
    }
   ],
   "source": [
    "# Examine the `PostalCode` column\n",
    "column_study(df['PostalCode'])"
   ]
  },
  {
   "cell_type": "code",
   "execution_count": 247,
   "metadata": {
    "scrolled": true
   },
   "outputs": [
    {
     "data": {
      "text/plain": [
       "<AxesSubplot:>"
      ]
     },
     "metadata": {},
     "output_type": "display_data"
    },
    {
     "data": {
      "image/png": "[encoded data removed]",
      "text/plain": [
       "<Figure size 432x288 with 1 Axes>"
      ]
     },
     "metadata": {
      "needs_background": "light"
     },
     "output_type": "display_data"
    }
   ],
   "source": [
    "# Examine the `NumberOfPictures` column\n",
    "column_study(df['NumberOfPictures'])"
   ]
  },
  {
   "cell_type": "markdown",
   "metadata": {},
   "source": [
    "### Examining columns with categorical features"
   ]
  },
  {
   "cell_type": "code",
   "execution_count": 248,
   "metadata": {
    "scrolled": true
   },
   "outputs": [
    {
     "data": {
      "image/png": "[encoded data removed]",
      "text/plain": [
       "<Figure size 432x288 with 1 Axes>"
      ]
     },
     "metadata": {
      "needs_background": "light"
     },
     "output_type": "display_data"
    }
   ],
   "source": [
    "# Examining the `Gearbox` column\n",
    "df['Gearbox'].value_counts().plot(kind = 'bar', title = 'Gearbox type')\n",
    "plt.show()"
   ]
  },
  {
   "cell_type": "code",
   "execution_count": 249,
   "metadata": {},
   "outputs": [
    {
     "data": {
      "image/png": "[encoded data removed]",
      "text/plain": [
       "<Figure size 432x288 with 1 Axes>"
      ]
     },
     "metadata": {
      "needs_background": "light"
     },
     "output_type": "display_data"
    }
   ],
   "source": [
    "# Examining the `VehicleType` column\n",
    "df['VehicleType'].value_counts().plot(kind = 'bar', title = 'Vehicle type')\n",
    "plt.show()"
   ]
  },
  {
   "cell_type": "code",
   "execution_count": 250,
   "metadata": {},
   "outputs": [
    {
     "data": {
      "image/png": "[encoded data removed]",
      "text/plain": [
       "<Figure size 432x288 with 1 Axes>"
      ]
     },
     "metadata": {
      "needs_background": "light"
     },
     "output_type": "display_data"
    }
   ],
   "source": [
    "# Examining the `FuelType` column\n",
    "df['FuelType'].value_counts().plot(kind = 'bar', legend=True, title = 'Fuel type' )\n",
    "plt.show()"
   ]
  },
  {
   "cell_type": "code",
   "execution_count": 251,
   "metadata": {
    "scrolled": true
   },
   "outputs": [
    {
     "data": {
      "image/png": "[encoded data removed]",
      "text/plain": [
       "<Figure size 432x288 with 1 Axes>"
      ]
     },
     "metadata": {
      "needs_background": "light"
     },
     "output_type": "display_data"
    }
   ],
   "source": [
    "# Examining the `Brand` column\n",
    "df['Brand'].value_counts().plot(kind = 'bar',legend=True, title = 'Brand')\n",
    "plt.show()"
   ]
  },
  {
   "cell_type": "code",
   "execution_count": 252,
   "metadata": {
    "scrolled": true
   },
   "outputs": [
    {
     "data": {
      "image/png": "[encoded data removed]",
      "text/plain": [
       "<Figure size 432x288 with 1 Axes>"
      ]
     },
     "metadata": {
      "needs_background": "light"
     },
     "output_type": "display_data"
    }
   ],
   "source": [
    "# Examining the `NotRepaired` column\n",
    "df['NotRepaired'].value_counts().plot(kind = 'bar',legend=True, title = 'Repaired')\n",
    "plt.show()"
   ]
  },
  {
   "cell_type": "code",
   "execution_count": 253,
   "metadata": {
    "scrolled": false
   },
   "outputs": [
    {
     "data": {
      "text/plain": [
       "golf                  26583\n",
       "other                 22981\n",
       "3er                   18571\n",
       "Unknown               15169\n",
       "polo                  11918\n",
       "                      ...  \n",
       "samara                    5\n",
       "rangerover                3\n",
       "serie_3                   3\n",
       "range_rover_evoque        2\n",
       "601                       2\n",
       "Name: Model, Length: 250, dtype: int64"
      ]
     },
     "execution_count": 253,
     "metadata": {},
     "output_type": "execute_result"
    }
   ],
   "source": [
    "# Examining the `Model` column\n",
    "df['Model'].value_counts()"
   ]
  },
  {
   "cell_type": "code",
   "execution_count": 254,
   "metadata": {
    "scrolled": false
   },
   "outputs": [
    {
     "data": {
      "text/plain": [
       "other                 38150\n",
       "golf                  26583\n",
       "3er                   18571\n",
       "polo                  11918\n",
       "corsa                 11443\n",
       "                      ...  \n",
       "samara                    5\n",
       "rangerover                3\n",
       "serie_3                   3\n",
       "range_rover_evoque        2\n",
       "601                       2\n",
       "Name: Model, Length: 249, dtype: int64"
      ]
     },
     "execution_count": 254,
     "metadata": {},
     "output_type": "execute_result"
    }
   ],
   "source": [
    "# We replace the 'Unknown' value with an 'other', because they have same meaning\n",
    "df.loc[df['Model']==\"Unknown\",'Model']='other'\n",
    "df['Model'].value_counts()"
   ]
  },
  {
   "cell_type": "markdown",
   "metadata": {},
   "source": [
    "### Removing duplicates"
   ]
  },
  {
   "cell_type": "code",
   "execution_count": 255,
   "metadata": {},
   "outputs": [
    {
     "data": {
      "text/plain": [
       "4"
      ]
     },
     "execution_count": 255,
     "metadata": {},
     "output_type": "execute_result"
    }
   ],
   "source": [
    "# Checking data for duplicates\n",
    "df.duplicated().sum()"
   ]
  },
  {
   "cell_type": "code",
   "execution_count": 256,
   "metadata": {},
   "outputs": [],
   "source": [
    "#Removing duplicates\n",
    "df = df.drop_duplicates()"
   ]
  },
  {
   "cell_type": "code",
   "execution_count": 257,
   "metadata": {
    "scrolled": false
   },
   "outputs": [
    {
     "data": {
      "text/plain": [
       "0"
      ]
     },
     "execution_count": 257,
     "metadata": {},
     "output_type": "execute_result"
    }
   ],
   "source": [
    "# Check if duplicates have been removed\n",
    "df.duplicated().sum()"
   ]
  },
  {
   "cell_type": "code",
   "execution_count": 258,
   "metadata": {
    "scrolled": true
   },
   "outputs": [
    {
     "data": {
      "text/html": [
       "<div>\n",
       "<style scoped>\n",
       "    .dataframe tbody tr th:only-of-type {\n",
       "        vertical-align: middle;\n",
       "    }\n",
       "\n",
       "    .dataframe tbody tr th {\n",
       "        vertical-align: top;\n",
       "    }\n",
       "\n",
       "    .dataframe thead th {\n",
       "        text-align: right;\n",
       "    }\n",
       "</style>\n",
       "<table border=\"1\" class=\"dataframe\">\n",
       "  <thead>\n",
       "    <tr style=\"text-align: right;\">\n",
       "      <th></th>\n",
       "      <th>DateCrawled</th>\n",
       "      <th>Price</th>\n",
       "      <th>VehicleType</th>\n",
       "      <th>RegistrationYear</th>\n",
       "      <th>Gearbox</th>\n",
       "      <th>Power</th>\n",
       "      <th>Model</th>\n",
       "      <th>Kilometer</th>\n",
       "      <th>RegistrationMonth</th>\n",
       "      <th>FuelType</th>\n",
       "      <th>Brand</th>\n",
       "      <th>NotRepaired</th>\n",
       "      <th>DateCreated</th>\n",
       "      <th>NumberOfPictures</th>\n",
       "      <th>PostalCode</th>\n",
       "      <th>LastSeen</th>\n",
       "      <th>YearCrawled</th>\n",
       "      <th>YearCreated</th>\n",
       "      <th>YearLastSeen</th>\n",
       "    </tr>\n",
       "  </thead>\n",
       "  <tbody>\n",
       "    <tr>\n",
       "      <th>0</th>\n",
       "      <td>2016-03-24 11:52:17</td>\n",
       "      <td>480</td>\n",
       "      <td>Unknown</td>\n",
       "      <td>1993</td>\n",
       "      <td>manual</td>\n",
       "      <td>100.00</td>\n",
       "      <td>golf</td>\n",
       "      <td>150000</td>\n",
       "      <td>0</td>\n",
       "      <td>petrol</td>\n",
       "      <td>volkswagen</td>\n",
       "      <td>Unknown</td>\n",
       "      <td>2016-03-24 00:00:00</td>\n",
       "      <td>0</td>\n",
       "      <td>70435</td>\n",
       "      <td>2016-04-07 03:16:57</td>\n",
       "      <td>2016</td>\n",
       "      <td>2016</td>\n",
       "      <td>2016</td>\n",
       "    </tr>\n",
       "    <tr>\n",
       "      <th>1</th>\n",
       "      <td>2016-03-24 10:58:45</td>\n",
       "      <td>18300</td>\n",
       "      <td>coupe</td>\n",
       "      <td>2011</td>\n",
       "      <td>manual</td>\n",
       "      <td>190.00</td>\n",
       "      <td>other</td>\n",
       "      <td>125000</td>\n",
       "      <td>5</td>\n",
       "      <td>gasoline</td>\n",
       "      <td>audi</td>\n",
       "      <td>yes</td>\n",
       "      <td>2016-03-24 00:00:00</td>\n",
       "      <td>0</td>\n",
       "      <td>66954</td>\n",
       "      <td>2016-04-07 01:46:50</td>\n",
       "      <td>2016</td>\n",
       "      <td>2016</td>\n",
       "      <td>2016</td>\n",
       "    </tr>\n",
       "    <tr>\n",
       "      <th>2</th>\n",
       "      <td>2016-03-14 12:52:21</td>\n",
       "      <td>9800</td>\n",
       "      <td>suv</td>\n",
       "      <td>2004</td>\n",
       "      <td>auto</td>\n",
       "      <td>163.00</td>\n",
       "      <td>grand</td>\n",
       "      <td>125000</td>\n",
       "      <td>8</td>\n",
       "      <td>gasoline</td>\n",
       "      <td>jeep</td>\n",
       "      <td>Unknown</td>\n",
       "      <td>2016-03-14 00:00:00</td>\n",
       "      <td>0</td>\n",
       "      <td>90480</td>\n",
       "      <td>2016-04-05 12:47:46</td>\n",
       "      <td>2016</td>\n",
       "      <td>2016</td>\n",
       "      <td>2016</td>\n",
       "    </tr>\n",
       "    <tr>\n",
       "      <th>3</th>\n",
       "      <td>2016-03-17 16:54:04</td>\n",
       "      <td>1500</td>\n",
       "      <td>small</td>\n",
       "      <td>2001</td>\n",
       "      <td>manual</td>\n",
       "      <td>75.00</td>\n",
       "      <td>golf</td>\n",
       "      <td>150000</td>\n",
       "      <td>6</td>\n",
       "      <td>petrol</td>\n",
       "      <td>volkswagen</td>\n",
       "      <td>no</td>\n",
       "      <td>2016-03-17 00:00:00</td>\n",
       "      <td>0</td>\n",
       "      <td>91074</td>\n",
       "      <td>2016-03-17 17:40:17</td>\n",
       "      <td>2016</td>\n",
       "      <td>2016</td>\n",
       "      <td>2016</td>\n",
       "    </tr>\n",
       "    <tr>\n",
       "      <th>4</th>\n",
       "      <td>2016-03-31 17:25:20</td>\n",
       "      <td>3600</td>\n",
       "      <td>small</td>\n",
       "      <td>2008</td>\n",
       "      <td>manual</td>\n",
       "      <td>69.00</td>\n",
       "      <td>fabia</td>\n",
       "      <td>90000</td>\n",
       "      <td>7</td>\n",
       "      <td>gasoline</td>\n",
       "      <td>skoda</td>\n",
       "      <td>no</td>\n",
       "      <td>2016-03-31 00:00:00</td>\n",
       "      <td>0</td>\n",
       "      <td>60437</td>\n",
       "      <td>2016-04-06 10:17:21</td>\n",
       "      <td>2016</td>\n",
       "      <td>2016</td>\n",
       "      <td>2016</td>\n",
       "    </tr>\n",
       "  </tbody>\n",
       "</table>\n",
       "</div>"
      ],
      "text/plain": [
       "           DateCrawled  Price VehicleType  RegistrationYear Gearbox  Power  \\\n",
       "0  2016-03-24 11:52:17    480     Unknown              1993  manual 100.00   \n",
       "1  2016-03-24 10:58:45  18300       coupe              2011  manual 190.00   \n",
       "2  2016-03-14 12:52:21   9800         suv              2004    auto 163.00   \n",
       "3  2016-03-17 16:54:04   1500       small              2001  manual  75.00   \n",
       "4  2016-03-31 17:25:20   3600       small              2008  manual  69.00   \n",
       "\n",
       "   Model  Kilometer  RegistrationMonth  FuelType       Brand NotRepaired  \\\n",
       "0   golf     150000                  0    petrol  volkswagen     Unknown   \n",
       "1  other     125000                  5  gasoline        audi         yes   \n",
       "2  grand     125000                  8  gasoline        jeep     Unknown   \n",
       "3   golf     150000                  6    petrol  volkswagen          no   \n",
       "4  fabia      90000                  7  gasoline       skoda          no   \n",
       "\n",
       "           DateCreated  NumberOfPictures  PostalCode             LastSeen  \\\n",
       "0  2016-03-24 00:00:00                 0       70435  2016-04-07 03:16:57   \n",
       "1  2016-03-24 00:00:00                 0       66954  2016-04-07 01:46:50   \n",
       "2  2016-03-14 00:00:00                 0       90480  2016-04-05 12:47:46   \n",
       "3  2016-03-17 00:00:00                 0       91074  2016-03-17 17:40:17   \n",
       "4  2016-03-31 00:00:00                 0       60437  2016-04-06 10:17:21   \n",
       "\n",
       "   YearCrawled  YearCreated  YearLastSeen  \n",
       "0         2016         2016          2016  \n",
       "1         2016         2016          2016  \n",
       "2         2016         2016          2016  \n",
       "3         2016         2016          2016  \n",
       "4         2016         2016          2016  "
      ]
     },
     "metadata": {},
     "output_type": "display_data"
    },
    {
     "name": "stdout",
     "output_type": "stream",
     "text": [
      "<class 'pandas.core.frame.DataFrame'>\n",
      "Int64Index: 326742 entries, 0 to 354368\n",
      "Data columns (total 19 columns):\n",
      " #   Column             Non-Null Count   Dtype  \n",
      "---  ------             --------------   -----  \n",
      " 0   DateCrawled        326742 non-null  object \n",
      " 1   Price              326742 non-null  int64  \n",
      " 2   VehicleType        326742 non-null  object \n",
      " 3   RegistrationYear   326742 non-null  int64  \n",
      " 4   Gearbox            326742 non-null  object \n",
      " 5   Power              326742 non-null  float64\n",
      " 6   Model              326742 non-null  object \n",
      " 7   Kilometer          326742 non-null  int64  \n",
      " 8   RegistrationMonth  326742 non-null  int64  \n",
      " 9   FuelType           326742 non-null  object \n",
      " 10  Brand              326742 non-null  object \n",
      " 11  NotRepaired        326742 non-null  object \n",
      " 12  DateCreated        326742 non-null  object \n",
      " 13  NumberOfPictures   326742 non-null  int64  \n",
      " 14  PostalCode         326742 non-null  int64  \n",
      " 15  LastSeen           326742 non-null  object \n",
      " 16  YearCrawled        326742 non-null  int64  \n",
      " 17  YearCreated        326742 non-null  int64  \n",
      " 18  YearLastSeen       326742 non-null  int64  \n",
      "dtypes: float64(1), int64(9), object(9)\n",
      "memory usage: 49.9+ MB\n"
     ]
    },
    {
     "data": {
      "text/plain": [
       "None"
      ]
     },
     "metadata": {},
     "output_type": "display_data"
    },
    {
     "data": {
      "text/html": [
       "<div>\n",
       "<style scoped>\n",
       "    .dataframe tbody tr th:only-of-type {\n",
       "        vertical-align: middle;\n",
       "    }\n",
       "\n",
       "    .dataframe tbody tr th {\n",
       "        vertical-align: top;\n",
       "    }\n",
       "\n",
       "    .dataframe thead th {\n",
       "        text-align: right;\n",
       "    }\n",
       "</style>\n",
       "<table border=\"1\" class=\"dataframe\">\n",
       "  <thead>\n",
       "    <tr style=\"text-align: right;\">\n",
       "      <th></th>\n",
       "      <th>Price</th>\n",
       "      <th>RegistrationYear</th>\n",
       "      <th>Power</th>\n",
       "      <th>Kilometer</th>\n",
       "      <th>RegistrationMonth</th>\n",
       "      <th>NumberOfPictures</th>\n",
       "      <th>PostalCode</th>\n",
       "      <th>YearCrawled</th>\n",
       "      <th>YearCreated</th>\n",
       "      <th>YearLastSeen</th>\n",
       "    </tr>\n",
       "  </thead>\n",
       "  <tbody>\n",
       "    <tr>\n",
       "      <th>count</th>\n",
       "      <td>326,742.00</td>\n",
       "      <td>326,742.00</td>\n",
       "      <td>326,742.00</td>\n",
       "      <td>326,742.00</td>\n",
       "      <td>326,742.00</td>\n",
       "      <td>326,742.00</td>\n",
       "      <td>326,742.00</td>\n",
       "      <td>326,742.00</td>\n",
       "      <td>326,742.00</td>\n",
       "      <td>326,742.00</td>\n",
       "    </tr>\n",
       "    <tr>\n",
       "      <th>mean</th>\n",
       "      <td>4,643.72</td>\n",
       "      <td>2,002.66</td>\n",
       "      <td>119.20</td>\n",
       "      <td>128,469.56</td>\n",
       "      <td>5.84</td>\n",
       "      <td>0.00</td>\n",
       "      <td>50,813.77</td>\n",
       "      <td>2,016.00</td>\n",
       "      <td>2,016.00</td>\n",
       "      <td>2,016.00</td>\n",
       "    </tr>\n",
       "    <tr>\n",
       "      <th>std</th>\n",
       "      <td>4,547.06</td>\n",
       "      <td>6.80</td>\n",
       "      <td>52.31</td>\n",
       "      <td>37,145.90</td>\n",
       "      <td>3.67</td>\n",
       "      <td>0.00</td>\n",
       "      <td>25,742.14</td>\n",
       "      <td>0.00</td>\n",
       "      <td>0.01</td>\n",
       "      <td>0.00</td>\n",
       "    </tr>\n",
       "    <tr>\n",
       "      <th>min</th>\n",
       "      <td>100.00</td>\n",
       "      <td>1,910.00</td>\n",
       "      <td>41.00</td>\n",
       "      <td>5,000.00</td>\n",
       "      <td>0.00</td>\n",
       "      <td>0.00</td>\n",
       "      <td>1,067.00</td>\n",
       "      <td>2,016.00</td>\n",
       "      <td>2,014.00</td>\n",
       "      <td>2,016.00</td>\n",
       "    </tr>\n",
       "    <tr>\n",
       "      <th>25%</th>\n",
       "      <td>1,200.00</td>\n",
       "      <td>1,999.00</td>\n",
       "      <td>77.00</td>\n",
       "      <td>125,000.00</td>\n",
       "      <td>3.00</td>\n",
       "      <td>0.00</td>\n",
       "      <td>30,519.00</td>\n",
       "      <td>2,016.00</td>\n",
       "      <td>2,016.00</td>\n",
       "      <td>2,016.00</td>\n",
       "    </tr>\n",
       "    <tr>\n",
       "      <th>50%</th>\n",
       "      <td>2,950.00</td>\n",
       "      <td>2,003.00</td>\n",
       "      <td>110.00</td>\n",
       "      <td>150,000.00</td>\n",
       "      <td>6.00</td>\n",
       "      <td>0.00</td>\n",
       "      <td>49,661.00</td>\n",
       "      <td>2,016.00</td>\n",
       "      <td>2,016.00</td>\n",
       "      <td>2,016.00</td>\n",
       "    </tr>\n",
       "    <tr>\n",
       "      <th>75%</th>\n",
       "      <td>6,700.00</td>\n",
       "      <td>2,007.00</td>\n",
       "      <td>145.00</td>\n",
       "      <td>150,000.00</td>\n",
       "      <td>9.00</td>\n",
       "      <td>0.00</td>\n",
       "      <td>71,364.00</td>\n",
       "      <td>2,016.00</td>\n",
       "      <td>2,016.00</td>\n",
       "      <td>2,016.00</td>\n",
       "    </tr>\n",
       "    <tr>\n",
       "      <th>max</th>\n",
       "      <td>20,000.00</td>\n",
       "      <td>2,016.00</td>\n",
       "      <td>544.00</td>\n",
       "      <td>150,000.00</td>\n",
       "      <td>12.00</td>\n",
       "      <td>0.00</td>\n",
       "      <td>99,998.00</td>\n",
       "      <td>2,016.00</td>\n",
       "      <td>2,016.00</td>\n",
       "      <td>2,016.00</td>\n",
       "    </tr>\n",
       "  </tbody>\n",
       "</table>\n",
       "</div>"
      ],
      "text/plain": [
       "           Price  RegistrationYear      Power  Kilometer  RegistrationMonth  \\\n",
       "count 326,742.00        326,742.00 326,742.00 326,742.00         326,742.00   \n",
       "mean    4,643.72          2,002.66     119.20 128,469.56               5.84   \n",
       "std     4,547.06              6.80      52.31  37,145.90               3.67   \n",
       "min       100.00          1,910.00      41.00   5,000.00               0.00   \n",
       "25%     1,200.00          1,999.00      77.00 125,000.00               3.00   \n",
       "50%     2,950.00          2,003.00     110.00 150,000.00               6.00   \n",
       "75%     6,700.00          2,007.00     145.00 150,000.00               9.00   \n",
       "max    20,000.00          2,016.00     544.00 150,000.00              12.00   \n",
       "\n",
       "       NumberOfPictures  PostalCode  YearCrawled  YearCreated  YearLastSeen  \n",
       "count        326,742.00  326,742.00   326,742.00   326,742.00    326,742.00  \n",
       "mean               0.00   50,813.77     2,016.00     2,016.00      2,016.00  \n",
       "std                0.00   25,742.14         0.00         0.01          0.00  \n",
       "min                0.00    1,067.00     2,016.00     2,014.00      2,016.00  \n",
       "25%                0.00   30,519.00     2,016.00     2,016.00      2,016.00  \n",
       "50%                0.00   49,661.00     2,016.00     2,016.00      2,016.00  \n",
       "75%                0.00   71,364.00     2,016.00     2,016.00      2,016.00  \n",
       "max                0.00   99,998.00     2,016.00     2,016.00      2,016.00  "
      ]
     },
     "metadata": {},
     "output_type": "display_data"
    },
    {
     "data": {
      "text/plain": [
       "0"
      ]
     },
     "metadata": {},
     "output_type": "display_data"
    },
    {
     "data": {
      "text/plain": [
       "DateCrawled          0.0%\n",
       "Price                0.0%\n",
       "VehicleType          0.0%\n",
       "RegistrationYear     0.0%\n",
       "Gearbox              0.0%\n",
       "Power                0.0%\n",
       "Model                0.0%\n",
       "Kilometer            0.0%\n",
       "RegistrationMonth    0.0%\n",
       "FuelType             0.0%\n",
       "Brand                0.0%\n",
       "NotRepaired          0.0%\n",
       "DateCreated          0.0%\n",
       "NumberOfPictures     0.0%\n",
       "PostalCode           0.0%\n",
       "LastSeen             0.0%\n",
       "YearCrawled          0.0%\n",
       "YearCreated          0.0%\n",
       "YearLastSeen         0.0%\n",
       "dtype: object"
      ]
     },
     "metadata": {},
     "output_type": "display_data"
    },
    {
     "data": {
      "text/plain": [
       "(None, None, None, None, None)"
      ]
     },
     "execution_count": 258,
     "metadata": {},
     "output_type": "execute_result"
    }
   ],
   "source": [
    "data_info(df)"
   ]
  },
  {
   "cell_type": "markdown",
   "metadata": {},
   "source": [
    "## Prepare data for model training"
   ]
  },
  {
   "cell_type": "code",
   "execution_count": 259,
   "metadata": {
    "scrolled": true
   },
   "outputs": [
    {
     "data": {
      "text/html": [
       "<div>\n",
       "<style scoped>\n",
       "    .dataframe tbody tr th:only-of-type {\n",
       "        vertical-align: middle;\n",
       "    }\n",
       "\n",
       "    .dataframe tbody tr th {\n",
       "        vertical-align: top;\n",
       "    }\n",
       "\n",
       "    .dataframe thead th {\n",
       "        text-align: right;\n",
       "    }\n",
       "</style>\n",
       "<table border=\"1\" class=\"dataframe\">\n",
       "  <thead>\n",
       "    <tr style=\"text-align: right;\">\n",
       "      <th></th>\n",
       "      <th>DateCrawled</th>\n",
       "      <th>Price</th>\n",
       "      <th>VehicleType</th>\n",
       "      <th>RegistrationYear</th>\n",
       "      <th>Gearbox</th>\n",
       "      <th>Power</th>\n",
       "      <th>Model</th>\n",
       "      <th>Kilometer</th>\n",
       "      <th>RegistrationMonth</th>\n",
       "      <th>FuelType</th>\n",
       "      <th>Brand</th>\n",
       "      <th>NotRepaired</th>\n",
       "      <th>DateCreated</th>\n",
       "      <th>NumberOfPictures</th>\n",
       "      <th>PostalCode</th>\n",
       "      <th>LastSeen</th>\n",
       "      <th>YearCrawled</th>\n",
       "      <th>YearCreated</th>\n",
       "      <th>YearLastSeen</th>\n",
       "    </tr>\n",
       "  </thead>\n",
       "  <tbody>\n",
       "    <tr>\n",
       "      <th>0</th>\n",
       "      <td>2016-03-24 11:52:17</td>\n",
       "      <td>480</td>\n",
       "      <td>Unknown</td>\n",
       "      <td>1993</td>\n",
       "      <td>manual</td>\n",
       "      <td>100.00</td>\n",
       "      <td>golf</td>\n",
       "      <td>150000</td>\n",
       "      <td>0</td>\n",
       "      <td>petrol</td>\n",
       "      <td>volkswagen</td>\n",
       "      <td>Unknown</td>\n",
       "      <td>2016-03-24 00:00:00</td>\n",
       "      <td>0</td>\n",
       "      <td>70435</td>\n",
       "      <td>2016-04-07 03:16:57</td>\n",
       "      <td>2016</td>\n",
       "      <td>2016</td>\n",
       "      <td>2016</td>\n",
       "    </tr>\n",
       "    <tr>\n",
       "      <th>1</th>\n",
       "      <td>2016-03-24 10:58:45</td>\n",
       "      <td>18300</td>\n",
       "      <td>coupe</td>\n",
       "      <td>2011</td>\n",
       "      <td>manual</td>\n",
       "      <td>190.00</td>\n",
       "      <td>other</td>\n",
       "      <td>125000</td>\n",
       "      <td>5</td>\n",
       "      <td>gasoline</td>\n",
       "      <td>audi</td>\n",
       "      <td>yes</td>\n",
       "      <td>2016-03-24 00:00:00</td>\n",
       "      <td>0</td>\n",
       "      <td>66954</td>\n",
       "      <td>2016-04-07 01:46:50</td>\n",
       "      <td>2016</td>\n",
       "      <td>2016</td>\n",
       "      <td>2016</td>\n",
       "    </tr>\n",
       "    <tr>\n",
       "      <th>2</th>\n",
       "      <td>2016-03-14 12:52:21</td>\n",
       "      <td>9800</td>\n",
       "      <td>suv</td>\n",
       "      <td>2004</td>\n",
       "      <td>auto</td>\n",
       "      <td>163.00</td>\n",
       "      <td>grand</td>\n",
       "      <td>125000</td>\n",
       "      <td>8</td>\n",
       "      <td>gasoline</td>\n",
       "      <td>jeep</td>\n",
       "      <td>Unknown</td>\n",
       "      <td>2016-03-14 00:00:00</td>\n",
       "      <td>0</td>\n",
       "      <td>90480</td>\n",
       "      <td>2016-04-05 12:47:46</td>\n",
       "      <td>2016</td>\n",
       "      <td>2016</td>\n",
       "      <td>2016</td>\n",
       "    </tr>\n",
       "    <tr>\n",
       "      <th>3</th>\n",
       "      <td>2016-03-17 16:54:04</td>\n",
       "      <td>1500</td>\n",
       "      <td>small</td>\n",
       "      <td>2001</td>\n",
       "      <td>manual</td>\n",
       "      <td>75.00</td>\n",
       "      <td>golf</td>\n",
       "      <td>150000</td>\n",
       "      <td>6</td>\n",
       "      <td>petrol</td>\n",
       "      <td>volkswagen</td>\n",
       "      <td>no</td>\n",
       "      <td>2016-03-17 00:00:00</td>\n",
       "      <td>0</td>\n",
       "      <td>91074</td>\n",
       "      <td>2016-03-17 17:40:17</td>\n",
       "      <td>2016</td>\n",
       "      <td>2016</td>\n",
       "      <td>2016</td>\n",
       "    </tr>\n",
       "    <tr>\n",
       "      <th>4</th>\n",
       "      <td>2016-03-31 17:25:20</td>\n",
       "      <td>3600</td>\n",
       "      <td>small</td>\n",
       "      <td>2008</td>\n",
       "      <td>manual</td>\n",
       "      <td>69.00</td>\n",
       "      <td>fabia</td>\n",
       "      <td>90000</td>\n",
       "      <td>7</td>\n",
       "      <td>gasoline</td>\n",
       "      <td>skoda</td>\n",
       "      <td>no</td>\n",
       "      <td>2016-03-31 00:00:00</td>\n",
       "      <td>0</td>\n",
       "      <td>60437</td>\n",
       "      <td>2016-04-06 10:17:21</td>\n",
       "      <td>2016</td>\n",
       "      <td>2016</td>\n",
       "      <td>2016</td>\n",
       "    </tr>\n",
       "  </tbody>\n",
       "</table>\n",
       "</div>"
      ],
      "text/plain": [
       "           DateCrawled  Price VehicleType  RegistrationYear Gearbox  Power  \\\n",
       "0  2016-03-24 11:52:17    480     Unknown              1993  manual 100.00   \n",
       "1  2016-03-24 10:58:45  18300       coupe              2011  manual 190.00   \n",
       "2  2016-03-14 12:52:21   9800         suv              2004    auto 163.00   \n",
       "3  2016-03-17 16:54:04   1500       small              2001  manual  75.00   \n",
       "4  2016-03-31 17:25:20   3600       small              2008  manual  69.00   \n",
       "\n",
       "   Model  Kilometer  RegistrationMonth  FuelType       Brand NotRepaired  \\\n",
       "0   golf     150000                  0    petrol  volkswagen     Unknown   \n",
       "1  other     125000                  5  gasoline        audi         yes   \n",
       "2  grand     125000                  8  gasoline        jeep     Unknown   \n",
       "3   golf     150000                  6    petrol  volkswagen          no   \n",
       "4  fabia      90000                  7  gasoline       skoda          no   \n",
       "\n",
       "           DateCreated  NumberOfPictures  PostalCode             LastSeen  \\\n",
       "0  2016-03-24 00:00:00                 0       70435  2016-04-07 03:16:57   \n",
       "1  2016-03-24 00:00:00                 0       66954  2016-04-07 01:46:50   \n",
       "2  2016-03-14 00:00:00                 0       90480  2016-04-05 12:47:46   \n",
       "3  2016-03-17 00:00:00                 0       91074  2016-03-17 17:40:17   \n",
       "4  2016-03-31 00:00:00                 0       60437  2016-04-06 10:17:21   \n",
       "\n",
       "   YearCrawled  YearCreated  YearLastSeen  \n",
       "0         2016         2016          2016  \n",
       "1         2016         2016          2016  \n",
       "2         2016         2016          2016  \n",
       "3         2016         2016          2016  \n",
       "4         2016         2016          2016  "
      ]
     },
     "execution_count": 259,
     "metadata": {},
     "output_type": "execute_result"
    }
   ],
   "source": [
    "df.head()"
   ]
  },
  {
   "cell_type": "code",
   "execution_count": 260,
   "metadata": {},
   "outputs": [
    {
     "data": {
      "text/plain": [
       "Index(['DateCrawled', 'Price', 'VehicleType', 'RegistrationYear', 'Gearbox',\n",
       "       'Power', 'Model', 'Kilometer', 'RegistrationMonth', 'FuelType', 'Brand',\n",
       "       'NotRepaired', 'DateCreated', 'NumberOfPictures', 'PostalCode',\n",
       "       'LastSeen', 'YearCrawled', 'YearCreated', 'YearLastSeen'],\n",
       "      dtype='object')"
      ]
     },
     "execution_count": 260,
     "metadata": {},
     "output_type": "execute_result"
    }
   ],
   "source": [
    "df.columns"
   ]
  },
  {
   "cell_type": "markdown",
   "metadata": {},
   "source": [
    "### Splitting the dataset into features and  target"
   ]
  },
  {
   "cell_type": "code",
   "execution_count": 261,
   "metadata": {
    "scrolled": true
   },
   "outputs": [],
   "source": [
    "X=df[['RegistrationYear', 'Power', 'Kilometer',\n",
    "                    'RegistrationMonth','PostalCode',\n",
    "                    'VehicleType', 'Gearbox', 'Model',\n",
    "                    'FuelType', 'Brand', 'NotRepaired']]"
   ]
  },
  {
   "cell_type": "code",
   "execution_count": 262,
   "metadata": {},
   "outputs": [
    {
     "data": {
      "text/html": [
       "<div>\n",
       "<style scoped>\n",
       "    .dataframe tbody tr th:only-of-type {\n",
       "        vertical-align: middle;\n",
       "    }\n",
       "\n",
       "    .dataframe tbody tr th {\n",
       "        vertical-align: top;\n",
       "    }\n",
       "\n",
       "    .dataframe thead th {\n",
       "        text-align: right;\n",
       "    }\n",
       "</style>\n",
       "<table border=\"1\" class=\"dataframe\">\n",
       "  <thead>\n",
       "    <tr style=\"text-align: right;\">\n",
       "      <th></th>\n",
       "      <th>RegistrationYear</th>\n",
       "      <th>Power</th>\n",
       "      <th>Kilometer</th>\n",
       "      <th>RegistrationMonth</th>\n",
       "      <th>PostalCode</th>\n",
       "      <th>VehicleType</th>\n",
       "      <th>Gearbox</th>\n",
       "      <th>Model</th>\n",
       "      <th>FuelType</th>\n",
       "      <th>Brand</th>\n",
       "      <th>NotRepaired</th>\n",
       "    </tr>\n",
       "  </thead>\n",
       "  <tbody>\n",
       "    <tr>\n",
       "      <th>0</th>\n",
       "      <td>1993</td>\n",
       "      <td>100.00</td>\n",
       "      <td>150000</td>\n",
       "      <td>0</td>\n",
       "      <td>70435</td>\n",
       "      <td>Unknown</td>\n",
       "      <td>manual</td>\n",
       "      <td>golf</td>\n",
       "      <td>petrol</td>\n",
       "      <td>volkswagen</td>\n",
       "      <td>Unknown</td>\n",
       "    </tr>\n",
       "    <tr>\n",
       "      <th>1</th>\n",
       "      <td>2011</td>\n",
       "      <td>190.00</td>\n",
       "      <td>125000</td>\n",
       "      <td>5</td>\n",
       "      <td>66954</td>\n",
       "      <td>coupe</td>\n",
       "      <td>manual</td>\n",
       "      <td>other</td>\n",
       "      <td>gasoline</td>\n",
       "      <td>audi</td>\n",
       "      <td>yes</td>\n",
       "    </tr>\n",
       "    <tr>\n",
       "      <th>2</th>\n",
       "      <td>2004</td>\n",
       "      <td>163.00</td>\n",
       "      <td>125000</td>\n",
       "      <td>8</td>\n",
       "      <td>90480</td>\n",
       "      <td>suv</td>\n",
       "      <td>auto</td>\n",
       "      <td>grand</td>\n",
       "      <td>gasoline</td>\n",
       "      <td>jeep</td>\n",
       "      <td>Unknown</td>\n",
       "    </tr>\n",
       "    <tr>\n",
       "      <th>3</th>\n",
       "      <td>2001</td>\n",
       "      <td>75.00</td>\n",
       "      <td>150000</td>\n",
       "      <td>6</td>\n",
       "      <td>91074</td>\n",
       "      <td>small</td>\n",
       "      <td>manual</td>\n",
       "      <td>golf</td>\n",
       "      <td>petrol</td>\n",
       "      <td>volkswagen</td>\n",
       "      <td>no</td>\n",
       "    </tr>\n",
       "    <tr>\n",
       "      <th>4</th>\n",
       "      <td>2008</td>\n",
       "      <td>69.00</td>\n",
       "      <td>90000</td>\n",
       "      <td>7</td>\n",
       "      <td>60437</td>\n",
       "      <td>small</td>\n",
       "      <td>manual</td>\n",
       "      <td>fabia</td>\n",
       "      <td>gasoline</td>\n",
       "      <td>skoda</td>\n",
       "      <td>no</td>\n",
       "    </tr>\n",
       "  </tbody>\n",
       "</table>\n",
       "</div>"
      ],
      "text/plain": [
       "   RegistrationYear  Power  Kilometer  RegistrationMonth  PostalCode  \\\n",
       "0              1993 100.00     150000                  0       70435   \n",
       "1              2011 190.00     125000                  5       66954   \n",
       "2              2004 163.00     125000                  8       90480   \n",
       "3              2001  75.00     150000                  6       91074   \n",
       "4              2008  69.00      90000                  7       60437   \n",
       "\n",
       "  VehicleType Gearbox  Model  FuelType       Brand NotRepaired  \n",
       "0     Unknown  manual   golf    petrol  volkswagen     Unknown  \n",
       "1       coupe  manual  other  gasoline        audi         yes  \n",
       "2         suv    auto  grand  gasoline        jeep     Unknown  \n",
       "3       small  manual   golf    petrol  volkswagen          no  \n",
       "4       small  manual  fabia  gasoline       skoda          no  "
      ]
     },
     "execution_count": 262,
     "metadata": {},
     "output_type": "execute_result"
    }
   ],
   "source": [
    "X.head()"
   ]
  },
  {
   "cell_type": "code",
   "execution_count": 263,
   "metadata": {},
   "outputs": [],
   "source": [
    "y = df['Price']"
   ]
  },
  {
   "cell_type": "code",
   "execution_count": 264,
   "metadata": {},
   "outputs": [],
   "source": [
    "# Divide the data into training and test sets\n",
    "X_train, X_test, y_train, y_test = train_test_split(X ,y, test_size=0.15, random_state=12345)"
   ]
  },
  {
   "cell_type": "code",
   "execution_count": 265,
   "metadata": {
    "scrolled": true
   },
   "outputs": [
    {
     "data": {
      "text/plain": [
       "(277730, 11)"
      ]
     },
     "metadata": {},
     "output_type": "display_data"
    },
    {
     "data": {
      "text/plain": [
       "(277730,)"
      ]
     },
     "metadata": {},
     "output_type": "display_data"
    }
   ],
   "source": [
    "# Checking the size of the train sample\n",
    "display(X_train.shape, y_train.shape)"
   ]
  },
  {
   "cell_type": "code",
   "execution_count": 266,
   "metadata": {
    "scrolled": true
   },
   "outputs": [
    {
     "data": {
      "text/plain": [
       "(49012, 11)"
      ]
     },
     "metadata": {},
     "output_type": "display_data"
    },
    {
     "data": {
      "text/plain": [
       "(49012,)"
      ]
     },
     "metadata": {},
     "output_type": "display_data"
    }
   ],
   "source": [
    "# Checking the size of the test sample\n",
    "display( X_test.shape, y_test.shape)"
   ]
  },
  {
   "cell_type": "code",
   "execution_count": 267,
   "metadata": {},
   "outputs": [
    {
     "name": "stdout",
     "output_type": "stream",
     "text": [
      "<class 'pandas.core.frame.DataFrame'>\n",
      "Int64Index: 277730 entries, 292518 to 236019\n",
      "Data columns (total 11 columns):\n",
      " #   Column             Non-Null Count   Dtype  \n",
      "---  ------             --------------   -----  \n",
      " 0   RegistrationYear   277730 non-null  int64  \n",
      " 1   Power              277730 non-null  float64\n",
      " 2   Kilometer          277730 non-null  int64  \n",
      " 3   RegistrationMonth  277730 non-null  int64  \n",
      " 4   PostalCode         277730 non-null  int64  \n",
      " 5   VehicleType        277730 non-null  object \n",
      " 6   Gearbox            277730 non-null  object \n",
      " 7   Model              277730 non-null  object \n",
      " 8   FuelType           277730 non-null  object \n",
      " 9   Brand              277730 non-null  object \n",
      " 10  NotRepaired        277730 non-null  object \n",
      "dtypes: float64(1), int64(4), object(6)\n",
      "memory usage: 25.4+ MB\n"
     ]
    }
   ],
   "source": [
    "X_train.info()"
   ]
  },
  {
   "cell_type": "markdown",
   "metadata": {},
   "source": [
    "### Scaling of numerical features and processing of categorical features"
   ]
  },
  {
   "cell_type": "code",
   "execution_count": 268,
   "metadata": {},
   "outputs": [
    {
     "data": {
      "text/plain": [
       "(Index(['RegistrationYear', 'Power', 'Kilometer', 'RegistrationMonth',\n",
       "        'PostalCode'],\n",
       "       dtype='object'),\n",
       " Index(['VehicleType', 'Gearbox', 'Model', 'FuelType', 'Brand', 'NotRepaired'], dtype='object'))"
      ]
     },
     "execution_count": 268,
     "metadata": {},
     "output_type": "execute_result"
    }
   ],
   "source": [
    "# determine categorical and numerical features\n",
    "numerical_ix = X.select_dtypes(include=['int64', 'float64']).columns\n",
    "categorical_ix = X.select_dtypes(include=['object', 'bool']).columns\n",
    "\n",
    "numerical_ix, categorical_ix"
   ]
  },
  {
   "cell_type": "code",
   "execution_count": 269,
   "metadata": {},
   "outputs": [],
   "source": [
    "# define the data preparation for the columns\n",
    "t = [('cat', OrdinalEncoder(), categorical_ix), ('num', StandardScaler(), numerical_ix)]\n",
    "col_transform = ColumnTransformer(transformers=t)"
   ]
  },
  {
   "cell_type": "markdown",
   "metadata": {},
   "source": [
    "## Model Training"
   ]
  },
  {
   "cell_type": "markdown",
   "metadata": {},
   "source": [
    "### Random Forest"
   ]
  },
  {
   "cell_type": "code",
   "execution_count": 270,
   "metadata": {},
   "outputs": [
    {
     "name": "stdout",
     "output_type": "stream",
     "text": [
      "Wall time: 7min 46s\n"
     ]
    }
   ],
   "source": [
    "%%time\n",
    "start = time.time()\n",
    "\n",
    "# define the model\n",
    "model = RandomForestRegressor(n_estimators = 60, max_depth = 8, random_state=12345)\n",
    "\n",
    "# define the data preparation and modeling pipeline\n",
    "pipeline = Pipeline(steps=[('prep',col_transform), ('m', model)])\n",
    "\n",
    "# evaluate the pipeline using cross validation and calculate RMSE\n",
    "scores_rf = cross_val_score(pipeline, X_train, y_train, scoring='neg_root_mean_squared_error', cv=5, n_jobs=-1)\n",
    "\n",
    "end = time.time()\n",
    "time_rf = end-start"
   ]
  },
  {
   "cell_type": "code",
   "execution_count": 271,
   "metadata": {
    "scrolled": false
   },
   "outputs": [
    {
     "name": "stdout",
     "output_type": "stream",
     "text": [
      "[-2035.54878067 -2040.74909903 -2046.1422892  -2058.1107765\n",
      " -2031.73856594]\n",
      "RMSE: -2042.458 (9.210)\n"
     ]
    }
   ],
   "source": [
    "# summarize the model performance\n",
    "print(scores_rf)\n",
    "print('RMSE: %.3f (%.3f)' % (scores_rf.mean(), scores_rf.std()))"
   ]
  },
  {
   "cell_type": "markdown",
   "metadata": {},
   "source": [
    "### Linear Regression"
   ]
  },
  {
   "cell_type": "code",
   "execution_count": 272,
   "metadata": {},
   "outputs": [
    {
     "name": "stdout",
     "output_type": "stream",
     "text": [
      "Wall time: 13.6 s\n"
     ]
    }
   ],
   "source": [
    "%%time\n",
    "start = time.time()\n",
    "\n",
    "# define the model\n",
    "model = LinearRegression()\n",
    "\n",
    "# define the data preparation and modeling pipeline\n",
    "pipeline = Pipeline(steps=[('prep',col_transform), ('m', model)])\n",
    "\n",
    "# evaluate the pipeline using cross validation and calculate RMSE\n",
    "scores_lr = cross_val_score(pipeline, X_train, y_train, scoring='neg_root_mean_squared_error', cv=5, n_jobs=-1)\n",
    "\n",
    "end = time.time()\n",
    "time_lr = end-start"
   ]
  },
  {
   "cell_type": "code",
   "execution_count": 273,
   "metadata": {},
   "outputs": [
    {
     "name": "stdout",
     "output_type": "stream",
     "text": [
      "RMSE: -3113.771 (17.901)\n"
     ]
    }
   ],
   "source": [
    "# summarize the model performance\n",
    "print('RMSE: %.3f (%.3f)' % (scores_lr.mean(), scores_lr.std()))"
   ]
  },
  {
   "cell_type": "markdown",
   "metadata": {},
   "source": [
    "### Gradient boosting model LightGBM"
   ]
  },
  {
   "cell_type": "code",
   "execution_count": 274,
   "metadata": {},
   "outputs": [
    {
     "name": "stdout",
     "output_type": "stream",
     "text": [
      "Wall time: 44.4 s\n"
     ]
    }
   ],
   "source": [
    "%%time\n",
    "\n",
    "start = time.time()\n",
    "\n",
    "# define the model\n",
    "model = light.LGBMRegressor()\n",
    "\n",
    "# define the data preparation and modeling pipeline\n",
    "pipeline = Pipeline(steps=[('prep',col_transform), ('m', model)])\n",
    "\n",
    "# evaluate the pipeline using cross validation and calculate RMSE\n",
    "scores_light = cross_val_score(pipeline, X_train, y_train, scoring='neg_root_mean_squared_error', cv=5, n_jobs=-1)\n",
    "\n",
    "end = time.time()\n",
    "time_light = end-start"
   ]
  },
  {
   "cell_type": "code",
   "execution_count": 275,
   "metadata": {
    "scrolled": true
   },
   "outputs": [
    {
     "name": "stdout",
     "output_type": "stream",
     "text": [
      "[-1690.71755437 -1706.0788944  -1697.92982457 -1709.84494745\n",
      " -1702.719935  ]\n",
      "RMSE: -1701.458 (6.650)\n"
     ]
    }
   ],
   "source": [
    "# summarize the model performance\n",
    "print (scores_light)\n",
    "print('RMSE: %.3f (%.3f)' % (scores_light.mean(), scores_light.std()))"
   ]
  },
  {
   "cell_type": "markdown",
   "metadata": {},
   "source": [
    "### Conclusions on the work of different models"
   ]
  },
  {
   "cell_type": "code",
   "execution_count": 276,
   "metadata": {},
   "outputs": [
    {
     "data": {
      "text/html": [
       "<div>\n",
       "<style scoped>\n",
       "    .dataframe tbody tr th:only-of-type {\n",
       "        vertical-align: middle;\n",
       "    }\n",
       "\n",
       "    .dataframe tbody tr th {\n",
       "        vertical-align: top;\n",
       "    }\n",
       "\n",
       "    .dataframe thead th {\n",
       "        text-align: right;\n",
       "    }\n",
       "</style>\n",
       "<table border=\"1\" class=\"dataframe\">\n",
       "  <thead>\n",
       "    <tr style=\"text-align: right;\">\n",
       "      <th></th>\n",
       "      <th>Logistic regression</th>\n",
       "      <th>Random Forest</th>\n",
       "      <th>Gradient boosting LightGBM</th>\n",
       "    </tr>\n",
       "  </thead>\n",
       "  <tbody>\n",
       "    <tr>\n",
       "      <th>Average RMSE on cross-validation</th>\n",
       "      <td>-3,113.77</td>\n",
       "      <td>-2,042.46</td>\n",
       "      <td>-1,701.46</td>\n",
       "    </tr>\n",
       "    <tr>\n",
       "      <th>Model training time, sec</th>\n",
       "      <td>13.65</td>\n",
       "      <td>466.47</td>\n",
       "      <td>44.43</td>\n",
       "    </tr>\n",
       "  </tbody>\n",
       "</table>\n",
       "</div>"
      ],
      "text/plain": [
       "                                  Logistic regression  Random Forest  \\\n",
       "Average RMSE on cross-validation            -3,113.77      -2,042.46   \n",
       "Model training time, sec                        13.65         466.47   \n",
       "\n",
       "                                  Gradient boosting LightGBM  \n",
       "Average RMSE on cross-validation                   -1,701.46  \n",
       "Model training time, sec                               44.43  "
      ]
     },
     "metadata": {},
     "output_type": "display_data"
    }
   ],
   "source": [
    "# Displaying a table with the results of the model of each type on the train dataset\n",
    "model_rmse_time={\n",
    "    'Logistic regression':[scores_lr.mean(), time_lr],\n",
    "    'Random Forest': [scores_rf.mean(), time_rf],\n",
    "    'Gradient boosting LightGBM': [scores_light.mean(), time_light]\n",
    "}\n",
    "\n",
    "table=pd.DataFrame(data=model_rmse_time,\n",
    "                   index=['Average RMSE on cross-validation', 'Model training time, sec']\n",
    "                  )\n",
    "display(table)"
   ]
  },
  {
   "cell_type": "markdown",
   "metadata": {},
   "source": [
    "The best result in cross-validation was shown by the LightGBM gradient boosting model. In the next paragraph, we will check its operation on a test sample."
   ]
  },
  {
   "cell_type": "markdown",
   "metadata": {},
   "source": [
    "### Checking the best model on a test sample"
   ]
  },
  {
   "cell_type": "code",
   "execution_count": 277,
   "metadata": {},
   "outputs": [
    {
     "name": "stdout",
     "output_type": "stream",
     "text": [
      "Wall time: 6.84 s\n"
     ]
    }
   ],
   "source": [
    "%%time\n",
    "\n",
    "start = time.time()\n",
    "\n",
    "# define the model\n",
    "model = light.LGBMRegressor()\n",
    "\n",
    "# define the data preparation and modeling pipeline\n",
    "pipeline = Pipeline(steps=[('prep',col_transform), ('m', model)])\n",
    "\n",
    "pipeline.fit(X_train, y_train)\n",
    "\n",
    "end = time.time()\n",
    "time_teach = end-start"
   ]
  },
  {
   "cell_type": "code",
   "execution_count": 278,
   "metadata": {},
   "outputs": [
    {
     "name": "stdout",
     "output_type": "stream",
     "text": [
      "Wall time: 851 ms\n"
     ]
    }
   ],
   "source": [
    "%%time\n",
    "\n",
    "start = time.time()\n",
    "\n",
    "prediction = pipeline.predict(X_test)\n",
    "score_test = (mean_squared_error(y_test, prediction))**0.5\n",
    "\n",
    "end = time.time()\n",
    "time_predict = end-start"
   ]
  },
  {
   "cell_type": "code",
   "execution_count": 279,
   "metadata": {
    "scrolled": true
   },
   "outputs": [
    {
     "name": "stdout",
     "output_type": "stream",
     "text": [
      "Test score is 1704.9894030129333\n"
     ]
    }
   ],
   "source": [
    "print(\"Test score is {}\".format(score_test))"
   ]
  },
  {
   "cell_type": "markdown",
   "metadata": {},
   "source": [
    "Let's build a graph of the influence of features on the target feature for the LightGBM model."
   ]
  },
  {
   "cell_type": "code",
   "execution_count": 280,
   "metadata": {},
   "outputs": [
    {
     "data": {
      "image/png": "[encoded data removed]",
      "text/plain": [
       "<Figure size 432x288 with 1 Axes>"
      ]
     },
     "metadata": {
      "needs_background": "light"
     },
     "output_type": "display_data"
    }
   ],
   "source": [
    "# plotting feature importance\n",
    "light.plot_importance(model, height=.5)\n",
    "plt.show()"
   ]
  },
  {
   "cell_type": "code",
   "execution_count": 281,
   "metadata": {},
   "outputs": [
    {
     "data": {
      "text/plain": [
       "ColumnTransformer(transformers=[('cat', OrdinalEncoder(),\n",
       "                                 Index(['VehicleType', 'Gearbox', 'Model', 'FuelType', 'Brand', 'NotRepaired'], dtype='object')),\n",
       "                                ('num', StandardScaler(),\n",
       "                                 Index(['RegistrationYear', 'Power', 'Kilometer', 'RegistrationMonth',\n",
       "       'PostalCode'],\n",
       "      dtype='object'))])"
      ]
     },
     "execution_count": 281,
     "metadata": {},
     "output_type": "execute_result"
    }
   ],
   "source": [
    "col_transform"
   ]
  },
  {
   "cell_type": "markdown",
   "metadata": {},
   "source": [
    "The `RegistrationYear`, `Power` and `Brand` features have the greatest influence on the target."
   ]
  },
  {
   "cell_type": "markdown",
   "metadata": {},
   "source": [
    "## Сonclusions"
   ]
  },
  {
   "cell_type": "code",
   "execution_count": 282,
   "metadata": {},
   "outputs": [
    {
     "data": {
      "text/html": [
       "<div>\n",
       "<style scoped>\n",
       "    .dataframe tbody tr th:only-of-type {\n",
       "        vertical-align: middle;\n",
       "    }\n",
       "\n",
       "    .dataframe tbody tr th {\n",
       "        vertical-align: top;\n",
       "    }\n",
       "\n",
       "    .dataframe thead th {\n",
       "        text-align: right;\n",
       "    }\n",
       "</style>\n",
       "<table border=\"1\" class=\"dataframe\">\n",
       "  <thead>\n",
       "    <tr style=\"text-align: right;\">\n",
       "      <th></th>\n",
       "      <th>Logistic regression</th>\n",
       "      <th>Random Forest</th>\n",
       "      <th>Gradient boosting LightGBM</th>\n",
       "    </tr>\n",
       "  </thead>\n",
       "  <tbody>\n",
       "    <tr>\n",
       "      <th>RMSE on cross-validation</th>\n",
       "      <td>-3,113.77</td>\n",
       "      <td>-2,042.46</td>\n",
       "      <td>-1,701.46</td>\n",
       "    </tr>\n",
       "    <tr>\n",
       "      <th>Model training time, sec</th>\n",
       "      <td>13.65</td>\n",
       "      <td>466.47</td>\n",
       "      <td>44.43</td>\n",
       "    </tr>\n",
       "  </tbody>\n",
       "</table>\n",
       "</div>"
      ],
      "text/plain": [
       "                          Logistic regression  Random Forest  \\\n",
       "RMSE on cross-validation            -3,113.77      -2,042.46   \n",
       "Model training time, sec                13.65         466.47   \n",
       "\n",
       "                          Gradient boosting LightGBM  \n",
       "RMSE on cross-validation                   -1,701.46  \n",
       "Model training time, sec                       44.43  "
      ]
     },
     "metadata": {},
     "output_type": "display_data"
    }
   ],
   "source": [
    "# Displaying a table with the results of the model of each type on the train dataset\n",
    "model_rmse_time={\n",
    "    'Logistic regression':[scores_lr.mean(), time_lr],\n",
    "    'Random Forest': [scores_rf.mean(), time_rf],\n",
    "    'Gradient boosting LightGBM': [scores_light.mean(), time_light]\n",
    "}\n",
    "\n",
    "table=pd.DataFrame(data=model_rmse_time,\n",
    "                   index=['RMSE on cross-validation', 'Model training time, sec']\n",
    "                  )\n",
    "display(table)"
   ]
  },
  {
   "cell_type": "code",
   "execution_count": 283,
   "metadata": {},
   "outputs": [
    {
     "data": {
      "text/html": [
       "<div>\n",
       "<style scoped>\n",
       "    .dataframe tbody tr th:only-of-type {\n",
       "        vertical-align: middle;\n",
       "    }\n",
       "\n",
       "    .dataframe tbody tr th {\n",
       "        vertical-align: top;\n",
       "    }\n",
       "\n",
       "    .dataframe thead th {\n",
       "        text-align: right;\n",
       "    }\n",
       "</style>\n",
       "<table border=\"1\" class=\"dataframe\">\n",
       "  <thead>\n",
       "    <tr style=\"text-align: right;\">\n",
       "      <th></th>\n",
       "      <th>Gradient boosting LightGBM</th>\n",
       "    </tr>\n",
       "  </thead>\n",
       "  <tbody>\n",
       "    <tr>\n",
       "      <th>RMSE on a test sample</th>\n",
       "      <td>1,704.99</td>\n",
       "    </tr>\n",
       "    <tr>\n",
       "      <th>Model training time, sec</th>\n",
       "      <td>6.84</td>\n",
       "    </tr>\n",
       "    <tr>\n",
       "      <th>Model prediction time, sec</th>\n",
       "      <td>0.85</td>\n",
       "    </tr>\n",
       "  </tbody>\n",
       "</table>\n",
       "</div>"
      ],
      "text/plain": [
       "                            Gradient boosting LightGBM\n",
       "RMSE on a test sample                         1,704.99\n",
       "Model training time, sec                          6.84\n",
       "Model prediction time, sec                        0.85"
      ]
     },
     "metadata": {},
     "output_type": "display_data"
    }
   ],
   "source": [
    "# Displaying a table with the results of the best model\n",
    "model_rmse_time={\n",
    "    'Gradient boosting LightGBM': [score_test, time_teach, time_predict]\n",
    "}\n",
    "\n",
    "table=pd.DataFrame(data=model_rmse_time,\n",
    "                   index=['RMSE on a test sample', 'Model training time, sec', 'Model prediction time, sec']\n",
    "                  )\n",
    "display(table)"
   ]
  },
  {
   "cell_type": "markdown",
   "metadata": {},
   "source": [
    "The Gradient Boosting Model LightGBM showed the highest accuracy of work:\n",
    "\n",
    "* RMSE metric for cross-validation RMSE = 1701\n",
    "* RMSE metric on test set RMSE = 1705\n",
    "\n",
    "Also in this problem, the calculation speed for the gradient boosting model turned out to be about 10 times higher compared to the random forest model."
   ]
  }
 ],
 "metadata": {
  "kernelspec": {
   "display_name": "Python 3 (ipykernel)",
   "language": "python",
   "name": "python3"
  },
  "language_info": {
   "codemirror_mode": {
    "name": "ipython",
    "version": 3
   },
   "file_extension": ".py",
   "mimetype": "text/x-python",
   "name": "python",
   "nbconvert_exporter": "python",
   "pygments_lexer": "ipython3",
   "version": "3.9.7"
  },
  "toc": {
   "base_numbering": 1,
   "nav_menu": {},
   "number_sections": true,
   "sideBar": true,
   "skip_h1_title": true,
   "title_cell": "Содержание",
   "title_sidebar": "Contents",
   "toc_cell": true,
   "toc_position": {
    "height": "calc(100% - 180px)",
    "left": "10px",
    "top": "150px",
    "width": "235.133px"
   },
   "toc_section_display": true,
   "toc_window_display": true
  }
 },
 "nbformat": 4,
 "nbformat_minor": 2
}
