{
 "cells": [
  {
   "cell_type": "markdown",
   "metadata": {},
   "source": [
    "# Identification of patterns that determine the success of a computer game"
   ]
  },
  {
   "cell_type": "markdown",
   "metadata": {},
   "source": [
    "## Project description <a id=\"start\"></a>"
   ]
  },
  {
   "cell_type": "markdown",
   "metadata": {},
   "source": [
    "### Purpose of the study"
   ]
  },
  {
   "cell_type": "markdown",
   "metadata": {},
   "source": [
    "We were given the task of identifying the patterns that determine the success of the game in order to bet on a potentially popular product and plan an advertising campaign for 2017.\n",
    "\n",
    "Historical game sales data, user and expert ratings, genres and platforms (such as Xbox or PlayStation) are available from open sources. Data presented up to 2016."
   ]
  },
  {
   "cell_type": "markdown",
   "metadata": {},
   "source": [
    "### Research order"
   ]
  },
  {
   "cell_type": "markdown",
   "metadata": {},
   "source": [
    "At the beginning of the study, we will preprocess the data:\n",
    "\n",
    "* cast the data to the required types\n",
    "* handle missing values\n",
    "* get rid of duplicates\n",
    "\n",
    "We will choose an actual period for building a forecast for 2017 and then we will work only with data for this period.\n",
    "\n",
    "We will examine the impact of critic ratings and user ratings on game sales.\n",
    "\n",
    "For the current period, we will further study the most popular platforms. Separately, by region (North America, Europe and Japan), we will select the top 5:\n",
    "* platforms\n",
    "* genres\n",
    "* game ratings\n",
    "\n",
    "At the end of the study, we will give recommendations on the development of games for the most popular platforms, genres and ratings for the markets of North America, Europe and Japan."
   ]
  },
  {
   "cell_type": "markdown",
   "metadata": {},
   "source": [
    "## Data preparation <a id=\"preprocessing\"></a>"
   ]
  },
  {
   "cell_type": "markdown",
   "metadata": {},
   "source": [
    "### Opening data and casting to the desired types"
   ]
  },
  {
   "cell_type": "code",
   "execution_count": 161,
   "metadata": {},
   "outputs": [],
   "source": [
    "import pandas as pd\n",
    "pd.set_option('display.float_format', '{:,.2f}'.format)\n",
    "import numpy as np\n",
    "import matplotlib.pyplot as plt\n",
    "import math\n",
    "from scipy import stats as st"
   ]
  },
  {
   "cell_type": "code",
   "execution_count": 162,
   "metadata": {},
   "outputs": [],
   "source": [
    "try:\n",
    "    games = pd.read_csv('C:/Users/annar/Yandex_Practicum/Sbornyi_proect_1/Games csv.csv')# local path\n",
    "except:\n",
    "#     games = pd.read_csv('/datasets/Games csv.csv')  # server path\n",
    "    games = pd.read_csv('/datasets/games.csv') "
   ]
  },
  {
   "cell_type": "code",
   "execution_count": 163,
   "metadata": {},
   "outputs": [],
   "source": [
    "#Function to explore data\n",
    "def data_info(data):\n",
    "    return data.head(), data.info(), data.describe(), data.duplicated().sum(),data.isna().mean().apply('{:.0%}'.format)"
   ]
  },
  {
   "cell_type": "code",
   "execution_count": 164,
   "metadata": {
    "scrolled": true
   },
   "outputs": [
    {
     "name": "stdout",
     "output_type": "stream",
     "text": [
      "<class 'pandas.core.frame.DataFrame'>\n",
      "RangeIndex: 16715 entries, 0 to 16714\n",
      "Data columns (total 11 columns):\n",
      " #   Column           Non-Null Count  Dtype  \n",
      "---  ------           --------------  -----  \n",
      " 0   Name             16713 non-null  object \n",
      " 1   Platform         16715 non-null  object \n",
      " 2   Year_of_Release  16446 non-null  float64\n",
      " 3   Genre            16713 non-null  object \n",
      " 4   NA_sales         16715 non-null  float64\n",
      " 5   EU_sales         16715 non-null  float64\n",
      " 6   JP_sales         16715 non-null  float64\n",
      " 7   Other_sales      16715 non-null  float64\n",
      " 8   Critic_Score     8137 non-null   float64\n",
      " 9   User_Score       10014 non-null  object \n",
      " 10  Rating           9949 non-null   object \n",
      "dtypes: float64(6), object(5)\n",
      "memory usage: 1.4+ MB\n"
     ]
    },
    {
     "data": {
      "text/plain": [
       "(                       Name Platform  Year_of_Release         Genre  NA_sales  \\\n",
       " 0                Wii Sports      Wii         2,006.00        Sports     41.36   \n",
       " 1         Super Mario Bros.      NES         1,985.00      Platform     29.08   \n",
       " 2            Mario Kart Wii      Wii         2,008.00        Racing     15.68   \n",
       " 3         Wii Sports Resort      Wii         2,009.00        Sports     15.61   \n",
       " 4  Pokemon Red/Pokemon Blue       GB         1,996.00  Role-Playing     11.27   \n",
       " \n",
       "    EU_sales  JP_sales  Other_sales  Critic_Score User_Score Rating  \n",
       " 0     28.96      3.77         8.45         76.00          8      E  \n",
       " 1      3.58      6.81         0.77           NaN        NaN    NaN  \n",
       " 2     12.76      3.79         3.29         82.00        8.3      E  \n",
       " 3     10.93      3.28         2.95         80.00          8      E  \n",
       " 4      8.89     10.22         1.00           NaN        NaN    NaN  ,\n",
       " None,\n",
       "        Year_of_Release  NA_sales  EU_sales  JP_sales  Other_sales  \\\n",
       " count        16,446.00 16,715.00 16,715.00 16,715.00    16,715.00   \n",
       " mean          2,006.48      0.26      0.15      0.08         0.05   \n",
       " std               5.88      0.81      0.50      0.31         0.19   \n",
       " min           1,980.00      0.00      0.00      0.00         0.00   \n",
       " 25%           2,003.00      0.00      0.00      0.00         0.00   \n",
       " 50%           2,007.00      0.08      0.02      0.00         0.01   \n",
       " 75%           2,010.00      0.24      0.11      0.04         0.03   \n",
       " max           2,016.00     41.36     28.96     10.22        10.57   \n",
       " \n",
       "        Critic_Score  \n",
       " count      8,137.00  \n",
       " mean          68.97  \n",
       " std           13.94  \n",
       " min           13.00  \n",
       " 25%           60.00  \n",
       " 50%           71.00  \n",
       " 75%           79.00  \n",
       " max           98.00  ,\n",
       " 0,\n",
       " Name                0%\n",
       " Platform            0%\n",
       " Year_of_Release     2%\n",
       " Genre               0%\n",
       " NA_sales            0%\n",
       " EU_sales            0%\n",
       " JP_sales            0%\n",
       " Other_sales         0%\n",
       " Critic_Score       51%\n",
       " User_Score         40%\n",
       " Rating             40%\n",
       " dtype: object)"
      ]
     },
     "execution_count": 164,
     "metadata": {},
     "output_type": "execute_result"
    }
   ],
   "source": [
    "data_info(games)"
   ]
  },
  {
   "cell_type": "markdown",
   "metadata": {},
   "source": [
    "Переименуем столбцы для удобства работы с таблицей"
   ]
  },
  {
   "cell_type": "code",
   "execution_count": 165,
   "metadata": {},
   "outputs": [],
   "source": [
    "# Rename columns\n",
    "games=games.rename(columns={colname:colname.lower() for colname in games.axes[1]})"
   ]
  },
  {
   "cell_type": "code",
   "execution_count": 166,
   "metadata": {
    "scrolled": true
   },
   "outputs": [
    {
     "data": {
      "text/html": [
       "<div>\n",
       "<style scoped>\n",
       "    .dataframe tbody tr th:only-of-type {\n",
       "        vertical-align: middle;\n",
       "    }\n",
       "\n",
       "    .dataframe tbody tr th {\n",
       "        vertical-align: top;\n",
       "    }\n",
       "\n",
       "    .dataframe thead th {\n",
       "        text-align: right;\n",
       "    }\n",
       "</style>\n",
       "<table border=\"1\" class=\"dataframe\">\n",
       "  <thead>\n",
       "    <tr style=\"text-align: right;\">\n",
       "      <th></th>\n",
       "      <th>name</th>\n",
       "      <th>platform</th>\n",
       "      <th>year_of_release</th>\n",
       "      <th>genre</th>\n",
       "      <th>na_sales</th>\n",
       "      <th>eu_sales</th>\n",
       "      <th>jp_sales</th>\n",
       "      <th>other_sales</th>\n",
       "      <th>critic_score</th>\n",
       "      <th>user_score</th>\n",
       "      <th>rating</th>\n",
       "    </tr>\n",
       "  </thead>\n",
       "  <tbody>\n",
       "    <tr>\n",
       "      <th>0</th>\n",
       "      <td>Wii Sports</td>\n",
       "      <td>Wii</td>\n",
       "      <td>2,006.00</td>\n",
       "      <td>Sports</td>\n",
       "      <td>41.36</td>\n",
       "      <td>28.96</td>\n",
       "      <td>3.77</td>\n",
       "      <td>8.45</td>\n",
       "      <td>76.00</td>\n",
       "      <td>8</td>\n",
       "      <td>E</td>\n",
       "    </tr>\n",
       "    <tr>\n",
       "      <th>1</th>\n",
       "      <td>Super Mario Bros.</td>\n",
       "      <td>NES</td>\n",
       "      <td>1,985.00</td>\n",
       "      <td>Platform</td>\n",
       "      <td>29.08</td>\n",
       "      <td>3.58</td>\n",
       "      <td>6.81</td>\n",
       "      <td>0.77</td>\n",
       "      <td>NaN</td>\n",
       "      <td>NaN</td>\n",
       "      <td>NaN</td>\n",
       "    </tr>\n",
       "    <tr>\n",
       "      <th>2</th>\n",
       "      <td>Mario Kart Wii</td>\n",
       "      <td>Wii</td>\n",
       "      <td>2,008.00</td>\n",
       "      <td>Racing</td>\n",
       "      <td>15.68</td>\n",
       "      <td>12.76</td>\n",
       "      <td>3.79</td>\n",
       "      <td>3.29</td>\n",
       "      <td>82.00</td>\n",
       "      <td>8.3</td>\n",
       "      <td>E</td>\n",
       "    </tr>\n",
       "    <tr>\n",
       "      <th>3</th>\n",
       "      <td>Wii Sports Resort</td>\n",
       "      <td>Wii</td>\n",
       "      <td>2,009.00</td>\n",
       "      <td>Sports</td>\n",
       "      <td>15.61</td>\n",
       "      <td>10.93</td>\n",
       "      <td>3.28</td>\n",
       "      <td>2.95</td>\n",
       "      <td>80.00</td>\n",
       "      <td>8</td>\n",
       "      <td>E</td>\n",
       "    </tr>\n",
       "    <tr>\n",
       "      <th>4</th>\n",
       "      <td>Pokemon Red/Pokemon Blue</td>\n",
       "      <td>GB</td>\n",
       "      <td>1,996.00</td>\n",
       "      <td>Role-Playing</td>\n",
       "      <td>11.27</td>\n",
       "      <td>8.89</td>\n",
       "      <td>10.22</td>\n",
       "      <td>1.00</td>\n",
       "      <td>NaN</td>\n",
       "      <td>NaN</td>\n",
       "      <td>NaN</td>\n",
       "    </tr>\n",
       "  </tbody>\n",
       "</table>\n",
       "</div>"
      ],
      "text/plain": [
       "                       name platform  year_of_release         genre  na_sales  \\\n",
       "0                Wii Sports      Wii         2,006.00        Sports     41.36   \n",
       "1         Super Mario Bros.      NES         1,985.00      Platform     29.08   \n",
       "2            Mario Kart Wii      Wii         2,008.00        Racing     15.68   \n",
       "3         Wii Sports Resort      Wii         2,009.00        Sports     15.61   \n",
       "4  Pokemon Red/Pokemon Blue       GB         1,996.00  Role-Playing     11.27   \n",
       "\n",
       "   eu_sales  jp_sales  other_sales  critic_score user_score rating  \n",
       "0     28.96      3.77         8.45         76.00          8      E  \n",
       "1      3.58      6.81         0.77           NaN        NaN    NaN  \n",
       "2     12.76      3.79         3.29         82.00        8.3      E  \n",
       "3     10.93      3.28         2.95         80.00          8      E  \n",
       "4      8.89     10.22         1.00           NaN        NaN    NaN  "
      ]
     },
     "execution_count": 166,
     "metadata": {},
     "output_type": "execute_result"
    }
   ],
   "source": [
    "# Check that all columns have been renamed\n",
    "games.head()"
   ]
  },
  {
   "cell_type": "markdown",
   "metadata": {},
   "source": [
    "Let's change the data type of the `year_of_release` column to integer. This column also contains missing values. Let's process them first."
   ]
  },
  {
   "cell_type": "code",
   "execution_count": 167,
   "metadata": {
    "scrolled": true
   },
   "outputs": [
    {
     "data": {
      "text/html": [
       "<div>\n",
       "<style scoped>\n",
       "    .dataframe tbody tr th:only-of-type {\n",
       "        vertical-align: middle;\n",
       "    }\n",
       "\n",
       "    .dataframe tbody tr th {\n",
       "        vertical-align: top;\n",
       "    }\n",
       "\n",
       "    .dataframe thead th {\n",
       "        text-align: right;\n",
       "    }\n",
       "</style>\n",
       "<table border=\"1\" class=\"dataframe\">\n",
       "  <thead>\n",
       "    <tr style=\"text-align: right;\">\n",
       "      <th></th>\n",
       "      <th>name</th>\n",
       "      <th>platform</th>\n",
       "      <th>year_of_release</th>\n",
       "      <th>genre</th>\n",
       "      <th>na_sales</th>\n",
       "      <th>eu_sales</th>\n",
       "      <th>jp_sales</th>\n",
       "      <th>other_sales</th>\n",
       "      <th>critic_score</th>\n",
       "      <th>user_score</th>\n",
       "      <th>rating</th>\n",
       "    </tr>\n",
       "  </thead>\n",
       "  <tbody>\n",
       "    <tr>\n",
       "      <th>183</th>\n",
       "      <td>Madden NFL 2004</td>\n",
       "      <td>PS2</td>\n",
       "      <td>NaN</td>\n",
       "      <td>Sports</td>\n",
       "      <td>4.26</td>\n",
       "      <td>0.26</td>\n",
       "      <td>0.01</td>\n",
       "      <td>0.71</td>\n",
       "      <td>94.00</td>\n",
       "      <td>8.5</td>\n",
       "      <td>E</td>\n",
       "    </tr>\n",
       "    <tr>\n",
       "      <th>377</th>\n",
       "      <td>FIFA Soccer 2004</td>\n",
       "      <td>PS2</td>\n",
       "      <td>NaN</td>\n",
       "      <td>Sports</td>\n",
       "      <td>0.59</td>\n",
       "      <td>2.36</td>\n",
       "      <td>0.04</td>\n",
       "      <td>0.51</td>\n",
       "      <td>84.00</td>\n",
       "      <td>6.4</td>\n",
       "      <td>E</td>\n",
       "    </tr>\n",
       "    <tr>\n",
       "      <th>456</th>\n",
       "      <td>LEGO Batman: The Videogame</td>\n",
       "      <td>Wii</td>\n",
       "      <td>NaN</td>\n",
       "      <td>Action</td>\n",
       "      <td>1.80</td>\n",
       "      <td>0.97</td>\n",
       "      <td>0.00</td>\n",
       "      <td>0.29</td>\n",
       "      <td>74.00</td>\n",
       "      <td>7.9</td>\n",
       "      <td>E10+</td>\n",
       "    </tr>\n",
       "    <tr>\n",
       "      <th>475</th>\n",
       "      <td>wwe Smackdown vs. Raw 2006</td>\n",
       "      <td>PS2</td>\n",
       "      <td>NaN</td>\n",
       "      <td>Fighting</td>\n",
       "      <td>1.57</td>\n",
       "      <td>1.02</td>\n",
       "      <td>0.00</td>\n",
       "      <td>0.41</td>\n",
       "      <td>NaN</td>\n",
       "      <td>NaN</td>\n",
       "      <td>NaN</td>\n",
       "    </tr>\n",
       "    <tr>\n",
       "      <th>609</th>\n",
       "      <td>Space Invaders</td>\n",
       "      <td>2600</td>\n",
       "      <td>NaN</td>\n",
       "      <td>Shooter</td>\n",
       "      <td>2.36</td>\n",
       "      <td>0.14</td>\n",
       "      <td>0.00</td>\n",
       "      <td>0.03</td>\n",
       "      <td>NaN</td>\n",
       "      <td>NaN</td>\n",
       "      <td>NaN</td>\n",
       "    </tr>\n",
       "    <tr>\n",
       "      <th>...</th>\n",
       "      <td>...</td>\n",
       "      <td>...</td>\n",
       "      <td>...</td>\n",
       "      <td>...</td>\n",
       "      <td>...</td>\n",
       "      <td>...</td>\n",
       "      <td>...</td>\n",
       "      <td>...</td>\n",
       "      <td>...</td>\n",
       "      <td>...</td>\n",
       "      <td>...</td>\n",
       "    </tr>\n",
       "    <tr>\n",
       "      <th>16373</th>\n",
       "      <td>PDC World Championship Darts 2008</td>\n",
       "      <td>PSP</td>\n",
       "      <td>NaN</td>\n",
       "      <td>Sports</td>\n",
       "      <td>0.01</td>\n",
       "      <td>0.00</td>\n",
       "      <td>0.00</td>\n",
       "      <td>0.00</td>\n",
       "      <td>43.00</td>\n",
       "      <td>tbd</td>\n",
       "      <td>E10+</td>\n",
       "    </tr>\n",
       "    <tr>\n",
       "      <th>16405</th>\n",
       "      <td>Freaky Flyers</td>\n",
       "      <td>GC</td>\n",
       "      <td>NaN</td>\n",
       "      <td>Racing</td>\n",
       "      <td>0.01</td>\n",
       "      <td>0.00</td>\n",
       "      <td>0.00</td>\n",
       "      <td>0.00</td>\n",
       "      <td>69.00</td>\n",
       "      <td>6.5</td>\n",
       "      <td>T</td>\n",
       "    </tr>\n",
       "    <tr>\n",
       "      <th>16448</th>\n",
       "      <td>Inversion</td>\n",
       "      <td>PC</td>\n",
       "      <td>NaN</td>\n",
       "      <td>Shooter</td>\n",
       "      <td>0.01</td>\n",
       "      <td>0.00</td>\n",
       "      <td>0.00</td>\n",
       "      <td>0.00</td>\n",
       "      <td>59.00</td>\n",
       "      <td>6.7</td>\n",
       "      <td>M</td>\n",
       "    </tr>\n",
       "    <tr>\n",
       "      <th>16458</th>\n",
       "      <td>Hakuouki: Shinsengumi Kitan</td>\n",
       "      <td>PS3</td>\n",
       "      <td>NaN</td>\n",
       "      <td>Adventure</td>\n",
       "      <td>0.01</td>\n",
       "      <td>0.00</td>\n",
       "      <td>0.00</td>\n",
       "      <td>0.00</td>\n",
       "      <td>NaN</td>\n",
       "      <td>NaN</td>\n",
       "      <td>NaN</td>\n",
       "    </tr>\n",
       "    <tr>\n",
       "      <th>16522</th>\n",
       "      <td>Virtua Quest</td>\n",
       "      <td>GC</td>\n",
       "      <td>NaN</td>\n",
       "      <td>Role-Playing</td>\n",
       "      <td>0.01</td>\n",
       "      <td>0.00</td>\n",
       "      <td>0.00</td>\n",
       "      <td>0.00</td>\n",
       "      <td>55.00</td>\n",
       "      <td>5.5</td>\n",
       "      <td>T</td>\n",
       "    </tr>\n",
       "  </tbody>\n",
       "</table>\n",
       "<p>269 rows × 11 columns</p>\n",
       "</div>"
      ],
      "text/plain": [
       "                                    name platform  year_of_release  \\\n",
       "183                      Madden NFL 2004      PS2              NaN   \n",
       "377                     FIFA Soccer 2004      PS2              NaN   \n",
       "456           LEGO Batman: The Videogame      Wii              NaN   \n",
       "475           wwe Smackdown vs. Raw 2006      PS2              NaN   \n",
       "609                       Space Invaders     2600              NaN   \n",
       "...                                  ...      ...              ...   \n",
       "16373  PDC World Championship Darts 2008      PSP              NaN   \n",
       "16405                      Freaky Flyers       GC              NaN   \n",
       "16448                          Inversion       PC              NaN   \n",
       "16458        Hakuouki: Shinsengumi Kitan      PS3              NaN   \n",
       "16522                       Virtua Quest       GC              NaN   \n",
       "\n",
       "              genre  na_sales  eu_sales  jp_sales  other_sales  critic_score  \\\n",
       "183          Sports      4.26      0.26      0.01         0.71         94.00   \n",
       "377          Sports      0.59      2.36      0.04         0.51         84.00   \n",
       "456          Action      1.80      0.97      0.00         0.29         74.00   \n",
       "475        Fighting      1.57      1.02      0.00         0.41           NaN   \n",
       "609         Shooter      2.36      0.14      0.00         0.03           NaN   \n",
       "...             ...       ...       ...       ...          ...           ...   \n",
       "16373        Sports      0.01      0.00      0.00         0.00         43.00   \n",
       "16405        Racing      0.01      0.00      0.00         0.00         69.00   \n",
       "16448       Shooter      0.01      0.00      0.00         0.00         59.00   \n",
       "16458     Adventure      0.01      0.00      0.00         0.00           NaN   \n",
       "16522  Role-Playing      0.01      0.00      0.00         0.00         55.00   \n",
       "\n",
       "      user_score rating  \n",
       "183          8.5      E  \n",
       "377          6.4      E  \n",
       "456          7.9   E10+  \n",
       "475          NaN    NaN  \n",
       "609          NaN    NaN  \n",
       "...          ...    ...  \n",
       "16373        tbd   E10+  \n",
       "16405        6.5      T  \n",
       "16448        6.7      M  \n",
       "16458        NaN    NaN  \n",
       "16522        5.5      T  \n",
       "\n",
       "[269 rows x 11 columns]"
      ]
     },
     "execution_count": 167,
     "metadata": {},
     "output_type": "execute_result"
    }
   ],
   "source": [
    "# Look for rows with missing values in the 'year_of_release' column\n",
    "games.loc[games['year_of_release'].isna()]"
   ]
  },
  {
   "cell_type": "code",
   "execution_count": 168,
   "metadata": {},
   "outputs": [
    {
     "data": {
      "text/plain": [
       "LEGO Harry Potter: Years 5-7    7\n",
       "Happy Feet Two                  4\n",
       "Rock Band                       4\n",
       "Test Drive Unlimited 2          3\n",
       "Bejeweled 3                     3\n",
       "                               ..\n",
       "Jet X20                         1\n",
       "Tony Hawk's Downhill Jam        1\n",
       "Tribes: Aerial Assault          1\n",
       "Big Beach Sports 2              1\n",
       "Hakuouki: Shinsengumi Kitan     1\n",
       "Name: name, Length: 232, dtype: int64"
      ]
     },
     "execution_count": 168,
     "metadata": {},
     "output_type": "execute_result"
    }
   ],
   "source": [
    "# Names of games missing a value in the 'year_of_release' column\n",
    "games.loc[games['year_of_release'].isna()]['name'].value_counts()"
   ]
  },
  {
   "cell_type": "code",
   "execution_count": 169,
   "metadata": {
    "scrolled": false
   },
   "outputs": [
    {
     "data": {
      "text/plain": [
       "1.609332934489979"
      ]
     },
     "execution_count": 169,
     "metadata": {},
     "output_type": "execute_result"
    }
   ],
   "source": [
    "# Percentage of missing values in the 'year_of_release' column\n",
    "len(games.loc[games['year_of_release'].isna()])/len(games)*100"
   ]
  },
  {
   "cell_type": "markdown",
   "metadata": {},
   "source": [
    "The `year_of_release` column is missing 1.6% of the values. It is not possible to replace them in a reasonable time (search on the Internet for each game of the year of release). Therefore, we decide to get rid of rows with a missing value in the `year_of_release` column."
   ]
  },
  {
   "cell_type": "code",
   "execution_count": 170,
   "metadata": {},
   "outputs": [],
   "source": [
    "# Get rid of rows with NaN in 'year_of_release'\n",
    "games=games.dropna(subset=['year_of_release'])"
   ]
  },
  {
   "cell_type": "markdown",
   "metadata": {},
   "source": [
    "Change the data type of the `year_of_release` column to integer."
   ]
  },
  {
   "cell_type": "code",
   "execution_count": 171,
   "metadata": {
    "scrolled": false
   },
   "outputs": [],
   "source": [
    "# Change data type to integer\n",
    "games['year_of_release']=games['year_of_release'].astype(int)"
   ]
  },
  {
   "cell_type": "code",
   "execution_count": 172,
   "metadata": {},
   "outputs": [
    {
     "data": {
      "text/html": [
       "<div>\n",
       "<style scoped>\n",
       "    .dataframe tbody tr th:only-of-type {\n",
       "        vertical-align: middle;\n",
       "    }\n",
       "\n",
       "    .dataframe tbody tr th {\n",
       "        vertical-align: top;\n",
       "    }\n",
       "\n",
       "    .dataframe thead th {\n",
       "        text-align: right;\n",
       "    }\n",
       "</style>\n",
       "<table border=\"1\" class=\"dataframe\">\n",
       "  <thead>\n",
       "    <tr style=\"text-align: right;\">\n",
       "      <th></th>\n",
       "      <th>name</th>\n",
       "      <th>platform</th>\n",
       "      <th>year_of_release</th>\n",
       "      <th>genre</th>\n",
       "      <th>na_sales</th>\n",
       "      <th>eu_sales</th>\n",
       "      <th>jp_sales</th>\n",
       "      <th>other_sales</th>\n",
       "      <th>critic_score</th>\n",
       "      <th>user_score</th>\n",
       "      <th>rating</th>\n",
       "    </tr>\n",
       "  </thead>\n",
       "  <tbody>\n",
       "    <tr>\n",
       "      <th>0</th>\n",
       "      <td>Wii Sports</td>\n",
       "      <td>Wii</td>\n",
       "      <td>2006</td>\n",
       "      <td>Sports</td>\n",
       "      <td>41.36</td>\n",
       "      <td>28.96</td>\n",
       "      <td>3.77</td>\n",
       "      <td>8.45</td>\n",
       "      <td>76.00</td>\n",
       "      <td>8</td>\n",
       "      <td>E</td>\n",
       "    </tr>\n",
       "    <tr>\n",
       "      <th>1</th>\n",
       "      <td>Super Mario Bros.</td>\n",
       "      <td>NES</td>\n",
       "      <td>1985</td>\n",
       "      <td>Platform</td>\n",
       "      <td>29.08</td>\n",
       "      <td>3.58</td>\n",
       "      <td>6.81</td>\n",
       "      <td>0.77</td>\n",
       "      <td>NaN</td>\n",
       "      <td>NaN</td>\n",
       "      <td>NaN</td>\n",
       "    </tr>\n",
       "    <tr>\n",
       "      <th>2</th>\n",
       "      <td>Mario Kart Wii</td>\n",
       "      <td>Wii</td>\n",
       "      <td>2008</td>\n",
       "      <td>Racing</td>\n",
       "      <td>15.68</td>\n",
       "      <td>12.76</td>\n",
       "      <td>3.79</td>\n",
       "      <td>3.29</td>\n",
       "      <td>82.00</td>\n",
       "      <td>8.3</td>\n",
       "      <td>E</td>\n",
       "    </tr>\n",
       "    <tr>\n",
       "      <th>3</th>\n",
       "      <td>Wii Sports Resort</td>\n",
       "      <td>Wii</td>\n",
       "      <td>2009</td>\n",
       "      <td>Sports</td>\n",
       "      <td>15.61</td>\n",
       "      <td>10.93</td>\n",
       "      <td>3.28</td>\n",
       "      <td>2.95</td>\n",
       "      <td>80.00</td>\n",
       "      <td>8</td>\n",
       "      <td>E</td>\n",
       "    </tr>\n",
       "    <tr>\n",
       "      <th>4</th>\n",
       "      <td>Pokemon Red/Pokemon Blue</td>\n",
       "      <td>GB</td>\n",
       "      <td>1996</td>\n",
       "      <td>Role-Playing</td>\n",
       "      <td>11.27</td>\n",
       "      <td>8.89</td>\n",
       "      <td>10.22</td>\n",
       "      <td>1.00</td>\n",
       "      <td>NaN</td>\n",
       "      <td>NaN</td>\n",
       "      <td>NaN</td>\n",
       "    </tr>\n",
       "  </tbody>\n",
       "</table>\n",
       "</div>"
      ],
      "text/plain": [
       "                       name platform  year_of_release         genre  na_sales  \\\n",
       "0                Wii Sports      Wii             2006        Sports     41.36   \n",
       "1         Super Mario Bros.      NES             1985      Platform     29.08   \n",
       "2            Mario Kart Wii      Wii             2008        Racing     15.68   \n",
       "3         Wii Sports Resort      Wii             2009        Sports     15.61   \n",
       "4  Pokemon Red/Pokemon Blue       GB             1996  Role-Playing     11.27   \n",
       "\n",
       "   eu_sales  jp_sales  other_sales  critic_score user_score rating  \n",
       "0     28.96      3.77         8.45         76.00          8      E  \n",
       "1      3.58      6.81         0.77           NaN        NaN    NaN  \n",
       "2     12.76      3.79         3.29         82.00        8.3      E  \n",
       "3     10.93      3.28         2.95         80.00          8      E  \n",
       "4      8.89     10.22         1.00           NaN        NaN    NaN  "
      ]
     },
     "execution_count": 172,
     "metadata": {},
     "output_type": "execute_result"
    }
   ],
   "source": [
    "# Check if the data type has changed\n",
    "games.head()"
   ]
  },
  {
   "cell_type": "markdown",
   "metadata": {},
   "source": [
    "###  Handling Missing Values"
   ]
  },
  {
   "cell_type": "markdown",
   "metadata": {},
   "source": [
    "The table has missing values in the `name`, `genre`, `year_of_release`, `critic_score`, `user_score` and `raiting` columns. In `year_of_release` we removed rows with missing values. Let's handle the missing values in the `name`, `genre`, `critic_score`, `user_score` and `raiting` columns."
   ]
  },
  {
   "cell_type": "code",
   "execution_count": 173,
   "metadata": {},
   "outputs": [
    {
     "name": "stdout",
     "output_type": "stream",
     "text": [
      "<class 'pandas.core.frame.DataFrame'>\n",
      "Int64Index: 16446 entries, 0 to 16714\n",
      "Data columns (total 11 columns):\n",
      " #   Column           Non-Null Count  Dtype  \n",
      "---  ------           --------------  -----  \n",
      " 0   name             16444 non-null  object \n",
      " 1   platform         16446 non-null  object \n",
      " 2   year_of_release  16446 non-null  int32  \n",
      " 3   genre            16444 non-null  object \n",
      " 4   na_sales         16446 non-null  float64\n",
      " 5   eu_sales         16446 non-null  float64\n",
      " 6   jp_sales         16446 non-null  float64\n",
      " 7   other_sales      16446 non-null  float64\n",
      " 8   critic_score     7983 non-null   float64\n",
      " 9   user_score       9839 non-null   object \n",
      " 10  rating           9768 non-null   object \n",
      "dtypes: float64(5), int32(1), object(5)\n",
      "memory usage: 1.4+ MB\n"
     ]
    },
    {
     "data": {
      "text/plain": [
       "(                       name platform  year_of_release         genre  na_sales  \\\n",
       " 0                Wii Sports      Wii             2006        Sports     41.36   \n",
       " 1         Super Mario Bros.      NES             1985      Platform     29.08   \n",
       " 2            Mario Kart Wii      Wii             2008        Racing     15.68   \n",
       " 3         Wii Sports Resort      Wii             2009        Sports     15.61   \n",
       " 4  Pokemon Red/Pokemon Blue       GB             1996  Role-Playing     11.27   \n",
       " \n",
       "    eu_sales  jp_sales  other_sales  critic_score user_score rating  \n",
       " 0     28.96      3.77         8.45         76.00          8      E  \n",
       " 1      3.58      6.81         0.77           NaN        NaN    NaN  \n",
       " 2     12.76      3.79         3.29         82.00        8.3      E  \n",
       " 3     10.93      3.28         2.95         80.00          8      E  \n",
       " 4      8.89     10.22         1.00           NaN        NaN    NaN  ,\n",
       " None,\n",
       "        year_of_release  na_sales  eu_sales  jp_sales  other_sales  \\\n",
       " count        16,446.00 16,446.00 16,446.00 16,446.00    16,446.00   \n",
       " mean          2,006.48      0.26      0.15      0.08         0.05   \n",
       " std               5.88      0.82      0.51      0.31         0.19   \n",
       " min           1,980.00      0.00      0.00      0.00         0.00   \n",
       " 25%           2,003.00      0.00      0.00      0.00         0.00   \n",
       " 50%           2,007.00      0.08      0.02      0.00         0.01   \n",
       " 75%           2,010.00      0.24      0.11      0.04         0.03   \n",
       " max           2,016.00     41.36     28.96     10.22        10.57   \n",
       " \n",
       "        critic_score  \n",
       " count      7,983.00  \n",
       " mean          68.99  \n",
       " std           13.92  \n",
       " min           13.00  \n",
       " 25%           60.00  \n",
       " 50%           71.00  \n",
       " 75%           79.00  \n",
       " max           98.00  ,\n",
       " 0,\n",
       " name                0%\n",
       " platform            0%\n",
       " year_of_release     0%\n",
       " genre               0%\n",
       " na_sales            0%\n",
       " eu_sales            0%\n",
       " jp_sales            0%\n",
       " other_sales         0%\n",
       " critic_score       51%\n",
       " user_score         40%\n",
       " rating             41%\n",
       " dtype: object)"
      ]
     },
     "execution_count": 173,
     "metadata": {},
     "output_type": "execute_result"
    }
   ],
   "source": [
    "data_info(games)"
   ]
  },
  {
   "cell_type": "markdown",
   "metadata": {},
   "source": [
    "#### Handling missing values in 'critic_score' column"
   ]
  },
  {
   "cell_type": "code",
   "execution_count": 174,
   "metadata": {},
   "outputs": [
    {
     "data": {
      "image/png": "[encoded data removed]",
      "text/plain": [
       "<Figure size 720x360 with 1 Axes>"
      ]
     },
     "metadata": {
      "needs_background": "light"
     },
     "output_type": "display_data"
    }
   ],
   "source": [
    "(games\n",
    " .loc[games['critic_score'].isna()]\n",
    " .pivot_table(index='year_of_release',values='name', aggfunc='count')\n",
    " .plot(\n",
    "     kind='bar', y='name', xlabel='Year', ylabel='Missing values in `critic_score`, units',\n",
    "     title = 'Missing values in `critic_score` column', figsize = (10,5))\n",
    ")\n",
    "plt.show()"
   ]
  },
  {
   "cell_type": "code",
   "execution_count": 175,
   "metadata": {
    "scrolled": true
   },
   "outputs": [
    {
     "data": {
      "text/plain": [
       "array([76., nan, 82., 80., 89., 58., 87., 91., 61., 97., 95., 77., 88.,\n",
       "       83., 94., 93., 85., 86., 98., 96., 90., 84., 73., 74., 78., 92.,\n",
       "       71., 72., 68., 62., 49., 67., 81., 66., 56., 79., 70., 59., 64.,\n",
       "       75., 60., 63., 69., 50., 25., 42., 44., 55., 48., 57., 29., 47.,\n",
       "       65., 54., 20., 53., 37., 38., 33., 52., 30., 32., 43., 45., 51.,\n",
       "       40., 46., 39., 34., 41., 36., 31., 27., 35., 26., 19., 28., 23.,\n",
       "       24., 21., 17., 13.])"
      ]
     },
     "execution_count": 175,
     "metadata": {},
     "output_type": "execute_result"
    }
   ],
   "source": [
    "# Unique values of the 'critic_score' column\n",
    "games['critic_score']. unique()"
   ]
  },
  {
   "cell_type": "markdown",
   "metadata": {},
   "source": [
    "Perhaps the missing values in the `critic_score` column appeared when the data was unloaded. Let's leave them unchanged for now."
   ]
  },
  {
   "cell_type": "markdown",
   "metadata": {},
   "source": [
    "#### Handling missing values in 'user_score' column"
   ]
  },
  {
   "cell_type": "code",
   "execution_count": 176,
   "metadata": {
    "scrolled": true
   },
   "outputs": [
    {
     "data": {
      "image/png": "[encoded data removed]",
      "text/plain": [
       "<Figure size 720x360 with 1 Axes>"
      ]
     },
     "metadata": {
      "needs_background": "light"
     },
     "output_type": "display_data"
    }
   ],
   "source": [
    "# Rows with NaN in 'user_score', yearly distribution\n",
    "(games\n",
    " .loc[games['user_score'].isna()]\n",
    " .pivot_table(index='year_of_release',values='name', aggfunc='count')\n",
    " .plot(kind='bar', y='name', xlabel='year', \n",
    "       ylabel='Missing values in `user_score` , units', title = 'Missing values in `user_score` column', figsize = (10,5))\n",
    ")\n",
    "plt.show()"
   ]
  },
  {
   "cell_type": "code",
   "execution_count": 177,
   "metadata": {
    "scrolled": false
   },
   "outputs": [
    {
     "data": {
      "text/plain": [
       "array(['8', nan, '8.3', '8.5', '6.6', '8.4', '8.6', '7.7', '6.3', '7.4',\n",
       "       '8.2', '9', '7.9', '8.1', '8.7', '7.1', '3.4', '5.3', '4.8', '3.2',\n",
       "       '8.9', '6.4', '7.8', '7.5', '2.6', '7.2', '9.2', '7', '7.3', '4.3',\n",
       "       '7.6', '5.7', '5', '9.1', '6.5', 'tbd', '8.8', '6.9', '9.4', '6.8',\n",
       "       '6.1', '6.7', '5.4', '4', '4.9', '4.5', '9.3', '6.2', '4.2', '6',\n",
       "       '3.7', '4.1', '5.8', '5.6', '5.5', '4.4', '4.6', '5.9', '3.9',\n",
       "       '3.1', '2.9', '5.2', '3.3', '4.7', '5.1', '3.5', '2.5', '1.9', '3',\n",
       "       '2.7', '2.2', '2', '9.5', '2.1', '3.6', '2.8', '1.8', '3.8', '0',\n",
       "       '1.6', '9.6', '2.4', '1.7', '1.1', '0.3', '1.5', '0.7', '1.2',\n",
       "       '2.3', '0.5', '1.3', '0.2', '0.6', '1.4', '0.9', '1', '9.7'],\n",
       "      dtype=object)"
      ]
     },
     "execution_count": 177,
     "metadata": {},
     "output_type": "execute_result"
    }
   ],
   "source": [
    "# Unique values of the 'user_score' column\n",
    "games['user_score'].unique()"
   ]
  },
  {
   "cell_type": "markdown",
   "metadata": {},
   "source": [
    "Let's assume that the `tbd` (To Be Determined) values of the `user_score` column are also missing values."
   ]
  },
  {
   "cell_type": "code",
   "execution_count": 178,
   "metadata": {
    "scrolled": false
   },
   "outputs": [
    {
     "data": {
      "text/plain": [
       "14.447282013863552"
      ]
     },
     "execution_count": 178,
     "metadata": {},
     "output_type": "execute_result"
    }
   ],
   "source": [
    "# Percentage of rows with value 'tbd' in `user_score` column\n",
    "len(games.query('user_score==\"tbd\"'))/len(games)*100"
   ]
  },
  {
   "cell_type": "markdown",
   "metadata": {},
   "source": [
    "Then we can use the to_numeric method to convert the user_score data type from object to float. Instead of tbd , the to_numeric method with errors='coerce' will return NaN."
   ]
  },
  {
   "cell_type": "code",
   "execution_count": 179,
   "metadata": {},
   "outputs": [],
   "source": [
    "# Data type conversion in `user_score` column\n",
    "games['user_score']=pd.to_numeric(games['user_score'],errors='coerce')"
   ]
  },
  {
   "cell_type": "code",
   "execution_count": 180,
   "metadata": {
    "scrolled": false
   },
   "outputs": [
    {
     "data": {
      "text/plain": [
       "0   8.00\n",
       "1    NaN\n",
       "2   8.30\n",
       "3   8.00\n",
       "4    NaN\n",
       "Name: user_score, dtype: float64"
      ]
     },
     "execution_count": 180,
     "metadata": {},
     "output_type": "execute_result"
    }
   ],
   "source": [
    "# Checking\n",
    "games['user_score'].head()"
   ]
  },
  {
   "cell_type": "markdown",
   "metadata": {},
   "source": [
    "A possible missing value in the user_score column appeared when the data was uploaded. Let's leave them unchanged for now."
   ]
  },
  {
   "cell_type": "markdown",
   "metadata": {},
   "source": [
    "#### Handling missing values in the 'rating' column"
   ]
  },
  {
   "cell_type": "code",
   "execution_count": 181,
   "metadata": {
    "scrolled": true
   },
   "outputs": [
    {
     "data": {
      "image/png": "[encoded data removed]",
      "text/plain": [
       "<Figure size 720x360 with 1 Axes>"
      ]
     },
     "metadata": {
      "needs_background": "light"
     },
     "output_type": "display_data"
    }
   ],
   "source": [
    "# Rows with NaN in 'rating', yearly distribution\n",
    "(games\n",
    " .loc[games['rating'].isna()]\n",
    " .pivot_table(index='year_of_release',values='name', aggfunc='count')\n",
    " .plot(kind='bar', y='name', xlabel='year', \n",
    "       ylabel='Missing values in `rating` , units', title = 'Missing values in `rating` column', figsize = (10,5))\n",
    ")\n",
    "plt.show()"
   ]
  },
  {
   "cell_type": "code",
   "execution_count": 182,
   "metadata": {},
   "outputs": [
    {
     "data": {
      "text/plain": [
       "E       3921\n",
       "T       2905\n",
       "M       1536\n",
       "E10+    1393\n",
       "EC         8\n",
       "K-A        3\n",
       "AO         1\n",
       "RP         1\n",
       "Name: rating, dtype: int64"
      ]
     },
     "execution_count": 182,
     "metadata": {},
     "output_type": "execute_result"
    }
   ],
   "source": [
    "# Unique values of the 'rating' column\n",
    "games['rating']. value_counts()"
   ]
  },
  {
   "cell_type": "markdown",
   "metadata": {},
   "source": [
    "In the `rating` column, we will replace the missing values with the string \"Unknown\", assuming that there is no rating information for these games."
   ]
  },
  {
   "cell_type": "code",
   "execution_count": 183,
   "metadata": {},
   "outputs": [],
   "source": [
    "# Replacing NaN in 'rating' column with 'Unknown'\n",
    "games.loc[games['rating'].isna(),'rating']='Unknown'"
   ]
  },
  {
   "cell_type": "code",
   "execution_count": 184,
   "metadata": {
    "scrolled": true
   },
   "outputs": [
    {
     "data": {
      "text/plain": [
       "array(['E', 'Unknown', 'M', 'T', 'E10+', 'K-A', 'AO', 'EC', 'RP'],\n",
       "      dtype=object)"
      ]
     },
     "execution_count": 184,
     "metadata": {},
     "output_type": "execute_result"
    }
   ],
   "source": [
    "# Checking\n",
    "games['rating']. unique()"
   ]
  },
  {
   "cell_type": "markdown",
   "metadata": {},
   "source": [
    "#### Handling missing values in 'rating' and 'genre' columns"
   ]
  },
  {
   "cell_type": "markdown",
   "metadata": {},
   "source": [
    "For the `name` and `genre` columns, we will delete rows with missing values in `name` and `genre` at the same time, because they do not carry important information about the game name and genre."
   ]
  },
  {
   "cell_type": "code",
   "execution_count": 185,
   "metadata": {},
   "outputs": [
    {
     "data": {
      "text/html": [
       "<div>\n",
       "<style scoped>\n",
       "    .dataframe tbody tr th:only-of-type {\n",
       "        vertical-align: middle;\n",
       "    }\n",
       "\n",
       "    .dataframe tbody tr th {\n",
       "        vertical-align: top;\n",
       "    }\n",
       "\n",
       "    .dataframe thead th {\n",
       "        text-align: right;\n",
       "    }\n",
       "</style>\n",
       "<table border=\"1\" class=\"dataframe\">\n",
       "  <thead>\n",
       "    <tr style=\"text-align: right;\">\n",
       "      <th></th>\n",
       "      <th>name</th>\n",
       "      <th>platform</th>\n",
       "      <th>year_of_release</th>\n",
       "      <th>genre</th>\n",
       "      <th>na_sales</th>\n",
       "      <th>eu_sales</th>\n",
       "      <th>jp_sales</th>\n",
       "      <th>other_sales</th>\n",
       "      <th>critic_score</th>\n",
       "      <th>user_score</th>\n",
       "      <th>rating</th>\n",
       "    </tr>\n",
       "  </thead>\n",
       "  <tbody>\n",
       "    <tr>\n",
       "      <th>659</th>\n",
       "      <td>NaN</td>\n",
       "      <td>GEN</td>\n",
       "      <td>1993</td>\n",
       "      <td>NaN</td>\n",
       "      <td>1.78</td>\n",
       "      <td>0.53</td>\n",
       "      <td>0.00</td>\n",
       "      <td>0.08</td>\n",
       "      <td>NaN</td>\n",
       "      <td>NaN</td>\n",
       "      <td>Unknown</td>\n",
       "    </tr>\n",
       "    <tr>\n",
       "      <th>14244</th>\n",
       "      <td>NaN</td>\n",
       "      <td>GEN</td>\n",
       "      <td>1993</td>\n",
       "      <td>NaN</td>\n",
       "      <td>0.00</td>\n",
       "      <td>0.00</td>\n",
       "      <td>0.03</td>\n",
       "      <td>0.00</td>\n",
       "      <td>NaN</td>\n",
       "      <td>NaN</td>\n",
       "      <td>Unknown</td>\n",
       "    </tr>\n",
       "  </tbody>\n",
       "</table>\n",
       "</div>"
      ],
      "text/plain": [
       "      name platform  year_of_release genre  na_sales  eu_sales  jp_sales  \\\n",
       "659    NaN      GEN             1993   NaN      1.78      0.53      0.00   \n",
       "14244  NaN      GEN             1993   NaN      0.00      0.00      0.03   \n",
       "\n",
       "       other_sales  critic_score  user_score   rating  \n",
       "659           0.08           NaN         NaN  Unknown  \n",
       "14244         0.00           NaN         NaN  Unknown  "
      ]
     },
     "execution_count": 185,
     "metadata": {},
     "output_type": "execute_result"
    }
   ],
   "source": [
    "# Rows with NaN in 'name' and 'genre'\n",
    "games.loc[games['name'].isna()]"
   ]
  },
  {
   "cell_type": "code",
   "execution_count": 186,
   "metadata": {},
   "outputs": [],
   "source": [
    "# Removing rows with NaN in 'name' and 'genre'\n",
    "games=games.dropna(subset=['name'])"
   ]
  },
  {
   "cell_type": "code",
   "execution_count": 187,
   "metadata": {},
   "outputs": [
    {
     "data": {
      "text/plain": [
       "0"
      ]
     },
     "execution_count": 187,
     "metadata": {},
     "output_type": "execute_result"
    }
   ],
   "source": [
    "# Check if the rows are deleted\n",
    "len(games.loc[games['name'].isna()])"
   ]
  },
  {
   "cell_type": "markdown",
   "metadata": {},
   "source": [
    "### Data Processing Conclusions"
   ]
  },
  {
   "cell_type": "markdown",
   "metadata": {},
   "source": [
    "So, we have processed the data in the `games` table:\n",
    "\n",
    "* converted to type `int` the data of the column `year_of_release`\n",
    "* converted to type `float` the data of the `user_score` column\n",
    "* removed from the table rows with missing values in the `year_of_release` column\n",
    "* replaced the missing values in the `rating` column with the string value `Unknown`\n",
    "* left missing values in the `user_score` and `critic_score` columns unchanged"
   ]
  },
  {
   "cell_type": "code",
   "execution_count": 188,
   "metadata": {
    "scrolled": true
   },
   "outputs": [
    {
     "name": "stdout",
     "output_type": "stream",
     "text": [
      "<class 'pandas.core.frame.DataFrame'>\n",
      "Int64Index: 16444 entries, 0 to 16714\n",
      "Data columns (total 11 columns):\n",
      " #   Column           Non-Null Count  Dtype  \n",
      "---  ------           --------------  -----  \n",
      " 0   name             16444 non-null  object \n",
      " 1   platform         16444 non-null  object \n",
      " 2   year_of_release  16444 non-null  int32  \n",
      " 3   genre            16444 non-null  object \n",
      " 4   na_sales         16444 non-null  float64\n",
      " 5   eu_sales         16444 non-null  float64\n",
      " 6   jp_sales         16444 non-null  float64\n",
      " 7   other_sales      16444 non-null  float64\n",
      " 8   critic_score     7983 non-null   float64\n",
      " 9   user_score       7463 non-null   float64\n",
      " 10  rating           16444 non-null  object \n",
      "dtypes: float64(6), int32(1), object(4)\n",
      "memory usage: 1.4+ MB\n"
     ]
    },
    {
     "data": {
      "text/plain": [
       "(                       name platform  year_of_release         genre  na_sales  \\\n",
       " 0                Wii Sports      Wii             2006        Sports     41.36   \n",
       " 1         Super Mario Bros.      NES             1985      Platform     29.08   \n",
       " 2            Mario Kart Wii      Wii             2008        Racing     15.68   \n",
       " 3         Wii Sports Resort      Wii             2009        Sports     15.61   \n",
       " 4  Pokemon Red/Pokemon Blue       GB             1996  Role-Playing     11.27   \n",
       " \n",
       "    eu_sales  jp_sales  other_sales  critic_score  user_score   rating  \n",
       " 0     28.96      3.77         8.45         76.00        8.00        E  \n",
       " 1      3.58      6.81         0.77           NaN         NaN  Unknown  \n",
       " 2     12.76      3.79         3.29         82.00        8.30        E  \n",
       " 3     10.93      3.28         2.95         80.00        8.00        E  \n",
       " 4      8.89     10.22         1.00           NaN         NaN  Unknown  ,\n",
       " None,\n",
       "        year_of_release  na_sales  eu_sales  jp_sales  other_sales  \\\n",
       " count        16,444.00 16,444.00 16,444.00 16,444.00    16,444.00   \n",
       " mean          2,006.49      0.26      0.15      0.08         0.05   \n",
       " std               5.88      0.82      0.51      0.31         0.19   \n",
       " min           1,980.00      0.00      0.00      0.00         0.00   \n",
       " 25%           2,003.00      0.00      0.00      0.00         0.00   \n",
       " 50%           2,007.00      0.08      0.02      0.00         0.01   \n",
       " 75%           2,010.00      0.24      0.11      0.04         0.03   \n",
       " max           2,016.00     41.36     28.96     10.22        10.57   \n",
       " \n",
       "        critic_score  user_score  \n",
       " count      7,983.00    7,463.00  \n",
       " mean          68.99        7.13  \n",
       " std           13.92        1.50  \n",
       " min           13.00        0.00  \n",
       " 25%           60.00        6.40  \n",
       " 50%           71.00        7.50  \n",
       " 75%           79.00        8.20  \n",
       " max           98.00        9.70  ,\n",
       " 0,\n",
       " name                0%\n",
       " platform            0%\n",
       " year_of_release     0%\n",
       " genre               0%\n",
       " na_sales            0%\n",
       " eu_sales            0%\n",
       " jp_sales            0%\n",
       " other_sales         0%\n",
       " critic_score       51%\n",
       " user_score         55%\n",
       " rating              0%\n",
       " dtype: object)"
      ]
     },
     "execution_count": 188,
     "metadata": {},
     "output_type": "execute_result"
    }
   ],
   "source": [
    "# Final table\n",
    "data_info(games)"
   ]
  },
  {
   "cell_type": "markdown",
   "metadata": {},
   "source": [
    "### Duplicate Handling"
   ]
  },
  {
   "cell_type": "code",
   "execution_count": 189,
   "metadata": {
    "scrolled": true
   },
   "outputs": [
    {
     "data": {
      "text/plain": [
       "False    16444\n",
       "dtype: int64"
      ]
     },
     "execution_count": 189,
     "metadata": {},
     "output_type": "execute_result"
    }
   ],
   "source": [
    "games.duplicated().value_counts()"
   ]
  },
  {
   "cell_type": "markdown",
   "metadata": {},
   "source": [
    "No duplicates were found in the table."
   ]
  },
  {
   "cell_type": "markdown",
   "metadata": {},
   "source": [
    "### Adding a column with total revenue by region"
   ]
  },
  {
   "cell_type": "code",
   "execution_count": 190,
   "metadata": {},
   "outputs": [],
   "source": [
    "# Adding a column 'grand_total_sales' with total revenue by region\n",
    "games['grand_total_sales']=games[['na_sales','eu_sales','jp_sales', 'other_sales']].sum(axis = 1)"
   ]
  },
  {
   "cell_type": "code",
   "execution_count": 191,
   "metadata": {},
   "outputs": [
    {
     "name": "stdout",
     "output_type": "stream",
     "text": [
      "<class 'pandas.core.frame.DataFrame'>\n",
      "Int64Index: 16444 entries, 0 to 16714\n",
      "Data columns (total 12 columns):\n",
      " #   Column             Non-Null Count  Dtype  \n",
      "---  ------             --------------  -----  \n",
      " 0   name               16444 non-null  object \n",
      " 1   platform           16444 non-null  object \n",
      " 2   year_of_release    16444 non-null  int32  \n",
      " 3   genre              16444 non-null  object \n",
      " 4   na_sales           16444 non-null  float64\n",
      " 5   eu_sales           16444 non-null  float64\n",
      " 6   jp_sales           16444 non-null  float64\n",
      " 7   other_sales        16444 non-null  float64\n",
      " 8   critic_score       7983 non-null   float64\n",
      " 9   user_score         7463 non-null   float64\n",
      " 10  rating             16444 non-null  object \n",
      " 11  grand_total_sales  16444 non-null  float64\n",
      "dtypes: float64(7), int32(1), object(4)\n",
      "memory usage: 1.6+ MB\n"
     ]
    },
    {
     "data": {
      "text/plain": [
       "(                       name platform  year_of_release         genre  na_sales  \\\n",
       " 0                Wii Sports      Wii             2006        Sports     41.36   \n",
       " 1         Super Mario Bros.      NES             1985      Platform     29.08   \n",
       " 2            Mario Kart Wii      Wii             2008        Racing     15.68   \n",
       " 3         Wii Sports Resort      Wii             2009        Sports     15.61   \n",
       " 4  Pokemon Red/Pokemon Blue       GB             1996  Role-Playing     11.27   \n",
       " \n",
       "    eu_sales  jp_sales  other_sales  critic_score  user_score   rating  \\\n",
       " 0     28.96      3.77         8.45         76.00        8.00        E   \n",
       " 1      3.58      6.81         0.77           NaN         NaN  Unknown   \n",
       " 2     12.76      3.79         3.29         82.00        8.30        E   \n",
       " 3     10.93      3.28         2.95         80.00        8.00        E   \n",
       " 4      8.89     10.22         1.00           NaN         NaN  Unknown   \n",
       " \n",
       "    grand_total_sales  \n",
       " 0              82.54  \n",
       " 1              40.24  \n",
       " 2              35.52  \n",
       " 3              32.77  \n",
       " 4              31.38  ,\n",
       " None,\n",
       "        year_of_release  na_sales  eu_sales  jp_sales  other_sales  \\\n",
       " count        16,444.00 16,444.00 16,444.00 16,444.00    16,444.00   \n",
       " mean          2,006.49      0.26      0.15      0.08         0.05   \n",
       " std               5.88      0.82      0.51      0.31         0.19   \n",
       " min           1,980.00      0.00      0.00      0.00         0.00   \n",
       " 25%           2,003.00      0.00      0.00      0.00         0.00   \n",
       " 50%           2,007.00      0.08      0.02      0.00         0.01   \n",
       " 75%           2,010.00      0.24      0.11      0.04         0.03   \n",
       " max           2,016.00     41.36     28.96     10.22        10.57   \n",
       " \n",
       "        critic_score  user_score  grand_total_sales  \n",
       " count      7,983.00    7,463.00          16,444.00  \n",
       " mean          68.99        7.13               0.54  \n",
       " std           13.92        1.50               1.56  \n",
       " min           13.00        0.00               0.00  \n",
       " 25%           60.00        6.40               0.06  \n",
       " 50%           71.00        7.50               0.17  \n",
       " 75%           79.00        8.20               0.47  \n",
       " max           98.00        9.70              82.54  ,\n",
       " 0,\n",
       " name                  0%\n",
       " platform              0%\n",
       " year_of_release       0%\n",
       " genre                 0%\n",
       " na_sales              0%\n",
       " eu_sales              0%\n",
       " jp_sales              0%\n",
       " other_sales           0%\n",
       " critic_score         51%\n",
       " user_score           55%\n",
       " rating                0%\n",
       " grand_total_sales     0%\n",
       " dtype: object)"
      ]
     },
     "execution_count": 191,
     "metadata": {},
     "output_type": "execute_result"
    }
   ],
   "source": [
    "# Check if the column has been added\n",
    "data_info(games)"
   ]
  },
  {
   "cell_type": "markdown",
   "metadata": {},
   "source": [
    "## Data analysis"
   ]
  },
  {
   "cell_type": "markdown",
   "metadata": {},
   "source": [
    "### Counting the number of games released each year. Evaluation of the importance of individual periods"
   ]
  },
  {
   "cell_type": "code",
   "execution_count": 192,
   "metadata": {},
   "outputs": [
    {
     "data": {
      "text/plain": [
       "37"
      ]
     },
     "execution_count": 192,
     "metadata": {},
     "output_type": "execute_result"
    }
   ],
   "source": [
    "# Number of unique values in the 'year_of_release' column\n",
    "len(games['year_of_release'].unique())"
   ]
  },
  {
   "cell_type": "code",
   "execution_count": 193,
   "metadata": {
    "scrolled": true
   },
   "outputs": [
    {
     "data": {
      "image/png": "[encoded data removed]",
      "text/plain": [
       "<Figure size 720x360 with 1 Axes>"
      ]
     },
     "metadata": {
      "needs_background": "light"
     },
     "output_type": "display_data"
    }
   ],
   "source": [
    "# Number of games released each year in descending order of release year\n",
    "(games\n",
    " .pivot_table(index='year_of_release', values='name', aggfunc='count')\n",
    " .sort_values(axis=0, by='year_of_release')\n",
    " .plot(\n",
    "     kind='bar', y='name', xlabel='year of release', ylabel='Number of copies sold, mln.',\n",
    "     title = 'Number of copies sold by year', figsize=(10, 5))\n",
    ")\n",
    "\n",
    "plt.show()"
   ]
  },
  {
   "cell_type": "code",
   "execution_count": 194,
   "metadata": {
    "scrolled": true
   },
   "outputs": [
    {
     "data": {
      "text/plain": [
       "338.0"
      ]
     },
     "execution_count": 194,
     "metadata": {},
     "output_type": "execute_result"
    }
   ],
   "source": [
    "# Median value for the number of games released per year\n",
    "games.pivot_table(index='year_of_release', values='name', aggfunc='count')['name'].median()"
   ]
  },
  {
   "cell_type": "code",
   "execution_count": 195,
   "metadata": {},
   "outputs": [
    {
     "data": {
      "text/plain": [
       "444.43243243243245"
      ]
     },
     "execution_count": 195,
     "metadata": {},
     "output_type": "execute_result"
    }
   ],
   "source": [
    "# Mean value for the number of released games per year\n",
    "games.pivot_table(index='year_of_release', values='name', aggfunc='count')['name'].mean()"
   ]
  },
  {
   "cell_type": "markdown",
   "metadata": {},
   "source": [
    "As we can see, the number of released games has changed a lot over the years. Therefore, not all periods can be considered important. The largest number of games were released between 2001 and 2016."
   ]
  },
  {
   "cell_type": "markdown",
   "metadata": {},
   "source": [
    "### Distribution of sales by years for platforms with the highest total sales. Estimating the lifetime of the platform."
   ]
  },
  {
   "cell_type": "code",
   "execution_count": 196,
   "metadata": {},
   "outputs": [
    {
     "data": {
      "text/plain": [
       "31"
      ]
     },
     "execution_count": 196,
     "metadata": {},
     "output_type": "execute_result"
    }
   ],
   "source": [
    "# Number of unique values in the \"platform\" column\n",
    "len(games['platform'].unique())"
   ]
  },
  {
   "cell_type": "markdown",
   "metadata": {},
   "source": [
    "Let's look at the platforms with the highest total sales."
   ]
  },
  {
   "cell_type": "code",
   "execution_count": 197,
   "metadata": {
    "scrolled": true
   },
   "outputs": [
    {
     "data": {
      "text/html": [
       "<div>\n",
       "<style scoped>\n",
       "    .dataframe tbody tr th:only-of-type {\n",
       "        vertical-align: middle;\n",
       "    }\n",
       "\n",
       "    .dataframe tbody tr th {\n",
       "        vertical-align: top;\n",
       "    }\n",
       "\n",
       "    .dataframe thead th {\n",
       "        text-align: right;\n",
       "    }\n",
       "</style>\n",
       "<table border=\"1\" class=\"dataframe\">\n",
       "  <thead>\n",
       "    <tr style=\"text-align: right;\">\n",
       "      <th></th>\n",
       "      <th>platform</th>\n",
       "      <th>grand_total_sales</th>\n",
       "    </tr>\n",
       "  </thead>\n",
       "  <tbody>\n",
       "    <tr>\n",
       "      <th>0</th>\n",
       "      <td>PS2</td>\n",
       "      <td>1,233.56</td>\n",
       "    </tr>\n",
       "    <tr>\n",
       "      <th>1</th>\n",
       "      <td>X360</td>\n",
       "      <td>961.24</td>\n",
       "    </tr>\n",
       "    <tr>\n",
       "      <th>2</th>\n",
       "      <td>PS3</td>\n",
       "      <td>931.34</td>\n",
       "    </tr>\n",
       "    <tr>\n",
       "      <th>3</th>\n",
       "      <td>Wii</td>\n",
       "      <td>891.18</td>\n",
       "    </tr>\n",
       "    <tr>\n",
       "      <th>4</th>\n",
       "      <td>DS</td>\n",
       "      <td>802.78</td>\n",
       "    </tr>\n",
       "    <tr>\n",
       "      <th>5</th>\n",
       "      <td>PS</td>\n",
       "      <td>727.58</td>\n",
       "    </tr>\n",
       "    <tr>\n",
       "      <th>6</th>\n",
       "      <td>PS4</td>\n",
       "      <td>314.14</td>\n",
       "    </tr>\n",
       "    <tr>\n",
       "      <th>7</th>\n",
       "      <td>GBA</td>\n",
       "      <td>312.88</td>\n",
       "    </tr>\n",
       "    <tr>\n",
       "      <th>8</th>\n",
       "      <td>PSP</td>\n",
       "      <td>289.53</td>\n",
       "    </tr>\n",
       "    <tr>\n",
       "      <th>9</th>\n",
       "      <td>3DS</td>\n",
       "      <td>257.81</td>\n",
       "    </tr>\n",
       "    <tr>\n",
       "      <th>10</th>\n",
       "      <td>PC</td>\n",
       "      <td>255.76</td>\n",
       "    </tr>\n",
       "    <tr>\n",
       "      <th>11</th>\n",
       "      <td>GB</td>\n",
       "      <td>254.43</td>\n",
       "    </tr>\n",
       "    <tr>\n",
       "      <th>12</th>\n",
       "      <td>XB</td>\n",
       "      <td>251.57</td>\n",
       "    </tr>\n",
       "    <tr>\n",
       "      <th>13</th>\n",
       "      <td>NES</td>\n",
       "      <td>251.05</td>\n",
       "    </tr>\n",
       "    <tr>\n",
       "      <th>14</th>\n",
       "      <td>N64</td>\n",
       "      <td>218.01</td>\n",
       "    </tr>\n",
       "    <tr>\n",
       "      <th>15</th>\n",
       "      <td>SNES</td>\n",
       "      <td>200.04</td>\n",
       "    </tr>\n",
       "    <tr>\n",
       "      <th>16</th>\n",
       "      <td>GC</td>\n",
       "      <td>196.73</td>\n",
       "    </tr>\n",
       "    <tr>\n",
       "      <th>17</th>\n",
       "      <td>XOne</td>\n",
       "      <td>159.32</td>\n",
       "    </tr>\n",
       "    <tr>\n",
       "      <th>18</th>\n",
       "      <td>2600</td>\n",
       "      <td>86.48</td>\n",
       "    </tr>\n",
       "    <tr>\n",
       "      <th>19</th>\n",
       "      <td>WiiU</td>\n",
       "      <td>82.19</td>\n",
       "    </tr>\n",
       "    <tr>\n",
       "      <th>20</th>\n",
       "      <td>PSV</td>\n",
       "      <td>53.81</td>\n",
       "    </tr>\n",
       "    <tr>\n",
       "      <th>21</th>\n",
       "      <td>SAT</td>\n",
       "      <td>33.59</td>\n",
       "    </tr>\n",
       "    <tr>\n",
       "      <th>22</th>\n",
       "      <td>GEN</td>\n",
       "      <td>28.35</td>\n",
       "    </tr>\n",
       "    <tr>\n",
       "      <th>23</th>\n",
       "      <td>DC</td>\n",
       "      <td>15.95</td>\n",
       "    </tr>\n",
       "    <tr>\n",
       "      <th>24</th>\n",
       "      <td>SCD</td>\n",
       "      <td>1.86</td>\n",
       "    </tr>\n",
       "    <tr>\n",
       "      <th>25</th>\n",
       "      <td>NG</td>\n",
       "      <td>1.44</td>\n",
       "    </tr>\n",
       "    <tr>\n",
       "      <th>26</th>\n",
       "      <td>WS</td>\n",
       "      <td>1.42</td>\n",
       "    </tr>\n",
       "    <tr>\n",
       "      <th>27</th>\n",
       "      <td>TG16</td>\n",
       "      <td>0.16</td>\n",
       "    </tr>\n",
       "    <tr>\n",
       "      <th>28</th>\n",
       "      <td>3DO</td>\n",
       "      <td>0.10</td>\n",
       "    </tr>\n",
       "    <tr>\n",
       "      <th>29</th>\n",
       "      <td>GG</td>\n",
       "      <td>0.04</td>\n",
       "    </tr>\n",
       "    <tr>\n",
       "      <th>30</th>\n",
       "      <td>PCFX</td>\n",
       "      <td>0.03</td>\n",
       "    </tr>\n",
       "  </tbody>\n",
       "</table>\n",
       "</div>"
      ],
      "text/plain": [
       "   platform  grand_total_sales\n",
       "0       PS2           1,233.56\n",
       "1      X360             961.24\n",
       "2       PS3             931.34\n",
       "3       Wii             891.18\n",
       "4        DS             802.78\n",
       "5        PS             727.58\n",
       "6       PS4             314.14\n",
       "7       GBA             312.88\n",
       "8       PSP             289.53\n",
       "9       3DS             257.81\n",
       "10       PC             255.76\n",
       "11       GB             254.43\n",
       "12       XB             251.57\n",
       "13      NES             251.05\n",
       "14      N64             218.01\n",
       "15     SNES             200.04\n",
       "16       GC             196.73\n",
       "17     XOne             159.32\n",
       "18     2600              86.48\n",
       "19     WiiU              82.19\n",
       "20      PSV              53.81\n",
       "21      SAT              33.59\n",
       "22      GEN              28.35\n",
       "23       DC              15.95\n",
       "24      SCD               1.86\n",
       "25       NG               1.44\n",
       "26       WS               1.42\n",
       "27     TG16               0.16\n",
       "28      3DO               0.10\n",
       "29       GG               0.04\n",
       "30     PCFX               0.03"
      ]
     },
     "execution_count": 197,
     "metadata": {},
     "output_type": "execute_result"
    }
   ],
   "source": [
    "# Pivot table on the total number of sales by platform\n",
    "(games\n",
    " .pivot_table(index='platform',values='grand_total_sales',aggfunc='sum')\n",
    " .sort_values(by='grand_total_sales', ascending=False)\n",
    " .reset_index()\n",
    ")"
   ]
  },
  {
   "cell_type": "markdown",
   "metadata": {},
   "source": [
    "Let's create a table with the distribution of sales by year, separately by platform."
   ]
  },
  {
   "cell_type": "code",
   "execution_count": 198,
   "metadata": {},
   "outputs": [
    {
     "data": {
      "text/html": [
       "<div>\n",
       "<style scoped>\n",
       "    .dataframe tbody tr th:only-of-type {\n",
       "        vertical-align: middle;\n",
       "    }\n",
       "\n",
       "    .dataframe tbody tr th {\n",
       "        vertical-align: top;\n",
       "    }\n",
       "\n",
       "    .dataframe thead th {\n",
       "        text-align: right;\n",
       "    }\n",
       "</style>\n",
       "<table border=\"1\" class=\"dataframe\">\n",
       "  <thead>\n",
       "    <tr style=\"text-align: right;\">\n",
       "      <th></th>\n",
       "      <th>platform</th>\n",
       "      <th>year_of_release</th>\n",
       "      <th>grand_total_sales</th>\n",
       "    </tr>\n",
       "  </thead>\n",
       "  <tbody>\n",
       "    <tr>\n",
       "      <th>0</th>\n",
       "      <td>2600</td>\n",
       "      <td>1980</td>\n",
       "      <td>11.38</td>\n",
       "    </tr>\n",
       "    <tr>\n",
       "      <th>1</th>\n",
       "      <td>2600</td>\n",
       "      <td>1981</td>\n",
       "      <td>35.68</td>\n",
       "    </tr>\n",
       "    <tr>\n",
       "      <th>2</th>\n",
       "      <td>2600</td>\n",
       "      <td>1982</td>\n",
       "      <td>28.88</td>\n",
       "    </tr>\n",
       "    <tr>\n",
       "      <th>3</th>\n",
       "      <td>2600</td>\n",
       "      <td>1983</td>\n",
       "      <td>5.84</td>\n",
       "    </tr>\n",
       "    <tr>\n",
       "      <th>4</th>\n",
       "      <td>2600</td>\n",
       "      <td>1984</td>\n",
       "      <td>0.27</td>\n",
       "    </tr>\n",
       "    <tr>\n",
       "      <th>...</th>\n",
       "      <td>...</td>\n",
       "      <td>...</td>\n",
       "      <td>...</td>\n",
       "    </tr>\n",
       "    <tr>\n",
       "      <th>233</th>\n",
       "      <td>XB</td>\n",
       "      <td>2008</td>\n",
       "      <td>0.18</td>\n",
       "    </tr>\n",
       "    <tr>\n",
       "      <th>234</th>\n",
       "      <td>XOne</td>\n",
       "      <td>2013</td>\n",
       "      <td>18.96</td>\n",
       "    </tr>\n",
       "    <tr>\n",
       "      <th>235</th>\n",
       "      <td>XOne</td>\n",
       "      <td>2014</td>\n",
       "      <td>54.07</td>\n",
       "    </tr>\n",
       "    <tr>\n",
       "      <th>236</th>\n",
       "      <td>XOne</td>\n",
       "      <td>2015</td>\n",
       "      <td>60.14</td>\n",
       "    </tr>\n",
       "    <tr>\n",
       "      <th>237</th>\n",
       "      <td>XOne</td>\n",
       "      <td>2016</td>\n",
       "      <td>26.15</td>\n",
       "    </tr>\n",
       "  </tbody>\n",
       "</table>\n",
       "<p>238 rows × 3 columns</p>\n",
       "</div>"
      ],
      "text/plain": [
       "    platform  year_of_release  grand_total_sales\n",
       "0       2600             1980              11.38\n",
       "1       2600             1981              35.68\n",
       "2       2600             1982              28.88\n",
       "3       2600             1983               5.84\n",
       "4       2600             1984               0.27\n",
       "..       ...              ...                ...\n",
       "233       XB             2008               0.18\n",
       "234     XOne             2013              18.96\n",
       "235     XOne             2014              54.07\n",
       "236     XOne             2015              60.14\n",
       "237     XOne             2016              26.15\n",
       "\n",
       "[238 rows x 3 columns]"
      ]
     },
     "execution_count": 198,
     "metadata": {},
     "output_type": "execute_result"
    }
   ],
   "source": [
    "# Total sales by platform for the current period by year\n",
    "games_year_sales=(games\n",
    "                  .pivot_table(index=['platform','year_of_release'],values='grand_total_sales',aggfunc='sum')\n",
    "                  .reset_index()\n",
    "                 )\n",
    "games_year_sales"
   ]
  },
  {
   "cell_type": "code",
   "execution_count": 199,
   "metadata": {},
   "outputs": [
    {
     "data": {
      "text/plain": [
       "['PS2',\n",
       " 'X360',\n",
       " 'PS3',\n",
       " 'Wii',\n",
       " 'DS',\n",
       " 'PS',\n",
       " 'PS4',\n",
       " 'GBA',\n",
       " 'PSP',\n",
       " '3DS',\n",
       " 'PC',\n",
       " 'GB',\n",
       " 'XB',\n",
       " 'NES',\n",
       " 'N64',\n",
       " 'SNES',\n",
       " 'GC',\n",
       " 'XOne',\n",
       " '2600',\n",
       " 'WiiU']"
      ]
     },
     "execution_count": 199,
     "metadata": {},
     "output_type": "execute_result"
    }
   ],
   "source": [
    "# Saving a column with the names of the 20 most profitable platforms in descending order of sales\n",
    "top_20= (games\n",
    "        .pivot_table(index='platform',values='grand_total_sales',aggfunc='sum')        \n",
    "       ).nlargest(20, 'grand_total_sales').index.to_list()\n",
    "# \n",
    "top_20"
   ]
  },
  {
   "cell_type": "markdown",
   "metadata": {},
   "source": [
    "Let's build graphs of changes in sales by years for the 20 most profitable platforms."
   ]
  },
  {
   "cell_type": "code",
   "execution_count": 200,
   "metadata": {
    "scrolled": true
   },
   "outputs": [
    {
     "data": {
      "image/png": "[encoded data removed]",
      "text/plain": [
       "<Figure size 864x432 with 1 Axes>"
      ]
     },
     "metadata": {
      "needs_background": "light"
     },
     "output_type": "display_data"
    }
   ],
   "source": [
    "# Graphs of changes in sales by years for the 20 most profitable platforms\n",
    "fig, ax = plt.subplots(figsize=(12, 6))\n",
    "\n",
    "for name in top_20:\n",
    "    ax.plot(games_year_sales.query('platform==@name')['year_of_release'], \n",
    "    games_year_sales.query('platform==@name')['grand_total_sales'],label=name)\n",
    "\n",
    "\n",
    "ax.set_title(f'Sales by platform from 1980 to 2016')\n",
    "ax.set_xlabel('Year')\n",
    "ax.set_ylabel('Number of game copies sold, million units')\n",
    "ax.legend(bbox_to_anchor=(1.1, 1.05))\n",
    "\n",
    "plt.grid()\n",
    "plt.show()"
   ]
  },
  {
   "cell_type": "markdown",
   "metadata": {},
   "source": [
    "From the constructed graphs, we can conclude that the average life expectancy of the platform is approximately 10 years."
   ]
  },
  {
   "cell_type": "markdown",
   "metadata": {},
   "source": [
    "### Selecting a time period for building a forecast for 2017."
   ]
  },
  {
   "cell_type": "markdown",
   "metadata": {},
   "source": [
    "We will consider the period from 2014 to 2016 as the relevant period for making a forecast for 2017."
   ]
  },
  {
   "cell_type": "code",
   "execution_count": 201,
   "metadata": {
    "scrolled": true
   },
   "outputs": [
    {
     "data": {
      "image/png": "[encoded data removed]",
      "text/plain": [
       "<Figure size 720x360 with 1 Axes>"
      ]
     },
     "metadata": {
      "needs_background": "light"
     },
     "output_type": "display_data"
    }
   ],
   "source": [
    "#Construction of graphs of changes in sales from 2014 to 2016\n",
    "fig, ax = plt.subplots(figsize=(10, 5))\n",
    "\n",
    "for name in top_20:\n",
    "    ax.plot(games_year_sales.query('(platform==@name)&(year_of_release >=2014)')['year_of_release'], \n",
    "    games_year_sales.query('(platform==@name)&(year_of_release >=2014)')['grand_total_sales'],label=name)\n",
    "\n",
    "\n",
    "ax.set_title(f'Sales by platform from 2014 to 2016')\n",
    "ax.set_xlabel('Year of sales')\n",
    "ax.set_ylabel('Number of game copies sold, million units')\n",
    "ax.legend(bbox_to_anchor=(1.1, 1.05))\n",
    "\n",
    "plt.grid()\n",
    "plt.show()"
   ]
  },
  {
   "cell_type": "markdown",
   "metadata": {},
   "source": [
    "### Deletion of data for previous years that are not related to the relevant period."
   ]
  },
  {
   "cell_type": "markdown",
   "metadata": {},
   "source": [
    "For further analysis, we leave only the data for the relevant period from 2014 to 2016."
   ]
  },
  {
   "cell_type": "code",
   "execution_count": 202,
   "metadata": {},
   "outputs": [],
   "source": [
    "# Creation of a new table where 'year_of_release' >= 2014\n",
    "games_topical_period=games.query('year_of_release >= 2014')"
   ]
  },
  {
   "cell_type": "code",
   "execution_count": 203,
   "metadata": {
    "scrolled": false
   },
   "outputs": [
    {
     "data": {
      "text/plain": [
       "2015    606\n",
       "2014    581\n",
       "2016    502\n",
       "Name: year_of_release, dtype: int64"
      ]
     },
     "execution_count": 203,
     "metadata": {},
     "output_type": "execute_result"
    }
   ],
   "source": [
    "# Checking that there are only years greater than 2014 inclusive\n",
    "games_topical_period['year_of_release'].value_counts()"
   ]
  },
  {
   "cell_type": "markdown",
   "metadata": {},
   "source": [
    "Let's look at the platforms with the highest total sales in the relevant period."
   ]
  },
  {
   "cell_type": "code",
   "execution_count": 204,
   "metadata": {},
   "outputs": [
    {
     "data": {
      "text/html": [
       "<div>\n",
       "<style scoped>\n",
       "    .dataframe tbody tr th:only-of-type {\n",
       "        vertical-align: middle;\n",
       "    }\n",
       "\n",
       "    .dataframe tbody tr th {\n",
       "        vertical-align: top;\n",
       "    }\n",
       "\n",
       "    .dataframe thead th {\n",
       "        text-align: right;\n",
       "    }\n",
       "</style>\n",
       "<table border=\"1\" class=\"dataframe\">\n",
       "  <thead>\n",
       "    <tr style=\"text-align: right;\">\n",
       "      <th></th>\n",
       "      <th>platform</th>\n",
       "      <th>grand_total_sales</th>\n",
       "    </tr>\n",
       "  </thead>\n",
       "  <tbody>\n",
       "    <tr>\n",
       "      <th>0</th>\n",
       "      <td>PS4</td>\n",
       "      <td>288.15</td>\n",
       "    </tr>\n",
       "    <tr>\n",
       "      <th>1</th>\n",
       "      <td>XOne</td>\n",
       "      <td>140.36</td>\n",
       "    </tr>\n",
       "    <tr>\n",
       "      <th>2</th>\n",
       "      <td>3DS</td>\n",
       "      <td>86.68</td>\n",
       "    </tr>\n",
       "    <tr>\n",
       "      <th>3</th>\n",
       "      <td>PS3</td>\n",
       "      <td>68.18</td>\n",
       "    </tr>\n",
       "    <tr>\n",
       "      <th>4</th>\n",
       "      <td>X360</td>\n",
       "      <td>48.22</td>\n",
       "    </tr>\n",
       "    <tr>\n",
       "      <th>5</th>\n",
       "      <td>WiiU</td>\n",
       "      <td>42.98</td>\n",
       "    </tr>\n",
       "    <tr>\n",
       "      <th>6</th>\n",
       "      <td>PC</td>\n",
       "      <td>27.05</td>\n",
       "    </tr>\n",
       "    <tr>\n",
       "      <th>7</th>\n",
       "      <td>PSV</td>\n",
       "      <td>22.40</td>\n",
       "    </tr>\n",
       "    <tr>\n",
       "      <th>8</th>\n",
       "      <td>Wii</td>\n",
       "      <td>5.07</td>\n",
       "    </tr>\n",
       "    <tr>\n",
       "      <th>9</th>\n",
       "      <td>PSP</td>\n",
       "      <td>0.36</td>\n",
       "    </tr>\n",
       "  </tbody>\n",
       "</table>\n",
       "</div>"
      ],
      "text/plain": [
       "  platform  grand_total_sales\n",
       "0      PS4             288.15\n",
       "1     XOne             140.36\n",
       "2      3DS              86.68\n",
       "3      PS3              68.18\n",
       "4     X360              48.22\n",
       "5     WiiU              42.98\n",
       "6       PC              27.05\n",
       "7      PSV              22.40\n",
       "8      Wii               5.07\n",
       "9      PSP               0.36"
      ]
     },
     "execution_count": 204,
     "metadata": {},
     "output_type": "execute_result"
    }
   ],
   "source": [
    "# Total sales by platform for the relevant period\n",
    "(games_topical_period\n",
    " .pivot_table(index='platform',values='grand_total_sales',aggfunc='sum')\n",
    " .sort_values(by='grand_total_sales', ascending=False)\n",
    " .reset_index()\n",
    ")"
   ]
  },
  {
   "cell_type": "markdown",
   "metadata": {},
   "source": [
    "Let's create a table with the distribution of sales by years, separately by platforms in the relevant period."
   ]
  },
  {
   "cell_type": "code",
   "execution_count": 205,
   "metadata": {},
   "outputs": [
    {
     "data": {
      "text/html": [
       "<div>\n",
       "<style scoped>\n",
       "    .dataframe tbody tr th:only-of-type {\n",
       "        vertical-align: middle;\n",
       "    }\n",
       "\n",
       "    .dataframe tbody tr th {\n",
       "        vertical-align: top;\n",
       "    }\n",
       "\n",
       "    .dataframe thead th {\n",
       "        text-align: right;\n",
       "    }\n",
       "</style>\n",
       "<table border=\"1\" class=\"dataframe\">\n",
       "  <thead>\n",
       "    <tr style=\"text-align: right;\">\n",
       "      <th></th>\n",
       "      <th>platform</th>\n",
       "      <th>year_of_release</th>\n",
       "      <th>grand_total_sales</th>\n",
       "    </tr>\n",
       "  </thead>\n",
       "  <tbody>\n",
       "    <tr>\n",
       "      <th>0</th>\n",
       "      <td>2600</td>\n",
       "      <td>1980</td>\n",
       "      <td>11.38</td>\n",
       "    </tr>\n",
       "    <tr>\n",
       "      <th>1</th>\n",
       "      <td>2600</td>\n",
       "      <td>1981</td>\n",
       "      <td>35.68</td>\n",
       "    </tr>\n",
       "    <tr>\n",
       "      <th>2</th>\n",
       "      <td>2600</td>\n",
       "      <td>1982</td>\n",
       "      <td>28.88</td>\n",
       "    </tr>\n",
       "    <tr>\n",
       "      <th>3</th>\n",
       "      <td>2600</td>\n",
       "      <td>1983</td>\n",
       "      <td>5.84</td>\n",
       "    </tr>\n",
       "    <tr>\n",
       "      <th>4</th>\n",
       "      <td>2600</td>\n",
       "      <td>1984</td>\n",
       "      <td>0.27</td>\n",
       "    </tr>\n",
       "    <tr>\n",
       "      <th>...</th>\n",
       "      <td>...</td>\n",
       "      <td>...</td>\n",
       "      <td>...</td>\n",
       "    </tr>\n",
       "    <tr>\n",
       "      <th>233</th>\n",
       "      <td>XB</td>\n",
       "      <td>2008</td>\n",
       "      <td>0.18</td>\n",
       "    </tr>\n",
       "    <tr>\n",
       "      <th>234</th>\n",
       "      <td>XOne</td>\n",
       "      <td>2013</td>\n",
       "      <td>18.96</td>\n",
       "    </tr>\n",
       "    <tr>\n",
       "      <th>235</th>\n",
       "      <td>XOne</td>\n",
       "      <td>2014</td>\n",
       "      <td>54.07</td>\n",
       "    </tr>\n",
       "    <tr>\n",
       "      <th>236</th>\n",
       "      <td>XOne</td>\n",
       "      <td>2015</td>\n",
       "      <td>60.14</td>\n",
       "    </tr>\n",
       "    <tr>\n",
       "      <th>237</th>\n",
       "      <td>XOne</td>\n",
       "      <td>2016</td>\n",
       "      <td>26.15</td>\n",
       "    </tr>\n",
       "  </tbody>\n",
       "</table>\n",
       "<p>238 rows × 3 columns</p>\n",
       "</div>"
      ],
      "text/plain": [
       "    platform  year_of_release  grand_total_sales\n",
       "0       2600             1980              11.38\n",
       "1       2600             1981              35.68\n",
       "2       2600             1982              28.88\n",
       "3       2600             1983               5.84\n",
       "4       2600             1984               0.27\n",
       "..       ...              ...                ...\n",
       "233       XB             2008               0.18\n",
       "234     XOne             2013              18.96\n",
       "235     XOne             2014              54.07\n",
       "236     XOne             2015              60.14\n",
       "237     XOne             2016              26.15\n",
       "\n",
       "[238 rows x 3 columns]"
      ]
     },
     "execution_count": 205,
     "metadata": {},
     "output_type": "execute_result"
    }
   ],
   "source": [
    "# Total sales by platform for the relevant period by year\n",
    "games_topical_period_year_sales=(games_topical_period\n",
    "                  .pivot_table(index=['platform','year_of_release'],values='grand_total_sales',aggfunc='sum')\n",
    "                  .reset_index()\n",
    "                 )\n",
    "games_year_sales"
   ]
  },
  {
   "cell_type": "markdown",
   "metadata": {},
   "source": [
    "### Choosing potentially profitable platforms"
   ]
  },
  {
   "cell_type": "markdown",
   "metadata": {},
   "source": [
    "For further analysis, we leave only platforms in a given time period with the highest total sales. We will explore the top 5 most profitable platforms."
   ]
  },
  {
   "cell_type": "code",
   "execution_count": 206,
   "metadata": {},
   "outputs": [
    {
     "data": {
      "text/plain": [
       "['PS4', 'XOne', '3DS', 'PS3', 'X360']"
      ]
     },
     "execution_count": 206,
     "metadata": {},
     "output_type": "execute_result"
    }
   ],
   "source": [
    "top_5= (games_topical_period\n",
    "        .pivot_table(index='platform',values='grand_total_sales',aggfunc='sum')        \n",
    "       ).nlargest(5, 'grand_total_sales').index.to_list()\n",
    "# \n",
    "top_5"
   ]
  },
  {
   "cell_type": "markdown",
   "metadata": {},
   "source": [
    "### Boxplots of global game sales by platform"
   ]
  },
  {
   "cell_type": "code",
   "execution_count": 207,
   "metadata": {},
   "outputs": [
    {
     "data": {
      "image/png": "[encoded data removed]",
      "text/plain": [
       "<Figure size 720x360 with 1 Axes>"
      ]
     },
     "metadata": {
      "needs_background": "light"
     },
     "output_type": "display_data"
    }
   ],
   "source": [
    "# Boxplots for potentially profitable platforms\n",
    "fig = plt.figure(figsize =(10, 5))\n",
    "\n",
    "data=[]\n",
    "for name in top_5:\n",
    "    data_platform=games_topical_period_year_sales.query('platform == @name')['grand_total_sales']\n",
    "    data.append(data_platform)\n",
    "\n",
    "ax = fig.add_subplot(111)\n",
    "ax.boxplot(data)\n",
    "ax.set_title('Global game sales by platform for the period 2014-2016')\n",
    "ax.set_xticklabels(top_5)\n",
    "ax.set_ylabel('Copies sold, mln.')\n",
    "\n",
    "plt.grid()\n",
    "plt.show()"
   ]
  },
  {
   "cell_type": "markdown",
   "metadata": {},
   "source": [
    "According to the boxplots, it is visually clear how sales differ for different platforms:\n",
    "\n",
    "* PS4 platform has the highest median number of game copies sold\n",
    "* The smallest median value of sold copies of games for the X360 platform\n",
    "* PS4 and PS3 platforms have the largest interquartile ranges"
   ]
  },
  {
   "cell_type": "code",
   "execution_count": 208,
   "metadata": {
    "scrolled": true
   },
   "outputs": [
    {
     "data": {
      "image/png": "[encoded data removed]",
      "text/plain": [
       "<Figure size 720x360 with 1 Axes>"
      ]
     },
     "metadata": {
      "needs_background": "light"
     },
     "output_type": "display_data"
    }
   ],
   "source": [
    "# Boxplots with outliers for potentially profitable platforms\n",
    "fig = plt.figure(figsize =(10, 5))\n",
    "\n",
    "data=[]\n",
    "for name in top_5:\n",
    "    data_platform=games_topical_period.query('platform == @name')['grand_total_sales']\n",
    "    data.append(data_platform)\n",
    "\n",
    "ax = fig.add_subplot(111)\n",
    "ax.boxplot(data)\n",
    "ax.set_title('Global game sales by platform 2014-2016 (with outliers)')\n",
    "ax.set_xticklabels(top_5)\n",
    "ax.set_ylabel('Copies sold, mln.')\n",
    "\n",
    "plt.grid()\n",
    "plt.show()"
   ]
  },
  {
   "cell_type": "markdown",
   "metadata": {},
   "source": [
    "According to the boxplots, it is clear that on all platforms some games turn out to be super popular, their sales go well beyond the interquartile range."
   ]
  },
  {
   "cell_type": "markdown",
   "metadata": {},
   "source": [
    "### Assessing the impact of user reviews and critic reviews on sales within one popular platform."
   ]
  },
  {
   "cell_type": "markdown",
   "metadata": {},
   "source": [
    "Let's build scatterplots and calculate correlation coefficients for all popular platforms."
   ]
  },
  {
   "cell_type": "markdown",
   "metadata": {},
   "source": [
    "#### Scatterplot and correlation between reviews and sales."
   ]
  },
  {
   "cell_type": "code",
   "execution_count": 209,
   "metadata": {},
   "outputs": [
    {
     "name": "stdout",
     "output_type": "stream",
     "text": [
      "Platform PS4\n",
      "Correlation coefficient of critical reviews with sales for PS4  equals 0.40\n",
      "Correlation coefficient of user reviews with sales for PS4  equals -0.04\n"
     ]
    },
    {
     "data": {
      "image/png": "[encoded data removed]",
      "text/plain": [
       "<Figure size 504x360 with 1 Axes>"
      ]
     },
     "metadata": {
      "needs_background": "light"
     },
     "output_type": "display_data"
    },
    {
     "data": {
      "image/png": "[encoded data removed]",
      "text/plain": [
       "<Figure size 504x360 with 1 Axes>"
      ]
     },
     "metadata": {
      "needs_background": "light"
     },
     "output_type": "display_data"
    },
    {
     "name": "stdout",
     "output_type": "stream",
     "text": [
      "Platform XOne\n",
      "Correlation coefficient of critical reviews with sales for XOne  equals 0.43\n",
      "Correlation coefficient of user reviews with sales for XOne  equals -0.07\n"
     ]
    },
    {
     "data": {
      "image/png": "[encoded data removed]",
      "text/plain": [
       "<Figure size 504x360 with 1 Axes>"
      ]
     },
     "metadata": {
      "needs_background": "light"
     },
     "output_type": "display_data"
    },
    {
     "data": {
      "image/png": "[encoded data removed]",
      "text/plain": [
       "<Figure size 504x360 with 1 Axes>"
      ]
     },
     "metadata": {
      "needs_background": "light"
     },
     "output_type": "display_data"
    },
    {
     "name": "stdout",
     "output_type": "stream",
     "text": [
      "Platform 3DS\n",
      "Correlation coefficient of critical reviews with sales for 3DS  equals 0.31\n",
      "Correlation coefficient of user reviews with sales for 3DS  equals 0.22\n"
     ]
    },
    {
     "data": {
      "image/png": "[encoded data removed]",
      "text/plain": [
       "<Figure size 504x360 with 1 Axes>"
      ]
     },
     "metadata": {
      "needs_background": "light"
     },
     "output_type": "display_data"
    },
    {
     "data": {
      "image/png": "[encoded data removed]",
      "text/plain": [
       "<Figure size 504x360 with 1 Axes>"
      ]
     },
     "metadata": {
      "needs_background": "light"
     },
     "output_type": "display_data"
    },
    {
     "name": "stdout",
     "output_type": "stream",
     "text": [
      "Platform PS3\n",
      "Correlation coefficient of critical reviews with sales for PS3  equals 0.45\n",
      "Correlation coefficient of user reviews with sales for PS3  equals -0.17\n"
     ]
    },
    {
     "data": {
      "image/png": "[encoded data removed]",
      "text/plain": [
       "<Figure size 504x360 with 1 Axes>"
      ]
     },
     "metadata": {
      "needs_background": "light"
     },
     "output_type": "display_data"
    },
    {
     "data": {
      "image/png": "[encoded data removed]",
      "text/plain": [
       "<Figure size 504x360 with 1 Axes>"
      ]
     },
     "metadata": {
      "needs_background": "light"
     },
     "output_type": "display_data"
    },
    {
     "name": "stdout",
     "output_type": "stream",
     "text": [
      "Platform X360\n",
      "Correlation coefficient of critical reviews with sales for X360  equals 0.53\n",
      "Correlation coefficient of user reviews with sales for X360  equals -0.14\n"
     ]
    },
    {
     "data": {
      "image/png": "[encoded data removed]",
      "text/plain": [
       "<Figure size 504x360 with 1 Axes>"
      ]
     },
     "metadata": {
      "needs_background": "light"
     },
     "output_type": "display_data"
    },
    {
     "data": {
      "image/png": "[encoded data removed]",
      "text/plain": [
       "<Figure size 504x360 with 1 Axes>"
      ]
     },
     "metadata": {
      "needs_background": "light"
     },
     "output_type": "display_data"
    }
   ],
   "source": [
    "#The impact of reviews from critics and users on sales within the platform\n",
    "#list with the most profitable platforms\n",
    "\n",
    "for name in top_5:\n",
    "    \n",
    "    print(f'Platform {name}')\n",
    "    \n",
    "   # Scatterplot for the influence of reviews from critics on sales within the platform\n",
    "    (games_topical_period\n",
    "     .query('platform==@name')\n",
    "     .plot(x='critic_score',y='grand_total_sales',\n",
    "      kind='scatter', title='The impact of critic reviews on sales within the platform',\n",
    "      xlabel='Critics score (0-100)', ylabel='Copies sold, mln..',\n",
    "      figsize=(7,5))\n",
    "    )\n",
    "    \n",
    "    # Scatterplot for the impact of user reviews on sales within the platform\n",
    "    (games_topical_period\n",
    "     .query('platform==@name')\n",
    "     .plot(x='user_score',y='grand_total_sales',\n",
    "           kind='scatter', title='The impact of user reviews on on sales within the platform',\n",
    "           xlabel='User rating (0-10)', ylabel='Copies sold, mln.',\n",
    "           figsize=(7,5))\n",
    "    )\n",
    "    \n",
    "    \n",
    "    #Correlation coefficient calculation\n",
    "    \n",
    "    correl = (games_topical_period\n",
    "             .query('platform==@name')['critic_score']\n",
    "             .corr(games_topical_period.query('platform==@name')['grand_total_sales'])\n",
    "             )\n",
    "    \n",
    "    print(f'Correlation coefficient of critical reviews with sales for {name}  equals {correl:.2f}')\n",
    "    \n",
    "    correl = (games_topical_period\n",
    "              .query('platform==@name')['user_score']\n",
    "              .corr(games_topical_period.query('platform==@name')['grand_total_sales'])\n",
    "             )\n",
    "    \n",
    "    print(f'Correlation coefficient of user reviews with sales for {name}  equals {correl:.2f}')\n",
    "\n",
    "    plt.show()"
   ]
  },
  {
   "cell_type": "markdown",
   "metadata": {},
   "source": [
    "### Conclusion"
   ]
  },
  {
   "cell_type": "markdown",
   "metadata": {},
   "source": [
    "Building scatterplots and calculating correlation coefficients separately for each popular platform allows us to draw the following conclusions for all platforms:\n",
    "* Both user reviews and critic reviews are correlated with game sales\n",
    "* Critics' reviews have a stronger correlation with sales than user reviews\n",
    "* On PS4 and XOne platforms, user reviews have a very weak correlation with sales, on other platforms, the correlation is just weak\n",
    "\n",
    "The stronger correlation between critical reviews and game sales can be explained by greater critical acclaim among players. That is, when buying a game, users trust critics' ratings more. The Pearson correlation coefficient shows only a linear relationship, so it cannot be definitively concluded that user reviews do not affect sales. Perhaps there is a more complex, non-linear relationship between user reviews and sales.\n",
    "\n",
    "It is also impossible to say with 100% certainty that with high reviews from critics the game will become super popular, since the Pearson correlation coefficient we found does not prove a causal relationship between the popularity of the game and reviews from critics."
   ]
  },
  {
   "cell_type": "markdown",
   "metadata": {},
   "source": [
    "### Distribution of games by genres. Selection of the most profitable genres."
   ]
  },
  {
   "cell_type": "markdown",
   "metadata": {},
   "source": [
    "Let's see which genres have the highest average sales."
   ]
  },
  {
   "cell_type": "code",
   "execution_count": 210,
   "metadata": {
    "scrolled": true
   },
   "outputs": [
    {
     "data": {
      "text/html": [
       "<div>\n",
       "<style scoped>\n",
       "    .dataframe tbody tr th:only-of-type {\n",
       "        vertical-align: middle;\n",
       "    }\n",
       "\n",
       "    .dataframe tbody tr th {\n",
       "        vertical-align: top;\n",
       "    }\n",
       "\n",
       "    .dataframe thead th {\n",
       "        text-align: right;\n",
       "    }\n",
       "</style>\n",
       "<table border=\"1\" class=\"dataframe\">\n",
       "  <thead>\n",
       "    <tr style=\"text-align: right;\">\n",
       "      <th></th>\n",
       "      <th>genre</th>\n",
       "      <th>count</th>\n",
       "      <th>mean</th>\n",
       "      <th>sum</th>\n",
       "    </tr>\n",
       "  </thead>\n",
       "  <tbody>\n",
       "    <tr>\n",
       "      <th>0</th>\n",
       "      <td>Shooter</td>\n",
       "      <td>128</td>\n",
       "      <td>1.34</td>\n",
       "      <td>170.94</td>\n",
       "    </tr>\n",
       "    <tr>\n",
       "      <th>1</th>\n",
       "      <td>Sports</td>\n",
       "      <td>161</td>\n",
       "      <td>0.68</td>\n",
       "      <td>109.48</td>\n",
       "    </tr>\n",
       "    <tr>\n",
       "      <th>2</th>\n",
       "      <td>Platform</td>\n",
       "      <td>38</td>\n",
       "      <td>0.48</td>\n",
       "      <td>18.09</td>\n",
       "    </tr>\n",
       "    <tr>\n",
       "      <th>3</th>\n",
       "      <td>Fighting</td>\n",
       "      <td>60</td>\n",
       "      <td>0.47</td>\n",
       "      <td>28.22</td>\n",
       "    </tr>\n",
       "    <tr>\n",
       "      <th>4</th>\n",
       "      <td>Role-Playing</td>\n",
       "      <td>221</td>\n",
       "      <td>0.46</td>\n",
       "      <td>101.44</td>\n",
       "    </tr>\n",
       "    <tr>\n",
       "      <th>5</th>\n",
       "      <td>Racing</td>\n",
       "      <td>69</td>\n",
       "      <td>0.40</td>\n",
       "      <td>27.52</td>\n",
       "    </tr>\n",
       "    <tr>\n",
       "      <th>6</th>\n",
       "      <td>Misc</td>\n",
       "      <td>113</td>\n",
       "      <td>0.33</td>\n",
       "      <td>37.55</td>\n",
       "    </tr>\n",
       "    <tr>\n",
       "      <th>7</th>\n",
       "      <td>Action</td>\n",
       "      <td>619</td>\n",
       "      <td>0.32</td>\n",
       "      <td>199.36</td>\n",
       "    </tr>\n",
       "    <tr>\n",
       "      <th>8</th>\n",
       "      <td>Simulation</td>\n",
       "      <td>44</td>\n",
       "      <td>0.30</td>\n",
       "      <td>13.13</td>\n",
       "    </tr>\n",
       "    <tr>\n",
       "      <th>9</th>\n",
       "      <td>Puzzle</td>\n",
       "      <td>14</td>\n",
       "      <td>0.16</td>\n",
       "      <td>2.21</td>\n",
       "    </tr>\n",
       "    <tr>\n",
       "      <th>10</th>\n",
       "      <td>Strategy</td>\n",
       "      <td>37</td>\n",
       "      <td>0.11</td>\n",
       "      <td>3.96</td>\n",
       "    </tr>\n",
       "    <tr>\n",
       "      <th>11</th>\n",
       "      <td>Adventure</td>\n",
       "      <td>185</td>\n",
       "      <td>0.09</td>\n",
       "      <td>17.55</td>\n",
       "    </tr>\n",
       "  </tbody>\n",
       "</table>\n",
       "</div>"
      ],
      "text/plain": [
       "           genre  count  mean    sum\n",
       "0        Shooter    128  1.34 170.94\n",
       "1         Sports    161  0.68 109.48\n",
       "2       Platform     38  0.48  18.09\n",
       "3       Fighting     60  0.47  28.22\n",
       "4   Role-Playing    221  0.46 101.44\n",
       "5         Racing     69  0.40  27.52\n",
       "6           Misc    113  0.33  37.55\n",
       "7         Action    619  0.32 199.36\n",
       "8     Simulation     44  0.30  13.13\n",
       "9         Puzzle     14  0.16   2.21\n",
       "10      Strategy     37  0.11   3.96\n",
       "11     Adventure    185  0.09  17.55"
      ]
     },
     "execution_count": 210,
     "metadata": {},
     "output_type": "execute_result"
    }
   ],
   "source": [
    "# Getting a summary table of the distribution of games by genre and sorting in descending order\n",
    "# average number of copies sold for the genre\n",
    "(games_topical_period\n",
    " .pivot_table(index='genre',values='grand_total_sales',aggfunc=('count', 'sum','mean'))\n",
    " .sort_values(by='mean', ascending=False)\n",
    " .reset_index()\n",
    ")"
   ]
  },
  {
   "cell_type": "code",
   "execution_count": 211,
   "metadata": {},
   "outputs": [
    {
     "data": {
      "image/png": "[encoded data removed]",
      "text/plain": [
       "<Figure size 720x360 with 1 Axes>"
      ]
     },
     "metadata": {
      "needs_background": "light"
     },
     "output_type": "display_data"
    }
   ],
   "source": [
    "# Building a bar chart of the most profitable genres\n",
    "\n",
    "(games_topical_period\n",
    " .pivot_table(index='genre',values='grand_total_sales',aggfunc=('count', 'mean'))\n",
    " .sort_values(by='mean', ascending=False).reset_index()\n",
    " .plot(\n",
    "     kind='bar', y='mean', x='genre', xlabel='genre', ylabel='Average number of copies sold, mln.',\n",
    "     title = 'Average number of copies sold by genres, mln. units', figsize=(10,5))\n",
    ")\n",
    "plt.show()"
   ]
  },
  {
   "cell_type": "markdown",
   "metadata": {},
   "source": [
    "The most profitable game genres:"
   ]
  },
  {
   "cell_type": "code",
   "execution_count": 212,
   "metadata": {},
   "outputs": [
    {
     "data": {
      "text/plain": [
       "['Shooter', 'Sports', 'Platform', 'Fighting', 'Role-Playing']"
      ]
     },
     "execution_count": 212,
     "metadata": {},
     "output_type": "execute_result"
    }
   ],
   "source": [
    "#Most profitable game genres\n",
    "top_5_genre= (games_topical_period\n",
    "        .pivot_table(index='genre',values='grand_total_sales',aggfunc=('count', 'sum','mean'))        \n",
    "       ).nlargest(5, 'mean').index.to_list()\n",
    "# \n",
    "top_5_genre"
   ]
  },
  {
   "cell_type": "markdown",
   "metadata": {},
   "source": [
    "## User portrait of each region (NA, EU, JP)"
   ]
  },
  {
   "cell_type": "code",
   "execution_count": 213,
   "metadata": {
    "scrolled": true
   },
   "outputs": [
    {
     "name": "stdout",
     "output_type": "stream",
     "text": [
      "<class 'pandas.core.frame.DataFrame'>\n",
      "Int64Index: 1689 entries, 31 to 16714\n",
      "Data columns (total 12 columns):\n",
      " #   Column             Non-Null Count  Dtype  \n",
      "---  ------             --------------  -----  \n",
      " 0   name               1689 non-null   object \n",
      " 1   platform           1689 non-null   object \n",
      " 2   year_of_release    1689 non-null   int32  \n",
      " 3   genre              1689 non-null   object \n",
      " 4   na_sales           1689 non-null   float64\n",
      " 5   eu_sales           1689 non-null   float64\n",
      " 6   jp_sales           1689 non-null   float64\n",
      " 7   other_sales        1689 non-null   float64\n",
      " 8   critic_score       718 non-null    float64\n",
      " 9   user_score         888 non-null    float64\n",
      " 10  rating             1689 non-null   object \n",
      " 11  grand_total_sales  1689 non-null   float64\n",
      "dtypes: float64(7), int32(1), object(4)\n",
      "memory usage: 164.9+ KB\n"
     ]
    },
    {
     "data": {
      "text/plain": [
       "(                                         name platform  year_of_release  \\\n",
       " 31                  Call of Duty: Black Ops 3      PS4             2015   \n",
       " 42                         Grand Theft Auto V      PS4             2014   \n",
       " 47  Pokemon Omega Ruby/Pokemon Alpha Sapphire      3DS             2014   \n",
       " 77                                    FIFA 16      PS4             2015   \n",
       " 87               Star Wars Battlefront (2015)      PS4             2015   \n",
       " \n",
       "            genre  na_sales  eu_sales  jp_sales  other_sales  critic_score  \\\n",
       " 31       Shooter      6.03      5.86      0.36         2.38           NaN   \n",
       " 42        Action      3.96      6.31      0.38         1.97         97.00   \n",
       " 47  Role-Playing      4.35      3.49      3.10         0.74           NaN   \n",
       " 77        Sports      1.12      6.12      0.06         1.28         82.00   \n",
       " 87       Shooter      2.99      3.49      0.22         1.28           NaN   \n",
       " \n",
       "     user_score   rating  grand_total_sales  \n",
       " 31         NaN  Unknown              14.63  \n",
       " 42        8.30        M              12.62  \n",
       " 47         NaN  Unknown              11.68  \n",
       " 77        4.30        E               8.58  \n",
       " 87         NaN  Unknown               7.98  ,\n",
       " None,\n",
       "        year_of_release  na_sales  eu_sales  jp_sales  other_sales  \\\n",
       " count         1,689.00  1,689.00  1,689.00  1,689.00     1,689.00   \n",
       " mean          2,014.95      0.17      0.16      0.06         0.05   \n",
       " std               0.80      0.45      0.47      0.21         0.14   \n",
       " min           2,014.00      0.00      0.00      0.00         0.00   \n",
       " 25%           2,014.00      0.00      0.00      0.00         0.00   \n",
       " 50%           2,015.00      0.02      0.02      0.01         0.01   \n",
       " 75%           2,016.00      0.12      0.12      0.04         0.04   \n",
       " max           2,016.00      6.03      6.31      3.18         2.38   \n",
       " \n",
       "        critic_score  user_score  grand_total_sales  \n",
       " count        718.00      888.00           1,689.00  \n",
       " mean          72.31        6.62               0.43  \n",
       " std           12.21        1.59               1.06  \n",
       " min           19.00        0.20               0.01  \n",
       " 25%           66.00        5.80               0.03  \n",
       " 50%           74.00        7.00               0.10  \n",
       " 75%           81.00        7.80               0.35  \n",
       " max           97.00        9.30              14.63  ,\n",
       " 0,\n",
       " name                  0%\n",
       " platform              0%\n",
       " year_of_release       0%\n",
       " genre                 0%\n",
       " na_sales              0%\n",
       " eu_sales              0%\n",
       " jp_sales              0%\n",
       " other_sales           0%\n",
       " critic_score         57%\n",
       " user_score           47%\n",
       " rating                0%\n",
       " grand_total_sales     0%\n",
       " dtype: object)"
      ]
     },
     "execution_count": 213,
     "metadata": {},
     "output_type": "execute_result"
    }
   ],
   "source": [
    "data_info(games_topical_period)"
   ]
  },
  {
   "cell_type": "markdown",
   "metadata": {},
   "source": [
    "### The most popular platforms (top 5). Description of the difference in sales."
   ]
  },
  {
   "cell_type": "code",
   "execution_count": 214,
   "metadata": {},
   "outputs": [
    {
     "data": {
      "text/html": [
       "<div>\n",
       "<style scoped>\n",
       "    .dataframe tbody tr th:only-of-type {\n",
       "        vertical-align: middle;\n",
       "    }\n",
       "\n",
       "    .dataframe tbody tr th {\n",
       "        vertical-align: top;\n",
       "    }\n",
       "\n",
       "    .dataframe thead th {\n",
       "        text-align: right;\n",
       "    }\n",
       "</style>\n",
       "<table border=\"1\" class=\"dataframe\">\n",
       "  <thead>\n",
       "    <tr style=\"text-align: right;\">\n",
       "      <th></th>\n",
       "      <th>platform</th>\n",
       "      <th>na_sales</th>\n",
       "    </tr>\n",
       "  </thead>\n",
       "  <tbody>\n",
       "    <tr>\n",
       "      <th>0</th>\n",
       "      <td>PS4</td>\n",
       "      <td>98.61</td>\n",
       "    </tr>\n",
       "    <tr>\n",
       "      <th>1</th>\n",
       "      <td>XOne</td>\n",
       "      <td>81.27</td>\n",
       "    </tr>\n",
       "    <tr>\n",
       "      <th>2</th>\n",
       "      <td>X360</td>\n",
       "      <td>28.30</td>\n",
       "    </tr>\n",
       "    <tr>\n",
       "      <th>3</th>\n",
       "      <td>3DS</td>\n",
       "      <td>22.64</td>\n",
       "    </tr>\n",
       "    <tr>\n",
       "      <th>4</th>\n",
       "      <td>PS3</td>\n",
       "      <td>22.05</td>\n",
       "    </tr>\n",
       "  </tbody>\n",
       "</table>\n",
       "</div>"
      ],
      "text/plain": [
       "  platform  na_sales\n",
       "0      PS4     98.61\n",
       "1     XOne     81.27\n",
       "2     X360     28.30\n",
       "3      3DS     22.64\n",
       "4      PS3     22.05"
      ]
     },
     "metadata": {},
     "output_type": "display_data"
    },
    {
     "data": {
      "text/html": [
       "<div>\n",
       "<style scoped>\n",
       "    .dataframe tbody tr th:only-of-type {\n",
       "        vertical-align: middle;\n",
       "    }\n",
       "\n",
       "    .dataframe tbody tr th {\n",
       "        vertical-align: top;\n",
       "    }\n",
       "\n",
       "    .dataframe thead th {\n",
       "        text-align: right;\n",
       "    }\n",
       "</style>\n",
       "<table border=\"1\" class=\"dataframe\">\n",
       "  <thead>\n",
       "    <tr style=\"text-align: right;\">\n",
       "      <th></th>\n",
       "      <th>platform</th>\n",
       "      <th>eu_sales</th>\n",
       "    </tr>\n",
       "  </thead>\n",
       "  <tbody>\n",
       "    <tr>\n",
       "      <th>0</th>\n",
       "      <td>PS4</td>\n",
       "      <td>130.04</td>\n",
       "    </tr>\n",
       "    <tr>\n",
       "      <th>1</th>\n",
       "      <td>XOne</td>\n",
       "      <td>46.25</td>\n",
       "    </tr>\n",
       "    <tr>\n",
       "      <th>2</th>\n",
       "      <td>PS3</td>\n",
       "      <td>25.54</td>\n",
       "    </tr>\n",
       "    <tr>\n",
       "      <th>3</th>\n",
       "      <td>PC</td>\n",
       "      <td>17.97</td>\n",
       "    </tr>\n",
       "    <tr>\n",
       "      <th>4</th>\n",
       "      <td>3DS</td>\n",
       "      <td>16.12</td>\n",
       "    </tr>\n",
       "  </tbody>\n",
       "</table>\n",
       "</div>"
      ],
      "text/plain": [
       "  platform  eu_sales\n",
       "0      PS4    130.04\n",
       "1     XOne     46.25\n",
       "2      PS3     25.54\n",
       "3       PC     17.97\n",
       "4      3DS     16.12"
      ]
     },
     "metadata": {},
     "output_type": "display_data"
    },
    {
     "data": {
      "text/html": [
       "<div>\n",
       "<style scoped>\n",
       "    .dataframe tbody tr th:only-of-type {\n",
       "        vertical-align: middle;\n",
       "    }\n",
       "\n",
       "    .dataframe tbody tr th {\n",
       "        vertical-align: top;\n",
       "    }\n",
       "\n",
       "    .dataframe thead th {\n",
       "        text-align: right;\n",
       "    }\n",
       "</style>\n",
       "<table border=\"1\" class=\"dataframe\">\n",
       "  <thead>\n",
       "    <tr style=\"text-align: right;\">\n",
       "      <th></th>\n",
       "      <th>platform</th>\n",
       "      <th>jp_sales</th>\n",
       "    </tr>\n",
       "  </thead>\n",
       "  <tbody>\n",
       "    <tr>\n",
       "      <th>0</th>\n",
       "      <td>3DS</td>\n",
       "      <td>44.24</td>\n",
       "    </tr>\n",
       "    <tr>\n",
       "      <th>1</th>\n",
       "      <td>PS4</td>\n",
       "      <td>15.02</td>\n",
       "    </tr>\n",
       "    <tr>\n",
       "      <th>2</th>\n",
       "      <td>PSV</td>\n",
       "      <td>14.54</td>\n",
       "    </tr>\n",
       "    <tr>\n",
       "      <th>3</th>\n",
       "      <td>PS3</td>\n",
       "      <td>11.22</td>\n",
       "    </tr>\n",
       "    <tr>\n",
       "      <th>4</th>\n",
       "      <td>WiiU</td>\n",
       "      <td>7.31</td>\n",
       "    </tr>\n",
       "  </tbody>\n",
       "</table>\n",
       "</div>"
      ],
      "text/plain": [
       "  platform  jp_sales\n",
       "0      3DS     44.24\n",
       "1      PS4     15.02\n",
       "2      PSV     14.54\n",
       "3      PS3     11.22\n",
       "4     WiiU      7.31"
      ]
     },
     "metadata": {},
     "output_type": "display_data"
    },
    {
     "data": {
      "image/png": "[encoded data removed]",
      "text/plain": [
       "<Figure size 1152x360 with 3 Axes>"
      ]
     },
     "metadata": {},
     "output_type": "display_data"
    }
   ],
   "source": [
    "# Displaying a pivot table and building a pie chart for the top 5 most popular platforms by region\n",
    "\n",
    "fig, axs = plt.subplots(1, 3, figsize=(16,5))\n",
    "market=['na_sales', 'eu_sales', 'jp_sales']\n",
    "\n",
    "count=-1\n",
    "for value in market:\n",
    "    count+=1\n",
    "\n",
    "    table = ( games_topical_period\n",
    "             .pivot_table(index='platform', values=value, aggfunc='sum')\n",
    "             .sort_values(by=value, ascending=False)\n",
    "             .reset_index()\n",
    "             .head()\n",
    "            )\n",
    "    display(table)\n",
    "    axs[count].pie(table[value],labels=table['platform'],autopct='%.1f%%')\n",
    "    axs[count].set_title(value)\n",
    "    ax.set_aspect('equal')\n",
    "    \n",
    "fig.suptitle('Pie charts for the top 5 most popular platforms by region')    \n",
    "plt.show()"
   ]
  },
  {
   "cell_type": "markdown",
   "metadata": {},
   "source": [
    "The largest gaming market is in North America, followed by Europe and Japan. In North America and Europe, the most popular platforms are `PS4` and `XOne`. In North America, the `X360`, `3DS`, `PS3` platforms are next in popularity. In Europe - `PS3`, `PS`, `3DS`.\n",
    "\n",
    "In Japan, the most popular platforms are `3DS` and `PS4`. Next come `PSV`, `PS3`, `WiiU`"
   ]
  },
  {
   "cell_type": "markdown",
   "metadata": {},
   "source": [
    "### The most popular genres (top 5). Explanation of the difference."
   ]
  },
  {
   "cell_type": "code",
   "execution_count": 215,
   "metadata": {
    "scrolled": true
   },
   "outputs": [
    {
     "data": {
      "text/html": [
       "<div>\n",
       "<style scoped>\n",
       "    .dataframe tbody tr th:only-of-type {\n",
       "        vertical-align: middle;\n",
       "    }\n",
       "\n",
       "    .dataframe tbody tr th {\n",
       "        vertical-align: top;\n",
       "    }\n",
       "\n",
       "    .dataframe thead th {\n",
       "        text-align: right;\n",
       "    }\n",
       "</style>\n",
       "<table border=\"1\" class=\"dataframe\">\n",
       "  <thead>\n",
       "    <tr style=\"text-align: right;\">\n",
       "      <th></th>\n",
       "      <th>genre</th>\n",
       "      <th>na_sales</th>\n",
       "    </tr>\n",
       "  </thead>\n",
       "  <tbody>\n",
       "    <tr>\n",
       "      <th>0</th>\n",
       "      <td>Shooter</td>\n",
       "      <td>0.62</td>\n",
       "    </tr>\n",
       "    <tr>\n",
       "      <th>1</th>\n",
       "      <td>Sports</td>\n",
       "      <td>0.29</td>\n",
       "    </tr>\n",
       "    <tr>\n",
       "      <th>2</th>\n",
       "      <td>Fighting</td>\n",
       "      <td>0.21</td>\n",
       "    </tr>\n",
       "    <tr>\n",
       "      <th>3</th>\n",
       "      <td>Platform</td>\n",
       "      <td>0.18</td>\n",
       "    </tr>\n",
       "    <tr>\n",
       "      <th>4</th>\n",
       "      <td>Role-Playing</td>\n",
       "      <td>0.15</td>\n",
       "    </tr>\n",
       "  </tbody>\n",
       "</table>\n",
       "</div>"
      ],
      "text/plain": [
       "          genre  na_sales\n",
       "0       Shooter      0.62\n",
       "1        Sports      0.29\n",
       "2      Fighting      0.21\n",
       "3      Platform      0.18\n",
       "4  Role-Playing      0.15"
      ]
     },
     "metadata": {},
     "output_type": "display_data"
    },
    {
     "data": {
      "text/html": [
       "<div>\n",
       "<style scoped>\n",
       "    .dataframe tbody tr th:only-of-type {\n",
       "        vertical-align: middle;\n",
       "    }\n",
       "\n",
       "    .dataframe tbody tr th {\n",
       "        vertical-align: top;\n",
       "    }\n",
       "\n",
       "    .dataframe thead th {\n",
       "        text-align: right;\n",
       "    }\n",
       "</style>\n",
       "<table border=\"1\" class=\"dataframe\">\n",
       "  <thead>\n",
       "    <tr style=\"text-align: right;\">\n",
       "      <th></th>\n",
       "      <th>genre</th>\n",
       "      <th>eu_sales</th>\n",
       "    </tr>\n",
       "  </thead>\n",
       "  <tbody>\n",
       "    <tr>\n",
       "      <th>0</th>\n",
       "      <td>Shooter</td>\n",
       "      <td>0.51</td>\n",
       "    </tr>\n",
       "    <tr>\n",
       "      <th>1</th>\n",
       "      <td>Sports</td>\n",
       "      <td>0.28</td>\n",
       "    </tr>\n",
       "    <tr>\n",
       "      <th>2</th>\n",
       "      <td>Racing</td>\n",
       "      <td>0.20</td>\n",
       "    </tr>\n",
       "    <tr>\n",
       "      <th>3</th>\n",
       "      <td>Platform</td>\n",
       "      <td>0.18</td>\n",
       "    </tr>\n",
       "    <tr>\n",
       "      <th>4</th>\n",
       "      <td>Simulation</td>\n",
       "      <td>0.17</td>\n",
       "    </tr>\n",
       "  </tbody>\n",
       "</table>\n",
       "</div>"
      ],
      "text/plain": [
       "        genre  eu_sales\n",
       "0     Shooter      0.51\n",
       "1      Sports      0.28\n",
       "2      Racing      0.20\n",
       "3    Platform      0.18\n",
       "4  Simulation      0.17"
      ]
     },
     "metadata": {},
     "output_type": "display_data"
    },
    {
     "data": {
      "text/html": [
       "<div>\n",
       "<style scoped>\n",
       "    .dataframe tbody tr th:only-of-type {\n",
       "        vertical-align: middle;\n",
       "    }\n",
       "\n",
       "    .dataframe tbody tr th {\n",
       "        vertical-align: top;\n",
       "    }\n",
       "\n",
       "    .dataframe thead th {\n",
       "        text-align: right;\n",
       "    }\n",
       "</style>\n",
       "<table border=\"1\" class=\"dataframe\">\n",
       "  <thead>\n",
       "    <tr style=\"text-align: right;\">\n",
       "      <th></th>\n",
       "      <th>genre</th>\n",
       "      <th>jp_sales</th>\n",
       "    </tr>\n",
       "  </thead>\n",
       "  <tbody>\n",
       "    <tr>\n",
       "      <th>0</th>\n",
       "      <td>Role-Playing</td>\n",
       "      <td>0.14</td>\n",
       "    </tr>\n",
       "    <tr>\n",
       "      <th>1</th>\n",
       "      <td>Fighting</td>\n",
       "      <td>0.11</td>\n",
       "    </tr>\n",
       "    <tr>\n",
       "      <th>2</th>\n",
       "      <td>Platform</td>\n",
       "      <td>0.07</td>\n",
       "    </tr>\n",
       "    <tr>\n",
       "      <th>3</th>\n",
       "      <td>Puzzle</td>\n",
       "      <td>0.07</td>\n",
       "    </tr>\n",
       "    <tr>\n",
       "      <th>4</th>\n",
       "      <td>Simulation</td>\n",
       "      <td>0.05</td>\n",
       "    </tr>\n",
       "  </tbody>\n",
       "</table>\n",
       "</div>"
      ],
      "text/plain": [
       "          genre  jp_sales\n",
       "0  Role-Playing      0.14\n",
       "1      Fighting      0.11\n",
       "2      Platform      0.07\n",
       "3        Puzzle      0.07\n",
       "4    Simulation      0.05"
      ]
     },
     "metadata": {},
     "output_type": "display_data"
    },
    {
     "data": {
      "image/png": "[encoded data removed]",
      "text/plain": [
       "<Figure size 1152x360 with 3 Axes>"
      ]
     },
     "metadata": {},
     "output_type": "display_data"
    }
   ],
   "source": [
    "# Display a pivot table and build a pie chart for the top 5 most popular genres by region\n",
    "\n",
    "\n",
    "fig, axs = plt.subplots(1, 3, figsize=(16,5))\n",
    "market=['na_sales', 'eu_sales', 'jp_sales']\n",
    "\n",
    "count=-1\n",
    "for value in market:\n",
    "    count+=1\n",
    "\n",
    "    table = ( games_topical_period\n",
    "             .pivot_table(index='genre', values=value, aggfunc='mean')\n",
    "             .sort_values(by=value, ascending=False)\n",
    "             .reset_index()\n",
    "             .head()\n",
    "            )\n",
    "    display(table)\n",
    "    axs[count].pie(table[value],labels=table['genre'],autopct='%.1f%%',normalize=True)\n",
    "    axs[count].set_title(value)\n",
    "    ax.set_aspect('equal')\n",
    "    \n",
    "fig.suptitle('Pie charts for the top 5 most popular genres by region')     \n",
    "plt.show()"
   ]
  },
  {
   "cell_type": "markdown",
   "metadata": {},
   "source": [
    "The most popular genres in North America and Europe are `Shooter` and `Sports`. For North America, the following genres are `Fighting`, `Platform`, `Role-Playing`. For Europe - `Racing`, `Platform`, `Simulation`.\n",
    "\n",
    "In Japan, the most popular genres are `Role-Playing` and `Fighting`. Next come the `Platform`, `Puzzle`, `Simulation` genres. The `Shooter` and `Sports` genres are not in the top 5 popular genres in Japan."
   ]
  },
  {
   "cell_type": "markdown",
   "metadata": {},
   "source": [
    "### The impact of the ESRB rating on sales in a particular region."
   ]
  },
  {
   "cell_type": "code",
   "execution_count": 216,
   "metadata": {},
   "outputs": [
    {
     "data": {
      "text/html": [
       "<div>\n",
       "<style scoped>\n",
       "    .dataframe tbody tr th:only-of-type {\n",
       "        vertical-align: middle;\n",
       "    }\n",
       "\n",
       "    .dataframe tbody tr th {\n",
       "        vertical-align: top;\n",
       "    }\n",
       "\n",
       "    .dataframe thead th {\n",
       "        text-align: right;\n",
       "    }\n",
       "</style>\n",
       "<table border=\"1\" class=\"dataframe\">\n",
       "  <thead>\n",
       "    <tr style=\"text-align: right;\">\n",
       "      <th></th>\n",
       "      <th>rating</th>\n",
       "      <th>na_sales</th>\n",
       "    </tr>\n",
       "  </thead>\n",
       "  <tbody>\n",
       "    <tr>\n",
       "      <th>0</th>\n",
       "      <td>M</td>\n",
       "      <td>96.42</td>\n",
       "    </tr>\n",
       "    <tr>\n",
       "      <th>1</th>\n",
       "      <td>Unknown</td>\n",
       "      <td>64.72</td>\n",
       "    </tr>\n",
       "    <tr>\n",
       "      <th>2</th>\n",
       "      <td>E</td>\n",
       "      <td>50.74</td>\n",
       "    </tr>\n",
       "    <tr>\n",
       "      <th>3</th>\n",
       "      <td>T</td>\n",
       "      <td>38.95</td>\n",
       "    </tr>\n",
       "    <tr>\n",
       "      <th>4</th>\n",
       "      <td>E10+</td>\n",
       "      <td>33.23</td>\n",
       "    </tr>\n",
       "  </tbody>\n",
       "</table>\n",
       "</div>"
      ],
      "text/plain": [
       "    rating  na_sales\n",
       "0        M     96.42\n",
       "1  Unknown     64.72\n",
       "2        E     50.74\n",
       "3        T     38.95\n",
       "4     E10+     33.23"
      ]
     },
     "metadata": {},
     "output_type": "display_data"
    },
    {
     "data": {
      "text/html": [
       "<div>\n",
       "<style scoped>\n",
       "    .dataframe tbody tr th:only-of-type {\n",
       "        vertical-align: middle;\n",
       "    }\n",
       "\n",
       "    .dataframe tbody tr th {\n",
       "        vertical-align: top;\n",
       "    }\n",
       "\n",
       "    .dataframe thead th {\n",
       "        text-align: right;\n",
       "    }\n",
       "</style>\n",
       "<table border=\"1\" class=\"dataframe\">\n",
       "  <thead>\n",
       "    <tr style=\"text-align: right;\">\n",
       "      <th></th>\n",
       "      <th>rating</th>\n",
       "      <th>eu_sales</th>\n",
       "    </tr>\n",
       "  </thead>\n",
       "  <tbody>\n",
       "    <tr>\n",
       "      <th>0</th>\n",
       "      <td>M</td>\n",
       "      <td>93.44</td>\n",
       "    </tr>\n",
       "    <tr>\n",
       "      <th>1</th>\n",
       "      <td>Unknown</td>\n",
       "      <td>58.95</td>\n",
       "    </tr>\n",
       "    <tr>\n",
       "      <th>2</th>\n",
       "      <td>E</td>\n",
       "      <td>58.06</td>\n",
       "    </tr>\n",
       "    <tr>\n",
       "      <th>3</th>\n",
       "      <td>T</td>\n",
       "      <td>34.07</td>\n",
       "    </tr>\n",
       "    <tr>\n",
       "      <th>4</th>\n",
       "      <td>E10+</td>\n",
       "      <td>26.16</td>\n",
       "    </tr>\n",
       "  </tbody>\n",
       "</table>\n",
       "</div>"
      ],
      "text/plain": [
       "    rating  eu_sales\n",
       "0        M     93.44\n",
       "1  Unknown     58.95\n",
       "2        E     58.06\n",
       "3        T     34.07\n",
       "4     E10+     26.16"
      ]
     },
     "metadata": {},
     "output_type": "display_data"
    },
    {
     "data": {
      "text/html": [
       "<div>\n",
       "<style scoped>\n",
       "    .dataframe tbody tr th:only-of-type {\n",
       "        vertical-align: middle;\n",
       "    }\n",
       "\n",
       "    .dataframe tbody tr th {\n",
       "        vertical-align: top;\n",
       "    }\n",
       "\n",
       "    .dataframe thead th {\n",
       "        text-align: right;\n",
       "    }\n",
       "</style>\n",
       "<table border=\"1\" class=\"dataframe\">\n",
       "  <thead>\n",
       "    <tr style=\"text-align: right;\">\n",
       "      <th></th>\n",
       "      <th>rating</th>\n",
       "      <th>jp_sales</th>\n",
       "    </tr>\n",
       "  </thead>\n",
       "  <tbody>\n",
       "    <tr>\n",
       "      <th>0</th>\n",
       "      <td>Unknown</td>\n",
       "      <td>56.90</td>\n",
       "    </tr>\n",
       "    <tr>\n",
       "      <th>1</th>\n",
       "      <td>T</td>\n",
       "      <td>14.78</td>\n",
       "    </tr>\n",
       "    <tr>\n",
       "      <th>2</th>\n",
       "      <td>E</td>\n",
       "      <td>8.94</td>\n",
       "    </tr>\n",
       "    <tr>\n",
       "      <th>3</th>\n",
       "      <td>M</td>\n",
       "      <td>8.01</td>\n",
       "    </tr>\n",
       "    <tr>\n",
       "      <th>4</th>\n",
       "      <td>E10+</td>\n",
       "      <td>4.46</td>\n",
       "    </tr>\n",
       "  </tbody>\n",
       "</table>\n",
       "</div>"
      ],
      "text/plain": [
       "    rating  jp_sales\n",
       "0  Unknown     56.90\n",
       "1        T     14.78\n",
       "2        E      8.94\n",
       "3        M      8.01\n",
       "4     E10+      4.46"
      ]
     },
     "metadata": {},
     "output_type": "display_data"
    },
    {
     "data": {
      "image/png": "[encoded data removed]",
      "text/plain": [
       "<Figure size 1152x360 with 3 Axes>"
      ]
     },
     "metadata": {},
     "output_type": "display_data"
    }
   ],
   "source": [
    "# Output a pivot table and build a pie chart by region\n",
    "#by the number of sales of games with a certain ESRB rating\n",
    "\n",
    "fig, axs = plt.subplots(1, 3, figsize=(16,5))\n",
    "market=['na_sales', 'eu_sales', 'jp_sales']\n",
    "\n",
    "count=-1\n",
    "for value in market:\n",
    "    count+=1\n",
    "\n",
    "    table = ( games_topical_period\n",
    "             .pivot_table(index='rating', values=value, aggfunc='sum')\n",
    "             .sort_values(by=value, ascending=False)\n",
    "             .reset_index()\n",
    "             .head()\n",
    "            )\n",
    "    display(table)\n",
    "    axs[count].pie(table[value],labels=table['rating'],autopct='%.1f%%')\n",
    "    axs[count].set_title(value)\n",
    "    ax.set_aspect('equal')\n",
    "    \n",
    "fig.suptitle('Pie charts for the top 5 most popular game rankings by region')     \n",
    "plt.show()"
   ]
  },
  {
   "cell_type": "markdown",
   "metadata": {},
   "source": [
    "For America and Europe, the distribution of sales depending on the ESRB rating is approximately the same. In descending order, the highest sales for ratings are: `M`, `Unknown`, `E`, `T`, and `E10+`.\n",
    "\n",
    "For Japan, the distribution looks different. In descending order, games rated `Unknown`, `T`, `E`, `M`, and `E10+` have the highest sales. More than half of the games in Japan are not rated by the ESRB, because this rating was created for Western countries. This explains the missing data in the rating column."
   ]
  },
  {
   "cell_type": "markdown",
   "metadata": {},
   "source": [
    "## Hypothesis testing"
   ]
  },
  {
   "cell_type": "markdown",
   "metadata": {},
   "source": [
    "### The average user ratings of the Xbox One and PC platforms are the same"
   ]
  },
  {
   "cell_type": "markdown",
   "metadata": {},
   "source": [
    "We will formulate the null and alternative hypotheses.\n",
    "\n",
    "Null hypothesis, H0: The average user ratings of the Xbox One and PC platforms are equal.\n",
    "\n",
    "Alternative Hypothesis: The average user ratings of the Xbox One and PC platforms are not equal."
   ]
  },
  {
   "cell_type": "code",
   "execution_count": 217,
   "metadata": {},
   "outputs": [
    {
     "name": "stdout",
     "output_type": "stream",
     "text": [
      "The number of values in the sample by XOne: 228\n",
      "Percentage of missing values in the sample by XOne: 28%\n",
      "The number of values in the sample by PC: 151\n",
      "Percentage of missing values in the sample by PC: 19%\n"
     ]
    }
   ],
   "source": [
    "# Count sample sizes and missing values\n",
    "for value in ['XOne', 'PC']:\n",
    "    value_na=games_topical_period.query('platform==@value')['user_score'].isna().mean()\n",
    "    value_len=len(games_topical_period.query('platform==@value')['user_score'])\n",
    "    print(f'The number of values in the sample by {value}: {value_len}')\n",
    "    print(f'Percentage of missing values in the sample by {value}: {value_na:.0%}')"
   ]
  },
  {
   "cell_type": "markdown",
   "metadata": {},
   "source": [
    "We will conduct a two-tailed hypothesis test. We will set the threshold value alpha to 0.05."
   ]
  },
  {
   "cell_type": "code",
   "execution_count": 218,
   "metadata": {
    "scrolled": false
   },
   "outputs": [
    {
     "name": "stdout",
     "output_type": "stream",
     "text": [
      "p-value 0.11601398086668832\n",
      "Failed to reject the null hypothesis\n"
     ]
    }
   ],
   "source": [
    "alpha=0.05\n",
    "\n",
    "# set the parameter equal_var=False, because we have samples of different sizes\n",
    "# Get rid of NaN in samples using the droppna() method\n",
    "results=st.ttest_ind(\n",
    "    games_topical_period.query('platform==\"XOne\"')['user_score'].dropna(),\n",
    "    games_topical_period.query('platform==\"PC\"')['user_score'].dropna(), equal_var = False)\n",
    "\n",
    "if results.pvalue < alpha:\n",
    "    print(f'p-value {results.pvalue}')\n",
    "    print('Rejection of the null hypothesis')\n",
    "else:\n",
    "    print(f'p-value {results.pvalue}')\n",
    "    print('Failed to reject the null hypothesis')"
   ]
  },
  {
   "cell_type": "markdown",
   "metadata": {},
   "source": [
    "Thus, we accept the null hypothesis that the average user ratings of the Xbox One and PC platforms are equal."
   ]
  },
  {
   "cell_type": "markdown",
   "metadata": {},
   "source": [
    "### The average user ratings of the genres Action and Sports are different."
   ]
  },
  {
   "cell_type": "markdown",
   "metadata": {},
   "source": [
    "We will formulate the null and alternative hypotheses.\n",
    "\n",
    "Null hypothesis, H0: The average user ratings of the Action and Sports platforms are equal.\n",
    "\n",
    "Alternative Hypothesis: The average user ratings of the Action and Sports platforms are not equal."
   ]
  },
  {
   "cell_type": "code",
   "execution_count": 219,
   "metadata": {
    "scrolled": true
   },
   "outputs": [
    {
     "name": "stdout",
     "output_type": "stream",
     "text": [
      "The number of values in the sample by Sports: 161\n",
      "Percentage of missing values in the sample by Sports: 21%\n",
      "The number of values in the sample by Action: 619\n",
      "Percentage of missing values in the sample by Action: 52%\n"
     ]
    }
   ],
   "source": [
    "# Count sample sizes and missing values\n",
    "for value in ['Sports', 'Action']:\n",
    "    value_na=games_topical_period.query('genre==@value')['user_score'].isna().mean()\n",
    "    value_len=len(games_topical_period.query('genre==@value')['user_score'])\n",
    "    print(f'The number of values in the sample by {value}: {value_len}')\n",
    "    print(f'Percentage of missing values in the sample by {value}: {value_na:.0%}')"
   ]
  },
  {
   "cell_type": "markdown",
   "metadata": {},
   "source": [
    "We will conduct a two-tailed hypothesis test. We will set the threshold value alpha to 0.05."
   ]
  },
  {
   "cell_type": "code",
   "execution_count": 220,
   "metadata": {
    "scrolled": false
   },
   "outputs": [
    {
     "name": "stdout",
     "output_type": "stream",
     "text": [
      "p-value 1.1825550382644557e-14\n",
      "Rejection of the null hypothesis\n"
     ]
    }
   ],
   "source": [
    "alpha=0.05\n",
    "\n",
    "# set the parameter equal_var=False, because we have samples of different sizes\n",
    "# Get rid of NaN in samples using the droppna() method\n",
    "results=st.ttest_ind(\n",
    "    games_topical_period.query('genre==\"Sports\"')['user_score'].dropna(),\n",
    "    games_topical_period.query('genre==\"Action\"')['user_score'].dropna(), equal_var = False)\n",
    "\n",
    "if results.pvalue < alpha:\n",
    "    print(f'p-value {results.pvalue}')\n",
    "    print('Rejection of the null hypothesis')\n",
    "else:\n",
    "    print(f'p-value {results.pvalue}')\n",
    "    print('Failed to reject the null hypothesis')"
   ]
  },
  {
   "cell_type": "markdown",
   "metadata": {},
   "source": [
    "We reject the null hypothesis and accept the alternative hypothesis that the average user ratings of the `Action` and `Sports` genres are different."
   ]
  },
  {
   "cell_type": "markdown",
   "metadata": {},
   "source": [
    "## General conclusion<a id=\"summary\"></a>"
   ]
  },
  {
   "cell_type": "markdown",
   "metadata": {},
   "source": [
    "We were given the task of identifying the patterns that determine the success of the game in order to bet on a potentially popular product and plan an advertising campaign for 2017.\n",
    "\n",
    "Historical game sales data, user and expert ratings, genres and platforms (such as Xbox or PlayStation) are available from open sources. Data presented up to 2016.\n",
    "\n",
    "\n",
    "At the beginning of the study, data preprocessing was carried out:\n",
    "\n",
    "* casting data to the desired types\n",
    "* handling missing values\n",
    "* removing duplicates\n",
    "\n",
    "Based on the results of data analysis, the current period from 2014 to 2016 was chosen, for which further research was carried out. For the current period, separately by region (North America, Europe and Japan), the top 5 were selected:\n",
    "* platforms\n",
    "* genres\n",
    "* game ratings.\n",
    "\n",
    "\n",
    "\n",
    "После проведения исследовательского анализа данных были выявлены следующие определяющие успешность игры закономерности, которые помогут запланировать рекламную компанию на 2017 год:\n",
    "\n",
    "* The region where the game is sold: the largest game market in North America, followed by Europe and Japan.\n",
    "\n",
    "* The platform on which the game was released. Top 5 most profitable platforms: `PS4`, `XOne`, `3DS`, `PS3`, `X360`. In North America and Europe, the most popular platforms are `PS4` and `XOne`. In North America, `X360`, `3DS`, `PS3` platforms are next in popularity. In Europe - `PS3`, `PS`, `3DS`. In Japan, the most popular platforms are `3DS` and `PS4`. Next come `PSV`, `PS3`, `WiiU`\n",
    "\n",
    "* Game genre. The most popular genres in North America and Europe are `Shooter` and `Sports`. For North America, next in popularity are the genres `Fighting`, `Platform`, `Role-Playing`. For Europe - `Racing`, `Platform`, `Simulation`. In Japan, the most popular genres are `Role-Playing` and `Fighting`. Next come the `Platform`, `Puzzle`, `Simulation` genres. The `Shooter` and `Sports` genres are not in the top 5 popular genres in Japan.\n",
    "\n",
    "\n",
    "* `ESRB` rating. For America and Europe, the distribution of sales depending on the ESRB rating is approximately the same. In descending order, the highest sales for ratings are: `M`, `Unknown`, `E`, `T` and `E10+`. For Japan, the distribution looks different. In descending order, the highest sales are for games rated: `Unknown`, `T`, `E`, `M` and `E10+`. More than half of the games in Japan are not rated by the ESRB, because this rating was created for Western countries.\n",
    "\n",
    "\n",
    "\n",
    "* The influence of critic and user reviews on game sales was investigated. Both user reviews and critic reviews are correlated with game sales. Critical reviews have a stronger correlation with sales than user reviews. This can be explained by the greater credibility of critics among players, i.e. when buying a game, users trust critics' ratings more. The Pearson correlation coefficient shows only a linear relationship, so it cannot be definitively concluded that user reviews do not affect sales. Perhaps there is a more complex, non-linear relationship between user reviews and sales. It is also impossible to say with 100% certainty that with high reviews from critics the game will become super popular, since the Pearson correlation coefficient we found does not prove a causal relationship between the popularity of the game and reviews from critics."
   ]
  }
 ],
 "metadata": {
  "ExecuteTimeLog": [
   {
    "duration": 1295,
    "start_time": "2022-04-16T11:06:34.312Z"
   },
   {
    "duration": 180,
    "start_time": "2022-04-16T11:06:35.609Z"
   },
   {
    "duration": 0,
    "start_time": "2022-04-16T11:06:35.793Z"
   },
   {
    "duration": 0,
    "start_time": "2022-04-16T11:06:35.794Z"
   },
   {
    "duration": 0,
    "start_time": "2022-04-16T11:06:35.795Z"
   },
   {
    "duration": 0,
    "start_time": "2022-04-16T11:06:35.796Z"
   },
   {
    "duration": 0,
    "start_time": "2022-04-16T11:06:35.798Z"
   },
   {
    "duration": 0,
    "start_time": "2022-04-16T11:06:35.799Z"
   },
   {
    "duration": 0,
    "start_time": "2022-04-16T11:06:35.800Z"
   },
   {
    "duration": 0,
    "start_time": "2022-04-16T11:06:35.801Z"
   },
   {
    "duration": 0,
    "start_time": "2022-04-16T11:06:35.803Z"
   },
   {
    "duration": 0,
    "start_time": "2022-04-16T11:06:35.804Z"
   },
   {
    "duration": 0,
    "start_time": "2022-04-16T11:06:35.806Z"
   },
   {
    "duration": 0,
    "start_time": "2022-04-16T11:06:35.807Z"
   },
   {
    "duration": 0,
    "start_time": "2022-04-16T11:06:35.809Z"
   },
   {
    "duration": 0,
    "start_time": "2022-04-16T11:06:35.810Z"
   },
   {
    "duration": 0,
    "start_time": "2022-04-16T11:06:35.811Z"
   },
   {
    "duration": 0,
    "start_time": "2022-04-16T11:06:35.812Z"
   },
   {
    "duration": 0,
    "start_time": "2022-04-16T11:06:35.814Z"
   },
   {
    "duration": 0,
    "start_time": "2022-04-16T11:06:35.815Z"
   },
   {
    "duration": 0,
    "start_time": "2022-04-16T11:06:35.816Z"
   },
   {
    "duration": 0,
    "start_time": "2022-04-16T11:06:35.818Z"
   },
   {
    "duration": 0,
    "start_time": "2022-04-16T11:06:35.819Z"
   },
   {
    "duration": 0,
    "start_time": "2022-04-16T11:06:35.820Z"
   },
   {
    "duration": 0,
    "start_time": "2022-04-16T11:06:35.822Z"
   },
   {
    "duration": 0,
    "start_time": "2022-04-16T11:06:35.823Z"
   },
   {
    "duration": 0,
    "start_time": "2022-04-16T11:06:35.824Z"
   },
   {
    "duration": 0,
    "start_time": "2022-04-16T11:06:35.826Z"
   },
   {
    "duration": 0,
    "start_time": "2022-04-16T11:06:35.827Z"
   },
   {
    "duration": 0,
    "start_time": "2022-04-16T11:06:35.828Z"
   },
   {
    "duration": 0,
    "start_time": "2022-04-16T11:06:35.873Z"
   },
   {
    "duration": 0,
    "start_time": "2022-04-16T11:06:35.875Z"
   },
   {
    "duration": 0,
    "start_time": "2022-04-16T11:06:35.876Z"
   },
   {
    "duration": 0,
    "start_time": "2022-04-16T11:06:35.877Z"
   },
   {
    "duration": 0,
    "start_time": "2022-04-16T11:06:35.879Z"
   },
   {
    "duration": 0,
    "start_time": "2022-04-16T11:06:35.880Z"
   },
   {
    "duration": 0,
    "start_time": "2022-04-16T11:06:35.882Z"
   },
   {
    "duration": 0,
    "start_time": "2022-04-16T11:06:35.883Z"
   },
   {
    "duration": 0,
    "start_time": "2022-04-16T11:06:35.885Z"
   },
   {
    "duration": 0,
    "start_time": "2022-04-16T11:06:35.886Z"
   },
   {
    "duration": 1,
    "start_time": "2022-04-16T11:06:35.887Z"
   },
   {
    "duration": 0,
    "start_time": "2022-04-16T11:06:35.889Z"
   },
   {
    "duration": 0,
    "start_time": "2022-04-16T11:06:35.890Z"
   },
   {
    "duration": 0,
    "start_time": "2022-04-16T11:06:35.892Z"
   },
   {
    "duration": 0,
    "start_time": "2022-04-16T11:06:35.893Z"
   },
   {
    "duration": 0,
    "start_time": "2022-04-16T11:06:35.895Z"
   },
   {
    "duration": 0,
    "start_time": "2022-04-16T11:06:35.896Z"
   },
   {
    "duration": 0,
    "start_time": "2022-04-16T11:06:35.898Z"
   },
   {
    "duration": 0,
    "start_time": "2022-04-16T11:06:35.899Z"
   },
   {
    "duration": 0,
    "start_time": "2022-04-16T11:06:35.900Z"
   },
   {
    "duration": 0,
    "start_time": "2022-04-16T11:06:35.902Z"
   },
   {
    "duration": 0,
    "start_time": "2022-04-16T11:06:35.903Z"
   },
   {
    "duration": 0,
    "start_time": "2022-04-16T11:06:35.904Z"
   },
   {
    "duration": 0,
    "start_time": "2022-04-16T11:06:35.906Z"
   },
   {
    "duration": 0,
    "start_time": "2022-04-16T11:06:35.907Z"
   },
   {
    "duration": 0,
    "start_time": "2022-04-16T11:06:35.973Z"
   },
   {
    "duration": 0,
    "start_time": "2022-04-16T11:06:35.974Z"
   },
   {
    "duration": 0,
    "start_time": "2022-04-16T11:06:35.976Z"
   },
   {
    "duration": 0,
    "start_time": "2022-04-16T11:06:35.977Z"
   },
   {
    "duration": 0,
    "start_time": "2022-04-16T11:06:35.979Z"
   },
   {
    "duration": 91,
    "start_time": "2022-04-16T11:08:01.993Z"
   },
   {
    "duration": 4,
    "start_time": "2022-04-16T11:08:51.607Z"
   },
   {
    "duration": 100,
    "start_time": "2022-04-16T11:08:51.613Z"
   },
   {
    "duration": 3,
    "start_time": "2022-04-16T11:08:51.715Z"
   },
   {
    "duration": 120,
    "start_time": "2022-04-16T11:08:51.720Z"
   },
   {
    "duration": 31,
    "start_time": "2022-04-16T11:08:51.842Z"
   },
   {
    "duration": 16,
    "start_time": "2022-04-16T11:08:51.876Z"
   },
   {
    "duration": 19,
    "start_time": "2022-04-16T11:08:51.894Z"
   },
   {
    "duration": 7,
    "start_time": "2022-04-16T11:08:51.914Z"
   },
   {
    "duration": 7,
    "start_time": "2022-04-16T11:08:51.923Z"
   },
   {
    "duration": 46,
    "start_time": "2022-04-16T11:08:51.932Z"
   },
   {
    "duration": 6,
    "start_time": "2022-04-16T11:08:51.982Z"
   },
   {
    "duration": 12,
    "start_time": "2022-04-16T11:08:51.990Z"
   },
   {
    "duration": 100,
    "start_time": "2022-04-16T11:08:52.004Z"
   },
   {
    "duration": 367,
    "start_time": "2022-04-16T11:08:52.106Z"
   },
   {
    "duration": 324,
    "start_time": "2022-04-16T11:08:52.474Z"
   },
   {
    "duration": 327,
    "start_time": "2022-04-16T11:08:52.800Z"
   },
   {
    "duration": 5,
    "start_time": "2022-04-16T11:08:53.129Z"
   },
   {
    "duration": 11,
    "start_time": "2022-04-16T11:08:53.135Z"
   },
   {
    "duration": 8,
    "start_time": "2022-04-16T11:08:53.147Z"
   },
   {
    "duration": 21,
    "start_time": "2022-04-16T11:08:53.156Z"
   },
   {
    "duration": 10,
    "start_time": "2022-04-16T11:08:53.178Z"
   },
   {
    "duration": 11,
    "start_time": "2022-04-16T11:08:53.190Z"
   },
   {
    "duration": 8,
    "start_time": "2022-04-16T11:08:53.203Z"
   },
   {
    "duration": 8,
    "start_time": "2022-04-16T11:08:53.212Z"
   },
   {
    "duration": 19,
    "start_time": "2022-04-16T11:08:53.221Z"
   },
   {
    "duration": 32,
    "start_time": "2022-04-16T11:08:53.241Z"
   },
   {
    "duration": 8,
    "start_time": "2022-04-16T11:08:53.275Z"
   },
   {
    "duration": 99,
    "start_time": "2022-04-16T11:08:53.284Z"
   },
   {
    "duration": 15,
    "start_time": "2022-04-16T11:08:53.387Z"
   },
   {
    "duration": 5,
    "start_time": "2022-04-16T11:08:53.404Z"
   },
   {
    "duration": 103,
    "start_time": "2022-04-16T11:08:53.410Z"
   },
   {
    "duration": 4,
    "start_time": "2022-04-16T11:08:53.516Z"
   },
   {
    "duration": 337,
    "start_time": "2022-04-16T11:08:53.522Z"
   },
   {
    "duration": 18,
    "start_time": "2022-04-16T11:08:53.861Z"
   },
   {
    "duration": 16,
    "start_time": "2022-04-16T11:08:53.880Z"
   },
   {
    "duration": 5,
    "start_time": "2022-04-16T11:08:53.897Z"
   },
   {
    "duration": 17,
    "start_time": "2022-04-16T11:08:53.904Z"
   },
   {
    "duration": 12,
    "start_time": "2022-04-16T11:08:53.922Z"
   },
   {
    "duration": 55,
    "start_time": "2022-04-16T11:08:53.936Z"
   },
   {
    "duration": 26,
    "start_time": "2022-04-16T11:08:53.993Z"
   },
   {
    "duration": 378,
    "start_time": "2022-04-16T11:08:54.021Z"
   },
   {
    "duration": 6,
    "start_time": "2022-04-16T11:08:54.401Z"
   },
   {
    "duration": 8,
    "start_time": "2022-04-16T11:08:54.409Z"
   },
   {
    "duration": 24,
    "start_time": "2022-04-16T11:08:54.419Z"
   },
   {
    "duration": 269,
    "start_time": "2022-04-16T11:08:54.445Z"
   },
   {
    "duration": 1550,
    "start_time": "2022-04-16T11:08:54.716Z"
   },
   {
    "duration": 23,
    "start_time": "2022-04-16T11:08:56.268Z"
   },
   {
    "duration": 206,
    "start_time": "2022-04-16T11:08:56.293Z"
   },
   {
    "duration": 89,
    "start_time": "2022-04-16T11:08:56.502Z"
   },
   {
    "duration": 498,
    "start_time": "2022-04-16T11:08:56.593Z"
   },
   {
    "duration": 499,
    "start_time": "2022-04-16T11:08:57.093Z"
   },
   {
    "duration": 579,
    "start_time": "2022-04-16T11:08:57.594Z"
   },
   {
    "duration": 16,
    "start_time": "2022-04-16T11:08:58.174Z"
   },
   {
    "duration": 10,
    "start_time": "2022-04-16T11:08:58.191Z"
   },
   {
    "duration": 12,
    "start_time": "2022-04-16T11:08:58.203Z"
   },
   {
    "duration": 10,
    "start_time": "2022-04-16T11:08:58.217Z"
   },
   {
    "duration": 45,
    "start_time": "2022-04-16T11:08:58.229Z"
   },
   {
    "duration": 9,
    "start_time": "2022-04-16T11:08:58.275Z"
   },
   {
    "duration": 18,
    "start_time": "2022-04-16T11:08:58.285Z"
   },
   {
    "duration": 11,
    "start_time": "2022-04-16T11:08:58.304Z"
   },
   {
    "duration": 101,
    "start_time": "2022-04-16T11:10:53.375Z"
   },
   {
    "duration": 4,
    "start_time": "2022-04-16T11:11:51.030Z"
   },
   {
    "duration": 4,
    "start_time": "2022-04-16T11:11:57.213Z"
   },
   {
    "duration": 3,
    "start_time": "2022-04-16T11:12:55.788Z"
   },
   {
    "duration": 8,
    "start_time": "2022-04-16T11:12:58.549Z"
   },
   {
    "duration": 4,
    "start_time": "2022-04-16T11:13:01.525Z"
   },
   {
    "duration": 4,
    "start_time": "2022-04-16T11:14:02.597Z"
   },
   {
    "duration": 13,
    "start_time": "2022-04-16T11:14:15.180Z"
   },
   {
    "duration": 9,
    "start_time": "2022-04-16T11:14:23.940Z"
   },
   {
    "duration": 72,
    "start_time": "2022-04-16T11:14:27.237Z"
   },
   {
    "duration": 4,
    "start_time": "2022-04-16T11:15:09.057Z"
   },
   {
    "duration": 69,
    "start_time": "2022-04-16T11:15:09.262Z"
   },
   {
    "duration": 73,
    "start_time": "2022-04-16T11:15:41.742Z"
   },
   {
    "duration": 18,
    "start_time": "2022-04-16T11:43:54.902Z"
   },
   {
    "duration": 21,
    "start_time": "2022-04-16T11:44:31.396Z"
   },
   {
    "duration": 17,
    "start_time": "2022-04-16T11:44:42.788Z"
   },
   {
    "duration": 20,
    "start_time": "2022-04-16T11:45:08.372Z"
   },
   {
    "duration": 19,
    "start_time": "2022-04-16T11:45:16.694Z"
   },
   {
    "duration": 16,
    "start_time": "2022-04-16T11:45:21.236Z"
   },
   {
    "duration": 19,
    "start_time": "2022-04-16T11:46:29.908Z"
   },
   {
    "duration": 20,
    "start_time": "2022-04-16T11:46:56.868Z"
   },
   {
    "duration": 19,
    "start_time": "2022-04-16T11:47:00.819Z"
   },
   {
    "duration": 20,
    "start_time": "2022-04-16T11:47:20.843Z"
   },
   {
    "duration": 14,
    "start_time": "2022-04-16T11:47:45.292Z"
   },
   {
    "duration": 15,
    "start_time": "2022-04-16T11:48:16.252Z"
   },
   {
    "duration": 17,
    "start_time": "2022-04-16T11:48:25.907Z"
   },
   {
    "duration": 23,
    "start_time": "2022-04-16T11:48:29.202Z"
   },
   {
    "duration": 16,
    "start_time": "2022-04-16T11:48:35.099Z"
   },
   {
    "duration": 14,
    "start_time": "2022-04-16T11:48:43.394Z"
   },
   {
    "duration": 11,
    "start_time": "2022-04-16T11:48:51.698Z"
   },
   {
    "duration": 167,
    "start_time": "2022-04-16T12:07:01.642Z"
   },
   {
    "duration": 1110,
    "start_time": "2022-04-16T13:09:37.289Z"
   },
   {
    "duration": 90,
    "start_time": "2022-04-16T13:09:38.401Z"
   },
   {
    "duration": 3,
    "start_time": "2022-04-16T13:09:38.493Z"
   },
   {
    "duration": 83,
    "start_time": "2022-04-16T13:09:38.498Z"
   },
   {
    "duration": 5,
    "start_time": "2022-04-16T13:09:38.583Z"
   },
   {
    "duration": 17,
    "start_time": "2022-04-16T13:09:38.589Z"
   },
   {
    "duration": 20,
    "start_time": "2022-04-16T13:09:38.608Z"
   },
   {
    "duration": 7,
    "start_time": "2022-04-16T13:09:38.630Z"
   },
   {
    "duration": 8,
    "start_time": "2022-04-16T13:09:38.638Z"
   },
   {
    "duration": 8,
    "start_time": "2022-04-16T13:09:38.675Z"
   },
   {
    "duration": 8,
    "start_time": "2022-04-16T13:09:38.684Z"
   },
   {
    "duration": 13,
    "start_time": "2022-04-16T13:09:38.693Z"
   },
   {
    "duration": 85,
    "start_time": "2022-04-16T13:09:38.708Z"
   },
   {
    "duration": 329,
    "start_time": "2022-04-16T13:09:38.794Z"
   },
   {
    "duration": 300,
    "start_time": "2022-04-16T13:09:39.125Z"
   },
   {
    "duration": 304,
    "start_time": "2022-04-16T13:09:39.427Z"
   },
   {
    "duration": 5,
    "start_time": "2022-04-16T13:09:39.732Z"
   },
   {
    "duration": 9,
    "start_time": "2022-04-16T13:09:39.739Z"
   },
   {
    "duration": 7,
    "start_time": "2022-04-16T13:09:39.750Z"
   },
   {
    "duration": 18,
    "start_time": "2022-04-16T13:09:39.758Z"
   },
   {
    "duration": 6,
    "start_time": "2022-04-16T13:09:39.778Z"
   },
   {
    "duration": 9,
    "start_time": "2022-04-16T13:09:39.785Z"
   },
   {
    "duration": 7,
    "start_time": "2022-04-16T13:09:39.796Z"
   },
   {
    "duration": 6,
    "start_time": "2022-04-16T13:09:39.805Z"
   },
   {
    "duration": 16,
    "start_time": "2022-04-16T13:09:39.813Z"
   },
   {
    "duration": 8,
    "start_time": "2022-04-16T13:09:39.830Z"
   },
   {
    "duration": 7,
    "start_time": "2022-04-16T13:09:39.872Z"
   },
   {
    "duration": 62,
    "start_time": "2022-04-16T13:09:39.883Z"
   },
   {
    "duration": 38,
    "start_time": "2022-04-16T13:09:39.947Z"
   },
   {
    "duration": 4,
    "start_time": "2022-04-16T13:09:39.987Z"
   },
   {
    "duration": 94,
    "start_time": "2022-04-16T13:09:39.993Z"
   },
   {
    "duration": 4,
    "start_time": "2022-04-16T13:09:40.088Z"
   },
   {
    "duration": 317,
    "start_time": "2022-04-16T13:09:40.093Z"
   },
   {
    "duration": 11,
    "start_time": "2022-04-16T13:09:40.412Z"
   },
   {
    "duration": 11,
    "start_time": "2022-04-16T13:09:40.425Z"
   },
   {
    "duration": 5,
    "start_time": "2022-04-16T13:09:40.438Z"
   },
   {
    "duration": 42,
    "start_time": "2022-04-16T13:09:40.445Z"
   },
   {
    "duration": 12,
    "start_time": "2022-04-16T13:09:40.490Z"
   },
   {
    "duration": 16,
    "start_time": "2022-04-16T13:09:40.503Z"
   },
   {
    "duration": 19,
    "start_time": "2022-04-16T13:09:40.521Z"
   },
   {
    "duration": 318,
    "start_time": "2022-04-16T13:09:40.574Z"
   },
   {
    "duration": 6,
    "start_time": "2022-04-16T13:09:40.893Z"
   },
   {
    "duration": 8,
    "start_time": "2022-04-16T13:09:40.901Z"
   },
   {
    "duration": 21,
    "start_time": "2022-04-16T13:09:40.910Z"
   },
   {
    "duration": 167,
    "start_time": "2022-04-16T13:09:40.933Z"
   },
   {
    "duration": 1496,
    "start_time": "2022-04-16T13:09:41.102Z"
   },
   {
    "duration": 19,
    "start_time": "2022-04-16T13:09:42.600Z"
   },
   {
    "duration": 194,
    "start_time": "2022-04-16T13:09:42.621Z"
   },
   {
    "duration": 75,
    "start_time": "2022-04-16T13:09:42.816Z"
   },
   {
    "duration": 473,
    "start_time": "2022-04-16T13:09:42.893Z"
   },
   {
    "duration": 477,
    "start_time": "2022-04-16T13:09:43.368Z"
   },
   {
    "duration": 559,
    "start_time": "2022-04-16T13:09:43.846Z"
   },
   {
    "duration": 15,
    "start_time": "2022-04-16T13:09:44.406Z"
   },
   {
    "duration": 13,
    "start_time": "2022-04-16T13:09:44.423Z"
   },
   {
    "duration": 11,
    "start_time": "2022-04-16T13:09:44.437Z"
   },
   {
    "duration": 31,
    "start_time": "2022-04-16T13:09:44.449Z"
   },
   {
    "duration": 8,
    "start_time": "2022-04-16T13:09:44.482Z"
   },
   {
    "duration": 10,
    "start_time": "2022-04-16T13:09:44.491Z"
   },
   {
    "duration": 15,
    "start_time": "2022-04-16T13:09:44.502Z"
   },
   {
    "duration": 10,
    "start_time": "2022-04-16T13:09:44.518Z"
   },
   {
    "duration": 1079,
    "start_time": "2022-04-19T17:17:56.349Z"
   },
   {
    "duration": 117,
    "start_time": "2022-04-19T17:17:57.430Z"
   },
   {
    "duration": 3,
    "start_time": "2022-04-19T17:17:57.548Z"
   },
   {
    "duration": 50,
    "start_time": "2022-04-19T17:17:57.553Z"
   },
   {
    "duration": 3,
    "start_time": "2022-04-19T17:17:57.604Z"
   },
   {
    "duration": 21,
    "start_time": "2022-04-19T17:17:57.609Z"
   },
   {
    "duration": 16,
    "start_time": "2022-04-19T17:17:57.632Z"
   },
   {
    "duration": 6,
    "start_time": "2022-04-19T17:17:57.649Z"
   },
   {
    "duration": 9,
    "start_time": "2022-04-19T17:17:57.656Z"
   },
   {
    "duration": 8,
    "start_time": "2022-04-19T17:17:57.667Z"
   },
   {
    "duration": 3,
    "start_time": "2022-04-19T17:17:57.676Z"
   },
   {
    "duration": 10,
    "start_time": "2022-04-19T17:17:57.723Z"
   },
   {
    "duration": 46,
    "start_time": "2022-04-19T17:17:57.734Z"
   },
   {
    "duration": 303,
    "start_time": "2022-04-19T17:17:57.781Z"
   },
   {
    "duration": 4,
    "start_time": "2022-04-19T17:17:58.086Z"
   },
   {
    "duration": 286,
    "start_time": "2022-04-19T17:17:58.092Z"
   },
   {
    "duration": 6,
    "start_time": "2022-04-19T17:17:58.381Z"
   },
   {
    "duration": 8,
    "start_time": "2022-04-19T17:17:58.389Z"
   },
   {
    "duration": 25,
    "start_time": "2022-04-19T17:17:58.399Z"
   },
   {
    "duration": 6,
    "start_time": "2022-04-19T17:17:58.426Z"
   },
   {
    "duration": 276,
    "start_time": "2022-04-19T17:17:58.434Z"
   },
   {
    "duration": 12,
    "start_time": "2022-04-19T17:17:58.712Z"
   },
   {
    "duration": 4,
    "start_time": "2022-04-19T17:17:58.725Z"
   },
   {
    "duration": 6,
    "start_time": "2022-04-19T17:17:58.731Z"
   },
   {
    "duration": 13,
    "start_time": "2022-04-19T17:17:58.739Z"
   },
   {
    "duration": 8,
    "start_time": "2022-04-19T17:17:58.753Z"
   },
   {
    "duration": 5,
    "start_time": "2022-04-19T17:17:58.762Z"
   },
   {
    "duration": 77,
    "start_time": "2022-04-19T17:17:58.770Z"
   },
   {
    "duration": 15,
    "start_time": "2022-04-19T17:17:58.848Z"
   },
   {
    "duration": 5,
    "start_time": "2022-04-19T17:17:58.865Z"
   },
   {
    "duration": 71,
    "start_time": "2022-04-19T17:17:58.872Z"
   },
   {
    "duration": 4,
    "start_time": "2022-04-19T17:17:58.945Z"
   },
   {
    "duration": 288,
    "start_time": "2022-04-19T17:17:58.950Z"
   },
   {
    "duration": 11,
    "start_time": "2022-04-19T17:17:59.239Z"
   },
   {
    "duration": 9,
    "start_time": "2022-04-19T17:17:59.252Z"
   },
   {
    "duration": 4,
    "start_time": "2022-04-19T17:17:59.262Z"
   },
   {
    "duration": 15,
    "start_time": "2022-04-19T17:17:59.268Z"
   },
   {
    "duration": 53,
    "start_time": "2022-04-19T17:17:59.284Z"
   },
   {
    "duration": 10,
    "start_time": "2022-04-19T17:17:59.339Z"
   },
   {
    "duration": 348,
    "start_time": "2022-04-19T17:17:59.350Z"
   },
   {
    "duration": 411,
    "start_time": "2022-04-19T17:17:59.700Z"
   },
   {
    "duration": 13,
    "start_time": "2022-04-19T17:18:00.112Z"
   },
   {
    "duration": 23,
    "start_time": "2022-04-19T17:18:00.127Z"
   },
   {
    "duration": 32,
    "start_time": "2022-04-19T17:18:00.152Z"
   },
   {
    "duration": 22,
    "start_time": "2022-04-19T17:18:00.186Z"
   },
   {
    "duration": 25,
    "start_time": "2022-04-19T17:18:00.210Z"
   },
   {
    "duration": 259,
    "start_time": "2022-04-19T17:18:00.237Z"
   },
   {
    "duration": 174,
    "start_time": "2022-04-19T17:18:00.498Z"
   },
   {
    "duration": 1416,
    "start_time": "2022-04-19T17:18:00.675Z"
   },
   {
    "duration": 31,
    "start_time": "2022-04-19T17:18:02.092Z"
   },
   {
    "duration": 181,
    "start_time": "2022-04-19T17:18:02.125Z"
   },
   {
    "duration": 25,
    "start_time": "2022-04-19T17:18:02.308Z"
   },
   {
    "duration": 38,
    "start_time": "2022-04-19T17:18:02.335Z"
   },
   {
    "duration": 345,
    "start_time": "2022-04-19T17:18:02.375Z"
   },
   {
    "duration": 286,
    "start_time": "2022-04-19T17:18:02.723Z"
   },
   {
    "duration": 275,
    "start_time": "2022-04-19T17:18:03.011Z"
   },
   {
    "duration": 12,
    "start_time": "2022-04-19T17:18:03.288Z"
   },
   {
    "duration": 24,
    "start_time": "2022-04-19T17:18:03.301Z"
   },
   {
    "duration": 32,
    "start_time": "2022-04-19T17:18:03.327Z"
   },
   {
    "duration": 9,
    "start_time": "2022-04-19T17:18:03.360Z"
   },
   {
    "duration": 9,
    "start_time": "2022-04-19T17:24:13.999Z"
   },
   {
    "duration": 145,
    "start_time": "2022-04-19T17:41:45.153Z"
   },
   {
    "duration": 1121,
    "start_time": "2022-04-19T17:45:44.917Z"
   },
   {
    "duration": 88,
    "start_time": "2022-04-19T17:45:46.040Z"
   },
   {
    "duration": 4,
    "start_time": "2022-04-19T17:45:46.130Z"
   },
   {
    "duration": 54,
    "start_time": "2022-04-19T17:45:46.136Z"
   },
   {
    "duration": 5,
    "start_time": "2022-04-19T17:45:46.193Z"
   },
   {
    "duration": 34,
    "start_time": "2022-04-19T17:45:46.200Z"
   },
   {
    "duration": 26,
    "start_time": "2022-04-19T17:45:46.236Z"
   },
   {
    "duration": 10,
    "start_time": "2022-04-19T17:45:46.265Z"
   },
   {
    "duration": 46,
    "start_time": "2022-04-19T17:45:46.277Z"
   },
   {
    "duration": 12,
    "start_time": "2022-04-19T17:45:46.327Z"
   },
   {
    "duration": 5,
    "start_time": "2022-04-19T17:45:46.342Z"
   },
   {
    "duration": 18,
    "start_time": "2022-04-19T17:45:46.349Z"
   },
   {
    "duration": 68,
    "start_time": "2022-04-19T17:45:46.369Z"
   },
   {
    "duration": 309,
    "start_time": "2022-04-19T17:45:46.438Z"
   },
   {
    "duration": 6,
    "start_time": "2022-04-19T17:45:46.748Z"
   },
   {
    "duration": 277,
    "start_time": "2022-04-19T17:45:46.755Z"
   },
   {
    "duration": 5,
    "start_time": "2022-04-19T17:45:47.034Z"
   },
   {
    "duration": 11,
    "start_time": "2022-04-19T17:45:47.040Z"
   },
   {
    "duration": 9,
    "start_time": "2022-04-19T17:45:47.053Z"
   },
   {
    "duration": 8,
    "start_time": "2022-04-19T17:45:47.064Z"
   },
   {
    "duration": 287,
    "start_time": "2022-04-19T17:45:47.074Z"
   },
   {
    "duration": 7,
    "start_time": "2022-04-19T17:45:47.364Z"
   },
   {
    "duration": 9,
    "start_time": "2022-04-19T17:45:47.372Z"
   },
   {
    "duration": 7,
    "start_time": "2022-04-19T17:45:47.382Z"
   },
   {
    "duration": 38,
    "start_time": "2022-04-19T17:45:47.391Z"
   },
   {
    "duration": 15,
    "start_time": "2022-04-19T17:45:47.430Z"
   },
   {
    "duration": 12,
    "start_time": "2022-04-19T17:45:47.446Z"
   },
   {
    "duration": 51,
    "start_time": "2022-04-19T17:45:47.461Z"
   },
   {
    "duration": 14,
    "start_time": "2022-04-19T17:45:47.524Z"
   },
   {
    "duration": 5,
    "start_time": "2022-04-19T17:45:47.540Z"
   },
   {
    "duration": 56,
    "start_time": "2022-04-19T17:45:47.547Z"
   },
   {
    "duration": 5,
    "start_time": "2022-04-19T17:45:47.624Z"
   },
   {
    "duration": 284,
    "start_time": "2022-04-19T17:45:47.631Z"
   },
   {
    "duration": 16,
    "start_time": "2022-04-19T17:45:47.917Z"
   },
   {
    "duration": 11,
    "start_time": "2022-04-19T17:45:47.935Z"
   },
   {
    "duration": 5,
    "start_time": "2022-04-19T17:45:47.947Z"
   },
   {
    "duration": 14,
    "start_time": "2022-04-19T17:45:47.954Z"
   },
   {
    "duration": 58,
    "start_time": "2022-04-19T17:45:47.970Z"
   },
   {
    "duration": 11,
    "start_time": "2022-04-19T17:45:48.029Z"
   },
   {
    "duration": 365,
    "start_time": "2022-04-19T17:45:48.042Z"
   },
   {
    "duration": 450,
    "start_time": "2022-04-19T17:45:48.409Z"
   },
   {
    "duration": 6,
    "start_time": "2022-04-19T17:45:48.861Z"
   },
   {
    "duration": 11,
    "start_time": "2022-04-19T17:45:48.868Z"
   },
   {
    "duration": 17,
    "start_time": "2022-04-19T17:45:48.880Z"
   },
   {
    "duration": 18,
    "start_time": "2022-04-19T17:45:48.923Z"
   },
   {
    "duration": 23,
    "start_time": "2022-04-19T17:45:48.943Z"
   },
   {
    "duration": 307,
    "start_time": "2022-04-19T17:45:48.969Z"
   },
   {
    "duration": 315,
    "start_time": "2022-04-19T17:45:49.279Z"
   },
   {
    "duration": 2708,
    "start_time": "2022-04-19T17:45:49.596Z"
   },
   {
    "duration": 46,
    "start_time": "2022-04-19T17:45:52.307Z"
   },
   {
    "duration": 365,
    "start_time": "2022-04-19T17:45:52.355Z"
   },
   {
    "duration": 24,
    "start_time": "2022-04-19T17:45:52.724Z"
   },
   {
    "duration": 79,
    "start_time": "2022-04-19T17:45:52.750Z"
   },
   {
    "duration": 360,
    "start_time": "2022-04-19T17:45:52.831Z"
   },
   {
    "duration": 281,
    "start_time": "2022-04-19T17:45:53.193Z"
   },
   {
    "duration": 274,
    "start_time": "2022-04-19T17:45:53.476Z"
   },
   {
    "duration": 13,
    "start_time": "2022-04-19T17:45:53.752Z"
   },
   {
    "duration": 14,
    "start_time": "2022-04-19T17:45:53.767Z"
   },
   {
    "duration": 18,
    "start_time": "2022-04-19T17:45:53.783Z"
   },
   {
    "duration": 10,
    "start_time": "2022-04-19T17:45:53.823Z"
   }
  ],
  "kernelspec": {
   "display_name": "Python 3 (ipykernel)",
   "language": "python",
   "name": "python3"
  },
  "language_info": {
   "codemirror_mode": {
    "name": "ipython",
    "version": 3
   },
   "file_extension": ".py",
   "mimetype": "text/x-python",
   "name": "python",
   "nbconvert_exporter": "python",
   "pygments_lexer": "ipython3",
   "version": "3.9.7"
  },
  "toc": {
   "base_numbering": 1,
   "nav_menu": {},
   "number_sections": true,
   "sideBar": true,
   "skip_h1_title": true,
   "title_cell": "Table of Contents",
   "title_sidebar": "Contents",
   "toc_cell": false,
   "toc_position": {
    "height": "calc(100% - 180px)",
    "left": "10px",
    "top": "150px",
    "width": "165px"
   },
   "toc_section_display": true,
   "toc_window_display": true
  }
 },
 "nbformat": 4,
 "nbformat_minor": 2
}
